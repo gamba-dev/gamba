{
 "cells": [
  {
   "cell_type": "code",
   "execution_count": null,
   "metadata": {},
   "outputs": [],
   "source": [
    "# default_exp about"
   ]
  },
  {
   "cell_type": "markdown",
   "metadata": {},
   "source": [
    "# About\n",
    "\n",
    "> Why write a transaction analytics library?"
   ]
  },
  {
   "cell_type": "code",
   "execution_count": null,
   "metadata": {},
   "outputs": [],
   "source": [
    "#hide\n",
    "from nbdev.showdoc import *"
   ]
  },
  {
   "cell_type": "markdown",
   "metadata": {},
   "source": [
    "Player behaviour tracking research as an academic discipline is growing fast. As operators provide more data to researchers, new analytical methods are being developed and published by researchers from psychology, computer science, economics, and more.\n",
    "\n",
    "Until now, no open-source library exists which meets the needs of this growing field - to replicate studies. This means researchers need to implement other's methods themselves, which, on top of being a labour intensive task, increases the risk of bugs being introduced, and their own work not being replicable.\n",
    "\n",
    "The gamba library aims to provide a collection of methods for reproducing existing work, therefore raising the baseline of the capabilities of researchers in the field - with the ultimate effect of advancing the rate of scientific progress. Although gamba can never be a unified framework for reproducing all work in the field, it can provide new and existing researchers with the opportunity to explore analytical code themselves. New discoveries, approaches, and insights are inevitable taking this approach. By using the library, and sharing your extensions and experience, you will be helping progress our field in a tangible and impactful way, which will help us all contribute to creating more effective consumer protection measures, and better understand new forms of gambling.\n",
    "\n",
    "On top of this, the open-source nature of the gamba library in the context of player behaviour tracking research has several important benefits;\n",
    "\n",
    "- ***reproducibility opposes bias*** - because the library is open source, and because it can replicate studies, researchers who use it inherently promote analytical transparency, decreasing the possibility of hidden bias from funding or stakeholders.\n",
    "\n",
    "- ***transparency promotes learning*** - because the library is open source, all researchers have a lower barrier to entry than ever before to making new discoveries in the field. This means opening the doors for more researchers, more analysts, and better science.\n",
    "\n",
    "- ***methods are available instantly*** - by open sourcing implementations of existing methods, they can be quickly applied to existing data, decreasing the time-to-impact and time-to-replication of academic research.\n",
    "\n",
    "- ***methods can be scrutinised*** - by publishing analytical code, it can be scrutinised by experienced researchers and programmers who can then improve it. This means more efficient, more accurate code than can be achieved alone, improving the quality of everyone's analytical capabilities.\n"
   ]
  }
 ],
 "metadata": {
  "kernelspec": {
   "display_name": "Python 3",
   "language": "python",
   "name": "python3"
  },
  "language_info": {
   "codemirror_mode": {
    "name": "ipython",
    "version": 3
   },
   "file_extension": ".py",
   "mimetype": "text/x-python",
   "name": "python",
   "nbconvert_exporter": "python",
   "pygments_lexer": "ipython3",
   "version": "3.8.5"
  }
 },
 "nbformat": 4,
 "nbformat_minor": 4
}
