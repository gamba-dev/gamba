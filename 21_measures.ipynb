{
 "cells": [
  {
   "cell_type": "code",
   "execution_count": null,
   "metadata": {},
   "outputs": [],
   "source": [
    "# default_exp measures"
   ]
  },
  {
   "cell_type": "markdown",
   "metadata": {},
   "source": [
    "# Measures\n",
    "\n",
    "> Compute behavioural measures from raw transaction data"
   ]
  },
  {
   "cell_type": "markdown",
   "metadata": {},
   "source": [
    "## Overview"
   ]
  },
  {
   "cell_type": "markdown",
   "metadata": {},
   "source": [
    "A behavioural measure is a number derived from a player's transaction data. This data needs to have specific columns depending on the measure you want to calculate. For example, measures in the bet domain require the **bet_size** column. For each of the measures you plan to use, make sure that the data you have in the gamba standard format (see `check_data`) has the correct values."
   ]
  },
  {
   "cell_type": "markdown",
   "metadata": {},
   "source": [
    "Once your data has all of the right columns, the simplest way to get started is to call the `create_measures_table` method below, giving it one or more players bets in the gamba standard format."
   ]
  },
  {
   "cell_type": "code",
   "execution_count": 9,
   "metadata": {},
   "outputs": [],
   "source": [
    "#export\n",
    "import pandas as pd\n",
    "def create_measures_table(all_player_bets, measures, daily=False):\n",
    "    \"Creates a measures table from a collection of bets in the gamba standard format. The second parameter 'measures' should be a list of names from the measures module. See `available_measures` or the table below for currently available options.\"\n",
    "    \n",
    "    # get unique players\n",
    "    unique_players = list(set(all_player_bets['player_id'].values))\n",
    "    \n",
    "    # create holding structure for each of the measures\n",
    "    measures_table_values = [unique_players]\n",
    "    \n",
    "\n",
    "    # for each of the measures\n",
    "    for measure in measures:\n",
    "        all_players_measures = []\n",
    "        \n",
    "        # for each of the players\n",
    "        for player in unique_players:\n",
    "            \n",
    "            player_bets = all_player_bets[all_player_bets['player_id'] == player]\n",
    "            # compute and add to holding structure\n",
    "            this_measure = eval(measure + '(player_bets)')\n",
    "            \n",
    "            all_players_measures.append(this_measure)\n",
    "            \n",
    "        measures_table_values.append(all_players_measures)\n",
    "    \n",
    "    # turn into tidy dataframe\n",
    "    measures_table = pd.DataFrame()\n",
    "    measures_table['player_id'] = unique_players\n",
    "    for x, measure in enumerate(measures):\n",
    "        measures_table[measure] = measures_table_values[x + 1]\n",
    "    \n",
    "    return measures_table"
   ]
  },
  {
   "cell_type": "markdown",
   "metadata": {},
   "source": [
    "> Note: The `create_measures_table` method is perhaps the most useful thing in the entire library."
   ]
  },
  {
   "cell_type": "markdown",
   "metadata": {},
   "source": [
    "## Behavioural Measures"
   ]
  },
  {
   "cell_type": "markdown",
   "metadata": {},
   "source": [
    "Not all measures need the same data to be computed. The gamba library distinguishes between three primary domains (time, cost, and loss), and includes a final *other* domain to include everything else."
   ]
  },
  {
   "cell_type": "markdown",
   "metadata": {},
   "source": [
    "| Time                    | Cost                       | Loss                  | Other                |\n",
    "|-------------------------|----------------------------|-----------------------|----------------------|\n",
    "| `duration`              | `total_wagered`            | `net_loss`            | `theoretical_loss`   |\n",
    "| `frequency`             | `mean_bet_size`            | `percent_loss`        | `median_odds`        |\n",
    "| `number_of_bets`        | `variability`              | `median_loss_per_bet` | `num_providers_used` |\n",
    "| `mean_bets_per_day`     | `trajectory`               |                       |                      |\n",
    "| `intensity`             | `std_bet_sizes`            |                       |                      |\n",
    "| `frequency_raw`         | `mean_wagered_per_session` |                       |                      |\n",
    "| `num_sessions`          | `median_bet_size`          |                       |                      |\n",
    "| `total_play_time`       |                            |                       |                      |\n",
    "| `mean_sessions_per_day` |                            |                       |                      |\n",
    "| `mean_session_length`   |                            |                       |                      |"
   ]
  },
  {
   "cell_type": "markdown",
   "metadata": {},
   "source": [
    "### Time Domain"
   ]
  },
  {
   "cell_type": "markdown",
   "metadata": {},
   "source": [
    "The time domain consists of behavioural measures that can be computed using only the knowledge of when the bets took place. This means using only values from the ***bet_time*** column in the player bet dataframe."
   ]
  },
  {
   "cell_type": "code",
   "execution_count": null,
   "metadata": {},
   "outputs": [],
   "source": [
    "#export\n",
    "def duration(player_bets):\n",
    "    \"The number of days between the first bet and the last.\"\n",
    "    check_measure_data(player_bets, [\"bet_time\"])\n",
    "    player_bets.sort_values(\"bet_time\", inplace=True)\n",
    "    player_bets.reset_index(drop=True, inplace=True)\n",
    "\n",
    "    first_day = player_bets.iloc[0][\"bet_time\"]\n",
    "    last_day = player_bets.iloc[len(player_bets) - 1][\"bet_time\"]\n",
    "    # add one to make it interpret as 'days where betting has occurred'\n",
    "    age_in_days = (last_day.date() - first_day.date()).days + 1\n",
    "    return age_in_days"
   ]
  },
  {
   "cell_type": "code",
   "execution_count": null,
   "metadata": {},
   "outputs": [],
   "source": [
    "#export\n",
    "def frequency(player_bets):\n",
    "    \"The percentage of days within the `duration` that included at least one bet. Note that this method returns the actual percentage value e.g. 75, **not** the raw number of days or values in the interval [0,1].\"\n",
    "    check_measure_data(player_bets, [\"bet_time\"])\n",
    "    player_bets.sort_values(\"bet_time\", inplace=True)\n",
    "    player_bets.reset_index(drop=True, inplace=True)\n",
    "    age_in_days = duration(player_bets)\n",
    "\n",
    "    player_bets[\"bet_date\"] = player_bets[\"bet_time\"].dt.date\n",
    "    first_day = player_bets.iloc[0][\"bet_time\"]\n",
    "\n",
    "    betting_days = 0\n",
    "    for day in range(age_in_days):\n",
    "        current_date = (first_day + datetime.timedelta(days=day)).date()\n",
    "        bets_today = player_bets.iloc[player_bets[\"bet_date\"].values == current_date]\n",
    "        if len(bets_today) != 0:\n",
    "            betting_days += 1\n",
    "\n",
    "    frequency_percentage = (betting_days / age_in_days) * 100\n",
    "    return frequency_percentage"
   ]
  },
  {
   "cell_type": "code",
   "execution_count": null,
   "metadata": {},
   "outputs": [],
   "source": [
    "#export\n",
    "def number_of_bets(player_bets, daily=False):\n",
    "    \"The total number of bets made.\"\n",
    "\n",
    "    if daily:        \n",
    "        check_measure_data(player_bets, [\"bet_count\"])\n",
    "        return player_bets[\"bet_count\"].sum()\n",
    "    \n",
    "    return len(player_bets)"
   ]
  },
  {
   "cell_type": "code",
   "execution_count": null,
   "metadata": {},
   "outputs": [],
   "source": [
    "#export\n",
    "def intensity(player_bets):\n",
    "    \"Mean number of bets per active betting day in first month, if data set contains daily aggregate data.\"\n",
    "\n",
    "    first_day = player_bets.iloc[0][\"bet_time\"]\n",
    "    one_month_later = first_day + datetime.timedelta(days=+30)\n",
    "    first_month_bets = player_bets[player_bets[\"bet_time\"] <= one_month_later]\n",
    "    result = first_month_bets[\"bet_count\"].mean()\n",
    "    return result"
   ]
  },
  {
   "cell_type": "code",
   "execution_count": null,
   "metadata": {},
   "outputs": [],
   "source": [
    "#export\n",
    "def frequency_raw(player_bets):\n",
    "    \"Number of active betting days in first month, if data set contains daily aggregate data.\"\n",
    "    \n",
    "    first_day = player_bets.iloc[0][\"bet_time\"]\n",
    "    one_month_later = first_day + datetime.timedelta(days=+30)\n",
    "    first_month_bets = player_bets[player_bets[\"bet_time\"] <= one_month_later]\n",
    "\n",
    "    return len(first_month_bets)"
   ]
  },
  {
   "cell_type": "code",
   "execution_count": null,
   "metadata": {},
   "outputs": [],
   "source": [
    "#export\n",
    "def num_sessions(player_bets, session_window=20):\n",
    "    \"The number of gambling sessions a player played, where a session is a sequence of bets each within some time (session_window) of the previous bet.\"\n",
    "    \n",
    "    # no need to check_measure_data here as it's done in get_sessions\n",
    "    sessions = get_sessions(player_bets, session_window=session_window)\n",
    "    \n",
    "    return len(sessions)"
   ]
  },
  {
   "cell_type": "code",
   "execution_count": 2,
   "metadata": {},
   "outputs": [],
   "source": [
    "#export\n",
    "import datetime\n",
    "def total_play_time(player_bets, session_window=20):\n",
    "    \"The sum of all session lengths.\"\n",
    "    # first used by Fiedler 2011\n",
    "    \n",
    "    # no need to check_measure_data here as it's done in get_sessions\n",
    "    sessions = get_sessions(player_bets, session_window=session_window)\n",
    "    \n",
    "    play_time = datetime.timedelta(0)\n",
    "    for session in sessions:\n",
    "        start = session['bet_time'].min()\n",
    "        end = session['bet_time'].max()\n",
    "        session_length = end - start\n",
    "    \n",
    "        play_time += session_length\n",
    "    \n",
    "    return play_time"
   ]
  },
  {
   "cell_type": "code",
   "execution_count": 3,
   "metadata": {},
   "outputs": [],
   "source": [
    "#export\n",
    "def mean_sessions_per_day(player_bets, session_window=20):\n",
    "    \"The mean number of sessions per day, computed using the date of the start of each session.\"\n",
    "    \n",
    "    # no need to check_measure_data here as it's done in get_sessions\n",
    "    sessions = get_sessions(player_bets, session_window=session_window)\n",
    "    \n",
    "    session_starts = [df['bet_time'].min().date() for df in sessions]\n",
    "    \n",
    "    unique_starts = set(session_starts)\n",
    "    \n",
    "    return len(sessions) / len(unique_starts)"
   ]
  },
  {
   "cell_type": "code",
   "execution_count": null,
   "metadata": {},
   "outputs": [],
   "source": [
    "#export\n",
    "import numpy as np\n",
    "def mean_session_length(player_bets, session_window=20):\n",
    "    \n",
    "    # no need to check_measure_data here as it's done in get_sessions\n",
    "    sessions = get_sessions(player_bets, session_window=session_window)\n",
    "    \n",
    "    session_lengths = [session['bet_time'].max() - session['bet_time'].min() for session in sessions]\n",
    "    \n",
    "    return np.mean(session_lengths)"
   ]
  },
  {
   "cell_type": "code",
   "execution_count": 5,
   "metadata": {},
   "outputs": [],
   "source": [
    "#export\n",
    "import numpy as np, datetime\n",
    "def mean_play_time_per_day(player_bets):\n",
    "    \"Aggregates daily bets using the `aggergate_bets` function, then computes the lengths of sessions within those days, returning the mean value. Note that this measure may cause trucation in sessions which occur across midnight boundaries.\"\n",
    "    # used in Fiedler 2011 and 2013\n",
    "    daily_bets = aggregate_bets(player_bets, aggregation='daily')\n",
    "    \n",
    "    daily_play_times = []\n",
    "    for days_bets in daily_bets:\n",
    "        total_play_time_today = datetime.timedelta(0)\n",
    "        sessions = get_sessions(days_bets)\n",
    "        for session in sessions:\n",
    "            play_time = session['bet_time'].max() - session['bet_time'].min()\n",
    "            total_play_time_today += play_time\n",
    "        daily_play_times.append(total_play_time_today)\n",
    "            \n",
    "    return np.mean(daily_play_times)"
   ]
  },
  {
   "cell_type": "code",
   "execution_count": null,
   "metadata": {},
   "outputs": [],
   "source": [
    "#export\n",
    "def mean_bets_per_day(player_bets, daily=False):\n",
    "    \"The average (mean) number of bets made on active bett.\"\n",
    "    \n",
    "    if daily:\n",
    "        \n",
    "        age_in_days = duration(player_bets)\n",
    "        frequency_percentage = frequency(player_bets)\n",
    "\n",
    "        betting_days = (frequency_percentage / 100) * age_in_days\n",
    "\n",
    "        mean_bets_per_day = (\n",
    "            number_of_bets(player_bets, daily=True) / betting_days  # taken from LaBrie 2008\n",
    "        )\n",
    "        return mean_bets_per_day\n",
    "    \n",
    "    # otherwise compute regular mean bets per day measure\n",
    "    age_in_days = duration(player_bets)\n",
    "    frequency_percentage = frequency(player_bets)\n",
    "\n",
    "    betting_days = (frequency_percentage / 100) * age_in_days\n",
    "\n",
    "    mean_bets_per_day = len(player_bets) / betting_days  # taken from LaBrie 2008\n",
    "    return mean_bets_per_day"
   ]
  },
  {
   "cell_type": "code",
   "execution_count": 4,
   "metadata": {},
   "outputs": [],
   "source": [
    "#export\n",
    "import numpy as np\n",
    "def median_bets_per_day(player_bets):\n",
    "    \"Aggregates daily bets and returns the median number of bets placed across all active betting days.\"\n",
    "    \n",
    "    daily_bets = aggregate_bets(player_bets, aggregation='daily')\n",
    "    \n",
    "    daily_bet_count = [len(bets) for bets in daily_bets]\n",
    "    \n",
    "    return np.median(daily_bet_count)"
   ]
  },
  {
   "cell_type": "code",
   "execution_count": null,
   "metadata": {},
   "outputs": [],
   "source": [
    "#export\n",
    "import numpy as np\n",
    "def std_bets_per_day(player_bets):\n",
    "    \"Standard deviation of the number of bets placed per active betting day.\"\n",
    "    # used in Braverman and Shaffer 2013\n",
    "    \n",
    "    daily_bets = aggregate_bets(player_bets, aggregation='daily')\n",
    "    \n",
    "    daily_bet_count = [len(bets) for bets in daily_bets]\n",
    "    \n",
    "    return np.std(daily_bet_count)"
   ]
  },
  {
   "cell_type": "markdown",
   "metadata": {},
   "source": [
    "### Cost Domain"
   ]
  },
  {
   "cell_type": "markdown",
   "metadata": {},
   "source": [
    "The cost domain contains all behavioural measures which can be computed using additional values from the ***bet_size*** column. As such, they describe *spending* behaviours as opposed to *engagement* behaviours as above."
   ]
  },
  {
   "cell_type": "code",
   "execution_count": null,
   "metadata": {},
   "outputs": [],
   "source": [
    "#export\n",
    "def total_wagered(player_bets):\n",
    "    \"The total amount wagered (sum of bet sizes).\"\n",
    "    check_measure_data(player_bets, [\"bet_size\"])\n",
    "    return player_bets[\"bet_size\"].sum()"
   ]
  },
  {
   "cell_type": "code",
   "execution_count": null,
   "metadata": {},
   "outputs": [],
   "source": [
    "#export\n",
    "def mean_bet_size(player_bets, daily=False):\n",
    "    \"The average (mean) size of bets.\"\n",
    "    if daily:\n",
    "        check_measure_data(player_bets, [\"bet_size\"])\n",
    "        mean_bet_size = player_bets[\"bet_size\"].sum() / number_of_bets(player_bets, daily=True)\n",
    "        return mean_bet_size\n",
    "        \n",
    "    check_measure_data(player_bets, [\"bet_size\"])\n",
    "    mean_bet_size = player_bets[\"bet_size\"].sum() / len(player_bets)\n",
    "    return mean_bet_size"
   ]
  },
  {
   "cell_type": "code",
   "execution_count": null,
   "metadata": {},
   "outputs": [],
   "source": [
    "#export\n",
    "def variability(player_bets, daily=False):\n",
    "    \"Standard deviation of stake size in first month, if data set contains daily aggregate data.\"\n",
    "    \n",
    "    if daily:\n",
    "        first_day = player_bets.iloc[0][\"bet_time\"]\n",
    "        one_month_later = first_day + datetime.timedelta(days=+30)\n",
    "        first_month_bets = player_bets[player_bets[\"bet_time\"] <= one_month_later]\n",
    "\n",
    "        return first_month_bets[\"bet_size\"].std()"
   ]
  },
  {
   "cell_type": "code",
   "execution_count": null,
   "metadata": {},
   "outputs": [],
   "source": [
    "#export\n",
    "from sklearn.linear_model import LinearRegression\n",
    "import numpy as np\n",
    "def trajectory(player_bets, daily=False, plot=False):\n",
    "    \"Gradient of a linear regression fitted to the sequence of daily aggredated bet sizes.\"\n",
    "    \n",
    "    if daily:\n",
    "        first_day = player_bets.iloc[0][\"bet_time\"]\n",
    "        one_month_later = first_day + datetime.timedelta(days=+30)\n",
    "        first_month_bets = player_bets[player_bets[\"bet_time\"] <= one_month_later]\n",
    "\n",
    "        # first_month_bets['mean_bet_size'] = first_month_bets['bet_size'] / first_month_bets['bet_count']\n",
    "\n",
    "        x = np.array(range(len(first_month_bets))).reshape((-1, 1)) + 1\n",
    "        y = first_month_bets[\"bet_size\"].values\n",
    "\n",
    "        model = LinearRegression().fit(x, y)\n",
    "        r_sq = model.score(x, y)\n",
    "\n",
    "        model_x = x\n",
    "        model_y = model.coef_ * x + model.intercept_\n",
    "\n",
    "        if plot:\n",
    "            plt.figure()\n",
    "            plt.scatter(x, y)\n",
    "            plt.plot(model_x, model_y, color=\"r\")\n",
    "            plt.show()\n",
    "\n",
    "        trajectory = model.coef_[0]\n",
    "        return model.coef_[0]"
   ]
  },
  {
   "cell_type": "code",
   "execution_count": 1,
   "metadata": {},
   "outputs": [],
   "source": [
    "#export\n",
    "def std_bet_sizes(player_bets):\n",
    "    \"Standard deviation of bet sizes, this is a generalised version of `variability`.\"\n",
    "    \n",
    "    check_measure_data(player_bets, ['bet_size'])\n",
    "    \n",
    "    return player_bets['bet_size'].std()"
   ]
  },
  {
   "cell_type": "code",
   "execution_count": 2,
   "metadata": {},
   "outputs": [],
   "source": [
    "#export\n",
    "import numpy as np\n",
    "def mean_wagered_per_session(player_bets, session_window=20):\n",
    "    \"The mean amount wagered in total per session.\"\n",
    "    \n",
    "    sessions = get_sessions(player_bets, session_window=session_window)\n",
    "    check_measure_data(player_bets, ['bet_size'])\n",
    "    \n",
    "    sessions_wagered = [session['bet_size'].sum() for session in sessions]\n",
    "    \n",
    "    return np.mean(sessions_wagered)"
   ]
  },
  {
   "cell_type": "code",
   "execution_count": 4,
   "metadata": {},
   "outputs": [],
   "source": [
    "#export\n",
    "def median_bet_size(player_bets):\n",
    "    \"Median bet size, as used in Xuan 2009\"\n",
    "    \n",
    "    check_measures_data(player_bets, ['bet_size'])\n",
    "    \n",
    "    return player_bets['bet_size'].median()"
   ]
  },
  {
   "cell_type": "code",
   "execution_count": 6,
   "metadata": {},
   "outputs": [],
   "source": [
    "#export\n",
    "def min_bet_size(player_bets):\n",
    "    \"The smallest bet placed by the player.\"\n",
    "    \n",
    "    check_measures_data(player_bets, ['bet_size'])\n",
    "    \n",
    "    return player_bets['bet_size'].min()"
   ]
  },
  {
   "cell_type": "code",
   "execution_count": 7,
   "metadata": {},
   "outputs": [],
   "source": [
    "#export\n",
    "def max_bet_size(player_bets):\n",
    "    \"The largest bet placed by the player\"\n",
    "    \n",
    "    check_measures_data(player_bets, ['bet_size'])\n",
    "    \n",
    "    return player_bets['bet_size'].max()"
   ]
  },
  {
   "cell_type": "markdown",
   "metadata": {},
   "source": [
    "### Loss Domain"
   ]
  },
  {
   "cell_type": "markdown",
   "metadata": {},
   "source": [
    "The loss domain includes all behavioural measures which require the additional information of the size of the payout received as a result of each bet. This data should be held in the ***payout_size*** column if available."
   ]
  },
  {
   "cell_type": "code",
   "execution_count": null,
   "metadata": {},
   "outputs": [],
   "source": [
    "#export\n",
    "def net_loss(player_bets):\n",
    "    \"The net amount lost (sum of bet sizes minus sum of payout sizes). This is functionally identical to the negative of total amount won\"\n",
    "    \n",
    "    check_measure_data(player_bets, [\"bet_size\", \"payout_size\"])\n",
    "    net_loss_value = player_bets[\"bet_size\"].sum() - player_bets[\"payout_size\"].sum()\n",
    "    return net_loss_value"
   ]
  },
  {
   "cell_type": "code",
   "execution_count": null,
   "metadata": {},
   "outputs": [],
   "source": [
    "#export\n",
    "def percent_loss(player_bets):\n",
    "    \"The `net_loss` as a percentage of `total_wagered`.\"\n",
    "\n",
    "    net_loss_value = net_loss(player_bets)\n",
    "    total_wagered_value = total_wagered(player_bets)\n",
    "    percent_loss_value = (net_loss_value / total_wagered_value) * 100\n",
    "    return percent_loss_value"
   ]
  },
  {
   "cell_type": "code",
   "execution_count": 5,
   "metadata": {},
   "outputs": [],
   "source": [
    "#export\n",
    "def median_loss_per_bet(player_bets):\n",
    "    \"The median amount lost per bet (bet size minus payout).\"\n",
    "    \n",
    "    player_bets['bet_loss'] = player_bets['bet_size'] - player_bets['payout_size']\n",
    "    \n",
    "    return player_bets['bet_loss'].median()"
   ]
  },
  {
   "cell_type": "markdown",
   "metadata": {},
   "source": [
    "### Other Domain"
   ]
  },
  {
   "cell_type": "markdown",
   "metadata": {},
   "source": [
    "All measures not in the root, bet, or loss domains, require some additional information such as the house edge for each bet, the game being played, etc. These are currently broadly grouped into the 'other' domain' but as the library (and academic)'s capabilities grow, this domain will likely be split further."
   ]
  },
  {
   "cell_type": "code",
   "execution_count": null,
   "metadata": {},
   "outputs": [],
   "source": [
    "#export\n",
    "def theoretical_loss(player_bets):\n",
    "    \"The product of bet size and house advantage, also referred to as the gross gaming revenue.\"\n",
    "    \n",
    "    check_measure_data(player_bets, ['bet_size','house_edge'])\n",
    "    \n",
    "    unique_edges = player_bets['house_edge'].unique()\n",
    "    \n",
    "    tl_measure = 0\n",
    "    for edge in unique_edges:\n",
    "        bets_with_this_edge = player_bets[player_bets['house_edge'] == edge]\n",
    "        \n",
    "        tl_measure += bets_with_this_edge['bet_size'].sum() * (edge / 100)\n",
    "    \n",
    "    return tl_measure"
   ]
  },
  {
   "cell_type": "code",
   "execution_count": 3,
   "metadata": {},
   "outputs": [],
   "source": [
    "#export\n",
    "def median_odds(player_bets):\n",
    "    \"Median odds per bet, as used in Xuan 2009\"\n",
    "    \n",
    "    check_measures_data(player_bets, ['decimal_odds'])\n",
    "    \n",
    "    return player_bets['decimal_odds'].median()"
   ]
  },
  {
   "cell_type": "code",
   "execution_count": 6,
   "metadata": {},
   "outputs": [],
   "source": [
    "#export\n",
    "def num_providers_used(player_bets): # regarding operators, not game types\n",
    "    \"The number of different gambling game providers used by the player.\"\n",
    "    \n",
    "    check_measures_data(player_bets, ['provider'])\n",
    "    \n",
    "    return len(player_bets['provider'].unique())"
   ]
  },
  {
   "cell_type": "code",
   "execution_count": 10,
   "metadata": {},
   "outputs": [],
   "source": [
    "#export\n",
    "import numpy as np\n",
    "def mean_game_types_per_day(player_bets):\n",
    "    \"The mean number of unique game types played per active betting day. Note this does not account for the number of each game type played, only that they have been played at least once.\"\n",
    "    \n",
    "    daily_bets = aggregate_bets(player_bets, aggregation='daily')\n",
    "    \n",
    "    daily_game_types = [len(bets['game_type'].unique()) for bets in daily_bets]\n",
    "    \n",
    "    return np.mean(daily_game_types)"
   ]
  },
  {
   "cell_type": "markdown",
   "metadata": {},
   "source": [
    "## Study Collections"
   ]
  },
  {
   "cell_type": "markdown",
   "metadata": {},
   "source": [
    "The measures module also contains some convenience methods which accept full data sets of players bets and compute the collection of behavioural measures used in a given study."
   ]
  },
  {
   "cell_type": "code",
   "execution_count": null,
   "metadata": {},
   "outputs": [],
   "source": [
    "#export\n",
    "from tqdm import tqdm\n",
    "import datetime, pandas as pd\n",
    "def calculate_labrie_measures(all_player_bets, savedir=\"\", filename=\"gamba_labrie_measures.csv\", loud=False, daily=True,):\n",
    "    \"Calculates the set of measures described in LaBrie et al's work in 2008 on casino gamblers. These measures include the durations, frequencies, number of bets, bets per day, value per bet (eth), total amount wagered, net loss, and percent loss for each player. As this method sits in the studies module, it accepts a list of dataframes representing each player's bets as input. By default, this method saves the resulting dataframe of each player's measures to 'gamba_labrie_measures.csv'. Be advised: this method can take some time for large numbers of players, the 'loud' parameter can be set to True to print out updates every 200 players.\"\n",
    "\n",
    "    pd.options.mode.chained_assignment = None # supress setwithcopy warnings\n",
    "    \n",
    "    player_id = []\n",
    "    all_duration = []\n",
    "    all_frequency = []\n",
    "    all_number_of_bets = []\n",
    "    all_mean_bets_per_day = []\n",
    "    all_mean_bet_size = []\n",
    "    all_total_wagered = []\n",
    "    all_net_loss = []\n",
    "    all_percent_loss = []\n",
    "\n",
    "    unique_players = list(set(all_player_bets[\"player_id\"]))\n",
    "\n",
    "    for i in tqdm(range(len(unique_players))):\n",
    "        player_bets = all_player_bets[all_player_bets[\"player_id\"] == unique_players[i]]\n",
    "        player_id.append(player_bets.iloc[0][\"player_id\"])\n",
    "        all_duration.append(duration(player_bets))\n",
    "        all_frequency.append(frequency(player_bets))\n",
    "        if daily:\n",
    "            all_number_of_bets.append(number_of_bets(player_bets, daily=True))\n",
    "            all_mean_bets_per_day.append(mean_bets_per_day(player_bets, daily=True))\n",
    "            all_mean_bet_size.append(mean_bet_size(player_bets, daily=True))\n",
    "        else:\n",
    "            all_number_of_bets.append(number_of_bets(player_bets))\n",
    "            all_mean_bets_per_day.append(mean_bets_per_day(player_bets))\n",
    "            all_mean_bet_size.append(mean_bet_size(player_bets))\n",
    "        all_total_wagered.append(total_wagered(player_bets))\n",
    "        all_net_loss.append(net_loss(player_bets))\n",
    "        all_percent_loss.append(percent_loss(player_bets))\n",
    "\n",
    "    labrie_dict = {\n",
    "        \"player_id\": player_id,\n",
    "        \"duration\": all_duration,\n",
    "        \"frequency\": all_frequency,\n",
    "        \"num_bets\": all_number_of_bets,\n",
    "        \"mean_bets_per_day\": all_mean_bets_per_day,\n",
    "        \"mean_bet_size\": all_mean_bet_size,\n",
    "        \"total_wagered\": all_total_wagered,\n",
    "        \"net_loss\": all_net_loss,\n",
    "        \"percent_loss\": all_percent_loss,\n",
    "    }\n",
    "\n",
    "    labrie_measures = pd.DataFrame.from_dict(labrie_dict)\n",
    "    labrie_measures.to_csv(savedir + filename, index=False)\n",
    "\n",
    "    if loud:\n",
    "        print(\"LaBrie measures saved\")\n",
    "\n",
    "    return labrie_measures"
   ]
  },
  {
   "cell_type": "code",
   "execution_count": null,
   "metadata": {},
   "outputs": [],
   "source": [
    "#export\n",
    "def calculate_braverman_measures(all_player_bets, savedir=\"\", loud=False):\n",
    "    \"Calculates the set of measures described in Braverman and Shaffer's work in 2010 on high risk internet gamblers. These measures include the frequency, intensity, variability, and trajectories of each player. As this method sits in the studies module, it accepts a list of dataframes representing each player's bets as input. By default, this method saves the resulting dataframe of each player's measures to 'gamba_braverman_measures.csv'.\"\n",
    "\n",
    "    pd.options.mode.chained_assignment = None # supress setwithcopy warnings\n",
    "    \n",
    "    player_id = []\n",
    "\n",
    "    intensities = []\n",
    "    variabilities = []\n",
    "    frequencies = []\n",
    "    trajectories = []\n",
    "\n",
    "    sum_of_stakes = []\n",
    "    total_num_bets = []\n",
    "    mean_bet_sizes = []\n",
    "    durations = []\n",
    "    net_losses = []\n",
    "\n",
    "    unique_players = list(set(all_player_bets[\"player_id\"]))\n",
    "\n",
    "    for i in tqdm(range(len(unique_players))):\n",
    "        player_bets = all_player_bets[all_player_bets[\"player_id\"] == unique_players[i]]\n",
    "\n",
    "        player_id.append(player_bets.iloc[0][\"player_id\"])\n",
    "        intensities.append(intensity(player_bets))\n",
    "        frequencies.append(frequency(player_bets))\n",
    "        variabilities.append(variability(player_bets, daily=True))\n",
    "        trajectories.append(trajectory(player_bets, daily=True))\n",
    "\n",
    "        sum_of_stakes.append(player_bets[\"bet_size\"].sum())\n",
    "        total_num_bets.append(player_bets[\"bet_count\"].sum())\n",
    "        mean_bet_sizes.append(\n",
    "            player_bets[\"bet_size\"].sum() / player_bets[\"bet_count\"].sum()\n",
    "        )\n",
    "        durations.append(duration(player_bets))\n",
    "        net_losses.append(net_loss(player_bets))\n",
    "\n",
    "    braverman_dict = {\n",
    "        \"player_id\": player_id,\n",
    "        \"intensity\": intensities,\n",
    "        \"frequency\": frequencies,\n",
    "        \"variability\": variabilities,\n",
    "        \"trajectory\": trajectories,\n",
    "        \"sum_of_stakes\": sum_of_stakes,\n",
    "        \"total_num_bets\": total_num_bets,\n",
    "        \"mean_bet_size\": mean_bet_sizes,\n",
    "        \"duration\": durations,\n",
    "        \"net_loss\": net_losses,\n",
    "    }\n",
    "\n",
    "    braverman_measures = pd.DataFrame.from_dict(braverman_dict)\n",
    "    braverman_measures.to_csv(savedir + \"gamba_braverman_measures.csv\", index=False)\n",
    "\n",
    "    return braverman_measures"
   ]
  },
  {
   "cell_type": "markdown",
   "metadata": {},
   "source": [
    "## Utility Functions"
   ]
  },
  {
   "cell_type": "markdown",
   "metadata": {},
   "source": [
    "This module also contains a utility function for standardising each of the measures in a measures table."
   ]
  },
  {
   "cell_type": "code",
   "execution_count": 2,
   "metadata": {},
   "outputs": [],
   "source": [
    "#export\n",
    "def available_measures():\n",
    "    \"Returns a list of valid measures that the gamba library can compute. This list can be used in whole or in part by the `create_measures_table` method to compute these measures across one or more players bets.\"\n",
    "    return ['duration','frequency','number_of_bets','mean_bets_per_day','intensity','frequency_raw','total_wagered','mean_bet_size','variability','trajectory','std_bet_sizes','net_loss','percent_loss']"
   ]
  },
  {
   "cell_type": "code",
   "execution_count": 1,
   "metadata": {},
   "outputs": [],
   "source": [
    "#export\n",
    "def check_measure_data(player_bets, required_columns):\n",
    "    \"Compares the columns found in a dataframe of player bets to a supplied list of column names. If any of the required_column names are not found, an exception is raised reporting the error.\"\n",
    "    \n",
    "    for column in required_columns:\n",
    "        if column not in player_bets.columns:\n",
    "            exception_string = (\n",
    "                \"Column '\" + column + \"' missing from provided dataframe.\"\n",
    "            )\n",
    "            raise Exception(exception_string)"
   ]
  },
  {
   "cell_type": "code",
   "execution_count": 1,
   "metadata": {},
   "outputs": [],
   "source": [
    "#export\n",
    "import datetime\n",
    "def get_sessions(player_bets, session_window=30):\n",
    "    \"Splits a single players bet dataframe into a collection of dataframes, each representing a single session. The session_window parameter determines the maximum number of minutes between bets for them to be considered part of the same session.\"\n",
    "    check_measure_data(player_bets, ['bet_time'])\n",
    "    \n",
    "    elapsed_times = player_bets['bet_time'].diff()\n",
    "    \n",
    "    session_starts = [True if x> datetime.timedelta(minutes=session_window) else False for x in elapsed_times]\n",
    "    \n",
    "    session_ids = []\n",
    "    current_session = 1\n",
    "    for x in session_starts:\n",
    "        if x:\n",
    "            current_session += 1\n",
    "        session_ids.append(current_session)\n",
    "    \n",
    "    player_bets['session_id'] = session_ids\n",
    "    \n",
    "    sessions = [x for _, x in player_bets.groupby(player_bets['session_id'])]\n",
    "    \n",
    "    return sessions"
   ]
  },
  {
   "cell_type": "code",
   "execution_count": null,
   "metadata": {},
   "outputs": [],
   "source": [
    "#export\n",
    "import scipy.stats\n",
    "def standardise_measures_table(measures_table):\n",
    "    \"Standardises all measures columns in a measures table by applying the scipy.stats.zscore function to each column. This is useful for column-wise comparisons and some clustering methods, but use with caution!\"\n",
    "\n",
    "    colnames = list(measures_table.columns)[1:]\n",
    "\n",
    "    standardised_table = pd.DataFrame()\n",
    "    standardised_table[\"player_id\"] = measures_table[\"player_id\"].values\n",
    "    for col in colnames:\n",
    "        standardised_table[col] = scipy.stats.zscore(measures_table[col].values)\n",
    "\n",
    "    return standardised_table"
   ]
  },
  {
   "cell_type": "code",
   "execution_count": null,
   "metadata": {},
   "outputs": [],
   "source": [
    "#export\n",
    "def split_measures_table(measures_table, frac=0.7, loud=False):\n",
    "    \"Splits a measures table into two randomly selected groups. This is useful for machine learning methods where a train-test split is needed, and uses the Pandas library's sample method.\"\n",
    "\n",
    "    measures_table.drop(['player_id'], axis=1)\n",
    "    train_table = measures_table.sample(frac=frac) \n",
    "    test_table = measures_table.drop(train_table.index)\n",
    "\n",
    "    if loud:\n",
    "        print('train:test\\n', len(train_table),':',len(test_table), 'ready')\n",
    "\n",
    "    return train_table, test_table"
   ]
  },
  {
   "cell_type": "code",
   "execution_count": 8,
   "metadata": {},
   "outputs": [],
   "source": [
    "#export\n",
    "import math, datetime, numpy as np\n",
    "from dateutil.relativedelta import relativedelta\n",
    "def aggregate_bets(player_bets, aggregation='daily'):\n",
    "    \"Splits a single players bet dataframe into aggregates e.g. daily bets, weekly bets, or monthly bets. The aggregation parameter can be 'daily', 'weekly', or 'monthly' to compute these different aggregations. Note that all aggregations start from the calendar date of the first bet, so monthly aggregates would be the first month of betting, second month of betting, etc, as opposed to January bets, February bets, etc.\"\n",
    "    \n",
    "    check_measure_data(player_bets, ['bet_time'])\n",
    "    \n",
    "    aggregations = [] # a collection of dataframes each corresponding to a level of aggregation\n",
    "    \n",
    "    if aggregation == 'none':\n",
    "        return [player_bets]\n",
    "    \n",
    "    elif aggregation == 'daily':\n",
    "        player_bets['bet_date'] = player_bets['bet_time'].dt.date\n",
    "        playing_dates = set(player_bets['bet_date'].values)\n",
    "        \n",
    "        for day in playing_dates:\n",
    "            bets_on_day = player_bets[player_bets['bet_time'].dt.date == day]\n",
    "            aggregations.append(bets_on_day)\n",
    "        \n",
    "        return aggregations\n",
    "    \n",
    "    elif aggregation == 'weekly':\n",
    "        player_bets['bet_date'] = player_bets['bet_time'].dt.date\n",
    "        current_day = player_bets['bet_date'].min()\n",
    "        last_day = player_bets['bet_date'].max()\n",
    "        \n",
    "        num_weeks = math.ceil((last_day - current_day).days / 7)\n",
    "        \n",
    "        for week in range(num_weeks):\n",
    "            end_of_week = current_day + datetime.timedelta(days=7)\n",
    "            \n",
    "            print('getting bets between', current_day, 'and', end_of_week)\n",
    "            bets_this_week = player_bets[(player_bets['bet_date'] >= current_day) & (player_bets['bet_date'] < end_of_week)]\n",
    "            current_day = end_of_week\n",
    "            \n",
    "            aggregations.append(bets_this_week)\n",
    "            \n",
    "            return aggregations\n",
    "\n",
    "    elif aggregation == 'monthly':\n",
    "        player_bets['bet_date'] = player_bets['bet_time'].dt.date\n",
    "        current_day = player_bets['bet_date'].min()\n",
    "        last_day = player_bets['bet_date'].max()\n",
    "        \n",
    "        while current_day < last_day:\n",
    "            end_of_month = current_day + relativedelta(months=1)\n",
    "            \n",
    "            print('getting bets between', current_day, 'and', end_of_month)\n",
    "            bets_this_month = player_bets[(player_bets['bet_date'] >= current_day) & (player_bets['bet_date'] < end_of_month)]\n",
    "            current_day = end_of_month\n",
    "            \n",
    "            aggregations.append(bets_this_month)\n",
    "            \n",
    "            return aggregations\n",
    "        \n",
    "    else:\n",
    "        raise Exception('aggregation provided does not match, must be daily, weekly, or monthly')"
   ]
  },
  {
   "cell_type": "markdown",
   "metadata": {},
   "source": [
    "## References"
   ]
  },
  {
   "cell_type": "markdown",
   "metadata": {},
   "source": [
    "{% bibliography --cited %}"
   ]
  }
 ],
 "metadata": {
  "kernelspec": {
   "display_name": "Python 3",
   "language": "python",
   "name": "python3"
  },
  "language_info": {
   "codemirror_mode": {
    "name": "ipython",
    "version": 3
   },
   "file_extension": ".py",
   "mimetype": "text/x-python",
   "name": "python",
   "nbconvert_exporter": "python",
   "pygments_lexer": "ipython3",
   "version": "3.8.5"
  }
 },
 "nbformat": 4,
 "nbformat_minor": 4
}
