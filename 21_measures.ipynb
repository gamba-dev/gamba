{
 "cells": [
  {
   "cell_type": "code",
   "execution_count": null,
   "metadata": {},
   "outputs": [],
   "source": [
    "# default_exp measures"
   ]
  },
  {
   "cell_type": "markdown",
   "metadata": {},
   "source": [
    "# Measures\n",
    "\n",
    "> Compute behavioural measures from raw transaction data"
   ]
  },
  {
   "cell_type": "markdown",
   "metadata": {},
   "source": [
    "## Overview"
   ]
  },
  {
   "cell_type": "markdown",
   "metadata": {},
   "source": [
    "A behavioural measure is a number derived from a player's transaction data. This data needs to have specific columns depending on the measure you want to calculate. For example, measures in the bet domain require the **bet_size** column. For each of the measures you plan to use, make sure that the data you have in the gamba standard format (see `check_data`) has the correct values."
   ]
  },
  {
   "cell_type": "markdown",
   "metadata": {},
   "source": [
    "Once your data has all of the right columns, the simplest way to get started is to call the `create_measures_table` method below, giving it one or more players bets in the gamba standard format."
   ]
  },
  {
   "cell_type": "code",
   "execution_count": 9,
   "metadata": {},
   "outputs": [],
   "source": [
    "#export\n",
    "import pandas as pd\n",
    "def create_measures_table(all_player_bets, measures, daily=False):\n",
    "    \"Creates a measures table from a collection of bets in the gamba standard format. The second parameter 'measures' should be a list of names from the measures module. See `available_measures` or the table below for currently available options.\"\n",
    "    \n",
    "    # get unique players\n",
    "    unique_players = list(set(all_player_bets['player_id'].values))\n",
    "    \n",
    "    # create holding structure for each of the measures\n",
    "    measures_table_values = [unique_players]\n",
    "    \n",
    "\n",
    "    # for each of the measures\n",
    "    for measure in measures:\n",
    "        all_players_measures = []\n",
    "        \n",
    "        # for each of the players\n",
    "        for player in unique_players:\n",
    "            \n",
    "            player_bets = all_player_bets[all_player_bets['player_id'] == player]\n",
    "            # compute and add to holding structure\n",
    "            this_measure = eval(measure + '(player_bets)')\n",
    "            \n",
    "            all_players_measures.append(this_measure)\n",
    "            \n",
    "        measures_table_values.append(all_players_measures)\n",
    "    \n",
    "    # turn into tidy dataframe\n",
    "    measures_table = pd.DataFrame()\n",
    "    measures_table['player_id'] = unique_players\n",
    "    for x, measure in enumerate(measures):\n",
    "        measures_table[measure] = measures_table_values[x + 1]\n",
    "    \n",
    "    return measures_table"
   ]
  },
  {
   "cell_type": "markdown",
   "metadata": {},
   "source": [
    "> Note: The `create_measures_table` method is perhaps the most useful thing in the entire library."
   ]
  },
  {
   "cell_type": "markdown",
   "metadata": {},
   "source": [
    "## Behavioural Measures"
   ]
  },
  {
   "cell_type": "markdown",
   "metadata": {},
   "source": [
    "Not all measures need the same data to be computed. The gamba library distinguishes between three primary domains (time, cost, and loss), and includes a final *other* domain to include everything else."
   ]
  },
  {
   "cell_type": "markdown",
   "metadata": {},
   "source": [
    "| **Time**                       | **Cost**                               | **Loss**                      | **Other**                 |\n",
    "|--------------------------------|----------------------------------------|-------------------------------|---------------------------|\n",
    "| `duration`                     | `total_wagered`                        | `net_loss`                    | `theoretical_loss`        |\n",
    "| `frequency`                    | `mean_bet_size`                        | `percent_loss`                | `mean_odds_per_bet`       |\n",
    "| `frequency_percent`            | `median_bet_size`                      | `payout_bet_count_ratio`      | `median_odds_per_bet`     |\n",
    "| `number_of_bets`               | `max_bet`                              | `payout_bet_size_ratio`       | `num_providers_used`      |\n",
    "| `mean_bets_per_day`            | `min_bet`                              | `mean_net_loss_per_session`   | `mean_game_types_per_day` |\n",
    "| `median_bets_per_day`          | `bet_size_range`                       | `median_net_loss_per_session` |                           |\n",
    "| `num_sessions`                 | `bet_size_deviation`                   | `sum_of_payouts`              |                           |\n",
    "| `total_play_time`              | `trajectory`                           | `relative_big_win`            |                           |\n",
    "| `mean_sessions_per_day`        | `mean_amount_wagered_per_day`          | `big_win`                     |                           |\n",
    "| `median_sessions_per_day`      | `median_amount_wagered_per_day`        | `mean_payout_size`            |                           |\n",
    "| `mean_play_time`               | `amount_wagered_per_day_variance`      | `median_payout_size`          |                           |\n",
    "| `median_play_time`             | `mean_amount_wagered_per_session`      | `overall_binary_loser`        |                           |\n",
    "| `mean_bets_per_day_aggregated` | `median_amount_wagered_per_session`    | `clamped_net_win`             |                           |\n",
    "| `median_bets_per_day`          | `total_amount_wagered_across_duration` | `net_loss_on_last_day`        |                           |\n",
    "| `num_bets_deviation_per_day`   | `amount_wagered_per_session_variance`  | `mean_loss_per_bet`           |                           |\n",
    "| `inactive_day_streak_variance` | `bet_size_trajectory`                  | `median_loss_per_bet`         |                           |\n",
    "| `persistence`                  |                                        |                               |                           |\n",
    "| `bet_count_trajectory`         |                                        |                               |                           |\n",
    "| `mean_bets_per_session`        |                                        |                               |                           |\n",
    "| `median_bets_per_session`      |                                        |                               |                           |\n",
    "| `bets_per_session_variance`    |                                        |                               |                           |\n",
    "| `session_duration_variance`    |                                        |                               |                           |\n",
    "| `session_duration_trajectory`  |                                        |                               |                           |\n",
    "| `sawtooth_occurances`          |                                        |                               |                           |\n",
    "| `active_day_trajectory`        |                                        |                               |                           |"
   ]
  },
  {
   "cell_type": "markdown",
   "metadata": {},
   "source": [
    "### Time Domain"
   ]
  },
  {
   "cell_type": "markdown",
   "metadata": {},
   "source": [
    "The time domain consists of behavioural measures that can be computed using only the knowledge of when the bets took place. This means using only values from the ***bet_time*** column in the player bet dataframe."
   ]
  },
  {
   "cell_type": "code",
   "execution_count": null,
   "metadata": {},
   "outputs": [],
   "source": [
    "#export\n",
    "def duration(player_bets):\n",
    "    \"The number of days between the first bet and the last.\"\n",
    "    check_measure_data(player_bets, [\"bet_time\"])\n",
    "    player_bets.sort_values(\"bet_time\", inplace=True)\n",
    "    player_bets.reset_index(drop=True, inplace=True)\n",
    "\n",
    "    first_day = player_bets.iloc[0][\"bet_time\"]\n",
    "    last_day = player_bets.iloc[len(player_bets) - 1][\"bet_time\"]\n",
    "    # add one to make it interpret as 'days where betting has occurred'\n",
    "    age_in_days = (last_day.date() - first_day.date()).days + 1\n",
    "    return age_in_days"
   ]
  },
  {
   "cell_type": "code",
   "execution_count": null,
   "metadata": {},
   "outputs": [],
   "source": [
    "#export\n",
    "def frequency(player_bets):\n",
    "    \"The number of days that included at least one bet. Note that this method returns the raw number of days.\"\n",
    "    check_measure_data(player_bets, [\"bet_time\"])\n",
    "    \n",
    "    player_bets.sort_values(\"bet_time\", inplace=True)\n",
    "    player_bets.reset_index(drop=True, inplace=True)\n",
    "\n",
    "    betting_dates = player_bets[\"bet_time\"].dt.date\n",
    "\n",
    "    return len(betting_dates.unique())\n",
    "\n",
    "def frequency_aggregated(player_bets):\n",
    "    \"Number of active betting days in first month, if data set contains daily aggregate data.\"\n",
    "    \n",
    "    first_day = player_bets.iloc[0][\"bet_time\"]\n",
    "    one_month_later = first_day + datetime.timedelta(days=+30)\n",
    "    first_month_bets = player_bets[player_bets[\"bet_time\"] <= one_month_later]\n",
    "\n",
    "    return len(first_month_bets)"
   ]
  },
  {
   "cell_type": "code",
   "execution_count": null,
   "metadata": {},
   "outputs": [],
   "source": [
    "#export\n",
    "def frequency_percent(player_bets):\n",
    "    \"The percentage of days within the `duration` that included at least one bet. Note that this method returns the actual percentage value e.g. 75, **not** the raw number of days or values in the interval [0,1].\"\n",
    "    check_measure_data(player_bets, [\"bet_time\"])\n",
    "    player_bets.sort_values(\"bet_time\", inplace=True)\n",
    "    player_bets.reset_index(drop=True, inplace=True)\n",
    "    age_in_days = duration(player_bets)\n",
    "\n",
    "    betting_dates = player_bets[\"bet_time\"].dt.date\n",
    "    first_day = player_bets.iloc[0][\"bet_time\"]\n",
    "\n",
    "    betting_days = 0\n",
    "    for day in range(age_in_days):\n",
    "        current_date = (first_day + datetime.timedelta(days=day)).date()\n",
    "        bets_today = player_bets.iloc[betting_dates.values == current_date]\n",
    "        if len(bets_today) != 0:\n",
    "            betting_days += 1\n",
    "\n",
    "    frequency_percentage = (betting_days / age_in_days) * 100\n",
    "    return frequency_percentage"
   ]
  },
  {
   "cell_type": "code",
   "execution_count": null,
   "metadata": {},
   "outputs": [],
   "source": [
    "#export\n",
    "def number_of_bets(player_bets, daily=False):\n",
    "    \"The total number of bets made.\"\n",
    "\n",
    "    if daily:        \n",
    "        check_measure_data(player_bets, [\"bet_count\"])\n",
    "        return player_bets[\"bet_count\"].sum()\n",
    "    \n",
    "    return len(player_bets)"
   ]
  },
  {
   "cell_type": "code",
   "execution_count": null,
   "metadata": {},
   "outputs": [],
   "source": [
    "#export\n",
    "def mean_bets_per_day_aggregated(player_bets):\n",
    "    \"Mean number of bets per active betting day in first month (intensity), if data set contains daily aggregate data.\"\n",
    "\n",
    "    first_day = player_bets.iloc[0][\"bet_time\"]\n",
    "    one_month_later = first_day + datetime.timedelta(days=+30)\n",
    "    first_month_bets = player_bets[player_bets[\"bet_time\"] <= one_month_later]\n",
    "    result = first_month_bets[\"bet_count\"].mean()\n",
    "    return result\n",
    "\n",
    "def mean_bets_per_day(player_bets):\n",
    "    days = get_daily_bets(player_bets)\n",
    "    daily_counts = [len(day) for day in days]\n",
    "    return np.mean(daily_counts)\n",
    "\n",
    "def median_bets_per_day(player_bets):\n",
    "    days = get_daily_bets(player_bets)\n",
    "    daily_counts = [len(day) for day in days]\n",
    "    return np.median(daily_counts)"
   ]
  },
  {
   "cell_type": "code",
   "execution_count": null,
   "metadata": {},
   "outputs": [],
   "source": [
    "#export\n",
    "def num_sessions(player_bets, session_window=20):\n",
    "    \"The number of gambling sessions a player played, where a session is a sequence of bets each within some time (session_window) of the previous bet.\"\n",
    "    \n",
    "    # no need to check_measure_data here as it's done in get_sessions\n",
    "    sessions = get_sessions(player_bets, session_window=session_window)\n",
    "    \n",
    "    return len(sessions)"
   ]
  },
  {
   "cell_type": "code",
   "execution_count": 2,
   "metadata": {},
   "outputs": [],
   "source": [
    "#export\n",
    "import datetime\n",
    "def total_play_time(player_bets, session_window=20):\n",
    "    \"The sum of all session lengths.\"\n",
    "    # first used by Fiedler 2011\n",
    "    \n",
    "    # no need to check_measure_data here as it's done in get_sessions\n",
    "    sessions = get_sessions(player_bets, session_window=session_window)\n",
    "    \n",
    "    play_time = datetime.timedelta(0)\n",
    "    for session in sessions:\n",
    "        start = session['bet_time'].min()\n",
    "        end = session['bet_time'].max()\n",
    "        session_length = end - start\n",
    "    \n",
    "        play_time += session_length\n",
    "    \n",
    "    return play_time"
   ]
  },
  {
   "cell_type": "code",
   "execution_count": null,
   "metadata": {},
   "outputs": [],
   "source": [
    "#export\n",
    "def mean_sessions_per_day(player_bets):\n",
    "    daily_bets = get_daily_bets(player_bets)\n",
    "    \n",
    "    sessions_per_day = []\n",
    "    for day in daily_bets:\n",
    "        sessions = get_sessions(day)\n",
    "        sessions_per_day.append(len(sessions))\n",
    "    \n",
    "    return np.mean(sessions_per_day)\n",
    "    \n",
    "\n",
    "def median_sessions_per_day(player_bets):\n",
    "    daily_bets = get_daily_bets(player_bets)\n",
    "    \n",
    "    sessions_per_day = []\n",
    "    for day in daily_bets:\n",
    "        sessions = get_sessions(day)\n",
    "        sessions_per_day.append(len(sessions))\n",
    "    \n",
    "    return np.median(sessions_per_day)"
   ]
  },
  {
   "cell_type": "code",
   "execution_count": null,
   "metadata": {},
   "outputs": [],
   "source": [
    "#export\n",
    "import numpy as np\n",
    "def mean_session_duration(player_bets):\n",
    "    sessions = get_sessions(player_bets)\n",
    "    session_durations = [session['bet_time'].max() - session['bet_time'].min() for session in sessions]\n",
    "    return np.mean(session_durations)\n",
    "\n",
    "def median_session_duration(player_bets):\n",
    "    sessions = get_sessions(player_bets)\n",
    "    session_durations = [session['bet_time'].max() - session['bet_time'].min() for session in sessions]\n",
    "    return np.median(session_durations)"
   ]
  },
  {
   "cell_type": "code",
   "execution_count": 5,
   "metadata": {},
   "outputs": [],
   "source": [
    "#export\n",
    "import numpy as np\n",
    "\n",
    "def mean_play_time(player_bets):\n",
    "    # Computes total play time per day (UTC), returning the mean of those values.\n",
    "    tpt = total_play_time(player_bets)\n",
    "    dur = duration(player_bets)    \n",
    "    return tpt/dur\n",
    "\n",
    "def median_play_time(player_bets):\n",
    "    # Computes total play time per day (UTC), returning the median of those values.\n",
    "    daily_bets = get_daily_bets(player_bets)\n",
    "    daily_play_times = [total_play_time(bets) for bets in daily_bets]\n",
    "    return np.median(daily_play_times)"
   ]
  },
  {
   "cell_type": "code",
   "execution_count": 4,
   "metadata": {},
   "outputs": [],
   "source": [
    "#export\n",
    "import numpy as np\n",
    "def median_bets_per_day(player_bets):\n",
    "    \"Aggregates daily bets and returns the median number of bets placed across all active betting days.\"\n",
    "    \n",
    "    daily_bets = aggregate_bets(player_bets, aggregation='daily')\n",
    "    \n",
    "    daily_bet_count = [len(bets) for bets in daily_bets]\n",
    "    \n",
    "    return np.median(daily_bet_count)"
   ]
  },
  {
   "cell_type": "code",
   "execution_count": null,
   "metadata": {},
   "outputs": [],
   "source": [
    "#export\n",
    "import numpy as np\n",
    "def num_bets_deviation_per_day(player_bets):\n",
    "    \"Standard deviation of the number of bets placed per active betting day.\"\n",
    "    # used in Braverman and Shaffer 2013\n",
    "    \n",
    "    daily_bets = aggregate_bets(player_bets, aggregation='daily')\n",
    "    \n",
    "    daily_bet_count = [len(bets) for bets in daily_bets]\n",
    "    \n",
    "    return np.std(daily_bet_count)"
   ]
  },
  {
   "cell_type": "code",
   "execution_count": null,
   "metadata": {},
   "outputs": [],
   "source": [
    "#export\n",
    "from datetime import timedelta\n",
    "import numpy as np\n",
    "from pysan.spells import get_spells\n",
    "\n",
    "def inactive_day_streak_variance(player_bets):\n",
    "    \n",
    "    betting_days = betting_days.dt.date\n",
    "    \n",
    "    active_dates = betting_days.unique()\n",
    "    \n",
    "    all_days = pd.date_range(betting_days.min(), betting_days.max(), freq='d')    \n",
    "    \n",
    "    all_days_as_sequence_with_active_as_true = [True if (date in active_dates) else False for date in all_days]    \n",
    "    \n",
    "    # the day-streak data can be framed as spells in sequence analysis for easy extraction\n",
    "    spells = get_spells(all_days_as_sequence_with_active_as_true)    \n",
    "    inactive_spells = [spell for spell in spells if (spell[0] == False)]    \n",
    "    inactive_spell_lengths = [spell[1] for spell in inactive_spells]\n",
    "        \n",
    "    return np.var(inactive_spell_lengths)"
   ]
  },
  {
   "cell_type": "code",
   "execution_count": null,
   "metadata": {},
   "outputs": [],
   "source": [
    "#export\n",
    "from datetime import timedelta\n",
    "import numpy as np\n",
    "from pysan.spells import get_spells\n",
    "\n",
    "def persistence(player_bets):\n",
    "    \n",
    "    active_months = player_bets['bet_time'].dt.to_period(\"M\").unique()\n",
    "    \n",
    "    # use daily frequency then to_period to catch full period (rather than cut off part of last month)\n",
    "    all_months = pd.date_range(player_bets['bet_time'].min(), player_bets['bet_time'].max(), freq='d').to_period(\"M\").unique()\n",
    "        \n",
    "    all_months_as_sequence_with_active_as_true = [True if (month in active_months) else False for month in all_months]\n",
    "    \n",
    "    # the day-streak data can be framed as spells in sequence analysis for easy extraction\n",
    "    spells = get_spells(all_months_as_sequence_with_active_as_true)\n",
    "    active_month_spells = [spell[1] for spell in spells if spell[0] == True] # true is active month\n",
    "    \n",
    "    return max(active_month_spells)"
   ]
  },
  {
   "cell_type": "code",
   "execution_count": null,
   "metadata": {},
   "outputs": [],
   "source": [
    "#export\n",
    "def bet_count_trajectory(player_bets):\n",
    "    days = get_daily_bets(player_bets)\n",
    "    daily_counts = [len(bets) for bets in days]\n",
    "    return generic_trajectory(daily_counts)"
   ]
  },
  {
   "cell_type": "code",
   "execution_count": null,
   "metadata": {},
   "outputs": [],
   "source": [
    "#export\n",
    "def mean_bets_per_session(player_bets):\n",
    "    sessions = get_sessions(player_bets)\n",
    "    \n",
    "    return np.mean([len(session) for session in sessions])\n",
    "\n",
    "def median_bets_per_session(player_bets):\n",
    "    sessions = get_sessions(player_bets)\n",
    "    \n",
    "    return np.median([len(session) for session in sessions])\n",
    "\n",
    "def bets_per_session_variance(player_bets):\n",
    "    sessions = get_sessions(player_bets)\n",
    "    \n",
    "    return np.var([len(session) for session in sessions])"
   ]
  },
  {
   "cell_type": "code",
   "execution_count": null,
   "metadata": {},
   "outputs": [],
   "source": [
    "#export\n",
    "def session_duration_variance(player_bets):\n",
    "    sessions = get_sessions(player_bets)\n",
    "    session_durations = [session['bet_time'].max() - session['bet_time'].min() for session in sessions]\n",
    "    return np.var(session_durations)\n",
    "\n",
    "def session_duration_trajectory(player_bets):\n",
    "    sessions = get_sessions(player_bets)\n",
    "    session_durations = [session['bet_time'].max() - session['bet_time'].min() for session in sessions]\n",
    "    return generic_trajectory(session_durations)"
   ]
  },
  {
   "cell_type": "code",
   "execution_count": null,
   "metadata": {},
   "outputs": [],
   "source": [
    "#export\n",
    "def sawtooth_occurances(player_bets, threshold=1):\n",
    "    \n",
    "    # this algorithm is described on page 8 of Adami et al's 2013 paper\n",
    "    # the threshold parameter is not well defined so defaults to 1 but is\n",
    "    # changeable, and ultimately determines whether or not a change in\n",
    "    # bet sizing constitutes a sawtooth occurance\n",
    "    \n",
    "    first_difference = player_bets['bet_size'].diff()\n",
    "    \n",
    "    mean = first_difference.mean()\n",
    "    std = first_difference.std()    \n",
    "    \n",
    "    #                                                      here is the formula from the paper\n",
    "    occurances = [1 for difference in first_difference if difference > mean + threshold * std]\n",
    "    \n",
    "    return len(occurances)"
   ]
  },
  {
   "cell_type": "code",
   "execution_count": null,
   "metadata": {},
   "outputs": [],
   "source": [
    "#export\n",
    "import datetime\n",
    "\n",
    "def active_day_trajectory(player_bets, time_period_length=datetime.timedelta(days=30)):\n",
    "    \n",
    "    midpoint = player_bets['bet_time'].min() + time_period_length\n",
    "    endpoint = midpoint + time_period_length\n",
    "    \n",
    "    first_period = player_bets[player_bets['bet_time'] < midpoint]\n",
    "    second_period = player_bets[player_bets['bet_time'].between(midpoint, endpoint)]\n",
    "    \n",
    "    f1 = frequency(first_period) # aka number of active days\n",
    "    f2 = frequency(second_period)\n",
    "    \n",
    "    return generic_trajectory([f1,f2])"
   ]
  },
  {
   "cell_type": "markdown",
   "metadata": {},
   "source": [
    "### Cost Domain"
   ]
  },
  {
   "cell_type": "markdown",
   "metadata": {},
   "source": [
    "The cost domain contains all behavioural measures which can be computed using additional values from the ***bet_size*** column. As such, they describe *spending* behaviours as opposed to *engagement* behaviours as above."
   ]
  },
  {
   "cell_type": "code",
   "execution_count": null,
   "metadata": {},
   "outputs": [],
   "source": [
    "#export\n",
    "def total_wagered(player_bets):\n",
    "    \"The total amount wagered (sum of bet sizes).\"\n",
    "    check_measure_data(player_bets, [\"bet_size\"])\n",
    "    return player_bets[\"bet_size\"].sum()"
   ]
  },
  {
   "cell_type": "code",
   "execution_count": null,
   "metadata": {},
   "outputs": [],
   "source": [
    "#export\n",
    "def mean_bet_size(player_bets, daily=False):\n",
    "    \"The average (mean) size of bets.\"\n",
    "    if daily:\n",
    "        check_measure_data(player_bets, [\"bet_size\"])\n",
    "        mean_bet_size = player_bets[\"bet_size\"].sum() / number_of_bets(player_bets, daily=True)\n",
    "        return mean_bet_size\n",
    "        \n",
    "    check_measure_data(player_bets, [\"bet_size\"])\n",
    "    return player_bets[\"bet_size\"].mean()"
   ]
  },
  {
   "cell_type": "code",
   "execution_count": 4,
   "metadata": {},
   "outputs": [],
   "source": [
    "#export\n",
    "def median_bet_size(player_bets):\n",
    "    \"Median bet size, as used in Xuan 2009\"\n",
    "    \n",
    "    check_measures_data(player_bets, ['bet_size'])\n",
    "    \n",
    "    return player_bets['bet_size'].median()"
   ]
  },
  {
   "cell_type": "code",
   "execution_count": null,
   "metadata": {},
   "outputs": [],
   "source": [
    "#export\n",
    "def max_bet(player_bets):\n",
    "    return player_bets['value'].max()\n",
    "\n",
    "def min_bet(player_bets):\n",
    "    return player_bets['value'].min()\n",
    "\n",
    "def bet_size_range(player_bets):\n",
    "    return max_bet(player_bets) - min_bet(player_bets)"
   ]
  },
  {
   "cell_type": "code",
   "execution_count": null,
   "metadata": {},
   "outputs": [],
   "source": [
    "#export\n",
    "def bet_size_deviation(player_bets, daily=False):\n",
    "    \"Standard deviation of stake size in first month, if data set contains daily aggregate data.\"\n",
    "    \n",
    "    if daily:\n",
    "        first_day = player_bets.iloc[0][\"bet_time\"]\n",
    "        one_month_later = first_day + datetime.timedelta(days=+30)\n",
    "        first_month_bets = player_bets[player_bets[\"bet_time\"] <= one_month_later]\n",
    "\n",
    "        return first_month_bets[\"bet_size\"].std()\n",
    "    \n",
    "    return player_bets[\"bet_size\"].std()"
   ]
  },
  {
   "cell_type": "code",
   "execution_count": null,
   "metadata": {},
   "outputs": [],
   "source": [
    "#export\n",
    "from sklearn.linear_model import LinearRegression\n",
    "import numpy as np\n",
    "def trajectory(player_bets, daily=False, plot=False):\n",
    "    \"Gradient of a linear regression fitted to the sequence of daily aggredated bet sizes.\"\n",
    "    \n",
    "    if daily:\n",
    "        first_day = player_bets.iloc[0][\"bet_time\"]\n",
    "        one_month_later = first_day + datetime.timedelta(days=+30)\n",
    "        first_month_bets = player_bets[player_bets[\"bet_time\"] <= one_month_later]\n",
    "\n",
    "        # first_month_bets['mean_bet_size'] = first_month_bets['bet_size'] / first_month_bets['bet_count']\n",
    "\n",
    "        x = np.array(range(len(first_month_bets))).reshape((-1, 1)) + 1\n",
    "        y = first_month_bets[\"bet_size\"].values\n",
    "\n",
    "        model = LinearRegression().fit(x, y)\n",
    "        r_sq = model.score(x, y)\n",
    "\n",
    "        model_x = x\n",
    "        model_y = model.coef_ * x + model.intercept_\n",
    "\n",
    "        if plot:\n",
    "            plt.figure()\n",
    "            plt.scatter(x, y)\n",
    "            plt.plot(model_x, model_y, color=\"r\")\n",
    "            plt.show()\n",
    "\n",
    "        trajectory = model.coef_[0]\n",
    "        return model.coef_[0]"
   ]
  },
  {
   "cell_type": "code",
   "execution_count": 1,
   "metadata": {},
   "outputs": [],
   "source": [
    "#export\n",
    "def mean_amount_wagered_per_day(player_bets):\n",
    "    return total_amount_wagered(player_bets) / frequency(player_bets)\n",
    "\n",
    "def median_amount_wagered_per_day(player_bets):\n",
    "   \n",
    "    daily_bets = get_daily_bets(player_bets)\n",
    "    \n",
    "    tam_daily = [total_amount_wagered(daily) for daily in daily_bets]\n",
    "    \n",
    "    return np.median(tam_daily)"
   ]
  },
  {
   "cell_type": "code",
   "execution_count": null,
   "metadata": {},
   "outputs": [],
   "source": [
    "#export\n",
    "def amount_wagered_per_day_variance(player_bets):\n",
    "    \n",
    "    daily_bets = get_daily_bets(player_bets)\n",
    "    \n",
    "    tam_daily = [total_amount_wagered(daily) for daily in daily_bets]\n",
    "    \n",
    "    return np.var(tam_daily)"
   ]
  },
  {
   "cell_type": "code",
   "execution_count": 2,
   "metadata": {},
   "outputs": [],
   "source": [
    "#export\n",
    "import numpy as np\n",
    "def mean_amount_wagered_per_session(player_bets):\n",
    "    \n",
    "    sessions = get_sessions(player_bets)\n",
    "    tam_sessions = [total_amount_wagered(session) for session in sessions]\n",
    "    return np.mean(tam_sessions)\n",
    "\n",
    "def median_amount_wagered_per_session(player_bets):\n",
    "    \n",
    "    sessions = get_sessions(player_bets)\n",
    "    tam_sessions = [total_amount_wagered(session) for session in sessions]\n",
    "    return np.median(tam_sessions)"
   ]
  },
  {
   "cell_type": "code",
   "execution_count": null,
   "metadata": {},
   "outputs": [],
   "source": [
    "#export\n",
    "def total_amount_wagered_across_duration(player_bets):\n",
    "    tam = total_amount_wagered(player_bets)\n",
    "    dur = duration(player_bets)\n",
    "    return tam/dur"
   ]
  },
  {
   "cell_type": "code",
   "execution_count": null,
   "metadata": {},
   "outputs": [],
   "source": [
    "#export\n",
    "def amount_wagered_per_session_variance(player_bets):\n",
    "    sessions = get_sessions(player_bets)\n",
    "    tam_sessions = [total_amount_wagered(session) for session in sessions]\n",
    "    return np.var(tam_sessions)"
   ]
  },
  {
   "cell_type": "code",
   "execution_count": null,
   "metadata": {},
   "outputs": [],
   "source": [
    "#export\n",
    "def bet_size_trajectory(player_bets):\n",
    "    days = get_daily_bets(player_bets)\n",
    "    daily_sizes = [bets[\"bet_size\"].sum() for bets in days]\n",
    "    return generic_trajectory(daily_sizes)"
   ]
  },
  {
   "cell_type": "markdown",
   "metadata": {},
   "source": [
    "### Loss Domain"
   ]
  },
  {
   "cell_type": "markdown",
   "metadata": {},
   "source": [
    "The loss domain includes all behavioural measures which require the additional information of the size of the payout received as a result of each bet. This data should be held in the ***payout_size*** column if available."
   ]
  },
  {
   "cell_type": "code",
   "execution_count": null,
   "metadata": {},
   "outputs": [],
   "source": [
    "#export\n",
    "def net_loss(player_bets):\n",
    "    \"The net amount lost (sum of bet sizes minus sum of payout sizes). This is functionally identical to the negative of total amount won\"\n",
    "    \n",
    "    check_measure_data(player_bets, [\"bet_size\", \"payout_size\"])\n",
    "    net_loss_value = player_bets[\"bet_size\"].sum() - player_bets[\"payout_size\"].sum()\n",
    "    return net_loss_value"
   ]
  },
  {
   "cell_type": "code",
   "execution_count": null,
   "metadata": {},
   "outputs": [],
   "source": [
    "#export\n",
    "def percent_loss(player_bets):\n",
    "    \"The `net_loss` as a percentage of `total_wagered`.\"\n",
    "\n",
    "    net_loss_value = net_loss(player_bets)\n",
    "    total_wagered_value = total_wagered(player_bets)\n",
    "    percent_loss_value = (net_loss_value / total_wagered_value) * 100\n",
    "    return percent_loss_value"
   ]
  },
  {
   "cell_type": "code",
   "execution_count": null,
   "metadata": {},
   "outputs": [],
   "source": [
    "#export\n",
    "def payout_bet_count_ratio(player_bets):\n",
    "    bets = len(player_bets)\n",
    "    payouts = len(player_bets[player_bets['payout_size'] != 0])\n",
    "    return payouts / bets\n",
    "\n",
    "def payout_bet_size_ratio(player_bets):\n",
    "    bets = player_bets['bet_size'].sum()\n",
    "    payouts = player_bets['payout_size'].sum()\n",
    "    return payouts / bets"
   ]
  },
  {
   "cell_type": "code",
   "execution_count": null,
   "metadata": {},
   "outputs": [],
   "source": [
    "#export\n",
    "def mean_net_loss_per_session(player_bets):\n",
    "    \n",
    "    sessions = get_sessions(player_bets)\n",
    "    nl_sessions = [net_loss(session) for session in sessions]\n",
    "    return np.mean(nl_sessions)\n",
    "\n",
    "def median_net_loss_per_session(player_bets):\n",
    "    \n",
    "    sessions = get_sessions(player_bets)\n",
    "    nl_sessions = [net_loss(session) for session in sessions]\n",
    "    return np.median(nl_sessions)"
   ]
  },
  {
   "cell_type": "code",
   "execution_count": null,
   "metadata": {},
   "outputs": [],
   "source": [
    "#export\n",
    "def sum_of_payouts(player_bets):\n",
    "    return player_bets['payout_size'].sum()\n",
    "\n",
    "def relative_big_win(player_bets, top):\n",
    "    return 1 if max(player_bets['payout_size'] > top) else 0\n",
    "\n",
    "def big_win(player_bets):\n",
    "    # assumes payout_size is in USD already(!)\n",
    "    return 1 if max(player_bets['payout_size'] > 1000) else 0"
   ]
  },
  {
   "cell_type": "code",
   "execution_count": null,
   "metadata": {},
   "outputs": [],
   "source": [
    "#export\n",
    "def mean_payout_size(player_bets):\n",
    "    payouts = player_bets[player_bets['payout_size'] != 0]\n",
    "    return payouts['payout_size'].mean()\n",
    "\n",
    "def median_payout_size(player_bets):\n",
    "    payouts = player_bets[player_bets['payout_size'] != 0]\n",
    "    return payouts['payout_size'].median()"
   ]
  },
  {
   "cell_type": "code",
   "execution_count": null,
   "metadata": {},
   "outputs": [],
   "source": [
    "#export\n",
    "def overall_binary_loser(player_bets):\n",
    "    return 1 if net_loss(player_bets) > 0 else 1\n",
    "\n",
    "def clamped_net_win(player_bets):\n",
    "    return max(-net_loss(player_bets), 0)\n",
    "\n",
    "def net_loss_on_last_day(player_bets):\n",
    "    days = get_daily_bets(player_bets)\n",
    "    last_day = days[-1]\n",
    "    return net_loss(last_day)"
   ]
  },
  {
   "cell_type": "code",
   "execution_count": 1,
   "metadata": {},
   "outputs": [],
   "source": [
    "#export\n",
    "def mean_loss_per_bet(player_bets):\n",
    "    # additional measure not returned by literature review\n",
    "    \"The median amount lost per bet (bet size minus payout).\"\n",
    "    \n",
    "    losses = player_bets['bet_size'] - player_bets['payout_size']\n",
    "    \n",
    "    return losses.mean()\n",
    "\n",
    "\n",
    "def median_loss_per_bet(player_bets):\n",
    "    # additional measure not returned by literature review\n",
    "    \"The median amount lost per bet (bet size minus payout).\"\n",
    "    \n",
    "    losses = player_bets['bet_size'] - player_bets['payout_size']\n",
    "    \n",
    "    return losses.median()"
   ]
  },
  {
   "cell_type": "markdown",
   "metadata": {},
   "source": [
    "### Other Domain"
   ]
  },
  {
   "cell_type": "markdown",
   "metadata": {},
   "source": [
    "All measures not in the root, bet, or loss domains, require some additional information such as the house edge for each bet, the game being played, etc. These are currently broadly grouped into the 'other' domain' but as the library (and academic)'s capabilities grow, this domain will likely be split further."
   ]
  },
  {
   "cell_type": "code",
   "execution_count": null,
   "metadata": {},
   "outputs": [],
   "source": [
    "#export\n",
    "def theoretical_loss(player_bets):\n",
    "    \"The product of bet size and house advantage, also referred to as the gross gaming revenue.\"\n",
    "    \n",
    "    check_measure_data(player_bets, ['bet_size','house_edge'])\n",
    "    \n",
    "    unique_edges = player_bets['house_edge'].unique()\n",
    "    \n",
    "    tl_measure = 0\n",
    "    for edge in unique_edges:\n",
    "        bets_with_this_edge = player_bets[player_bets['house_edge'] == edge]\n",
    "        \n",
    "        tl_measure += bets_with_this_edge['bet_size'].sum() * (edge / 100)\n",
    "    \n",
    "    return tl_measure"
   ]
  },
  {
   "cell_type": "code",
   "execution_count": 3,
   "metadata": {},
   "outputs": [],
   "source": [
    "#export\n",
    "def mean_odds_per_bet(player_bets):\n",
    "    return player_bets['decimal_odds'].mean()\n",
    "\n",
    "def median_odds_per_bet(player_bets):\n",
    "    return player_bets['decimal_odds'].median()"
   ]
  },
  {
   "cell_type": "code",
   "execution_count": 6,
   "metadata": {},
   "outputs": [],
   "source": [
    "#export\n",
    "def num_providers_used(player_bets): # regarding operators, not game types\n",
    "    # this measure is technically at the account-leve/\n",
    "    \"The number of different gambling game providers used by the player.\"\n",
    "    \n",
    "    check_measures_data(player_bets, ['provider'])\n",
    "    \n",
    "    return len(player_bets['provider'].unique())"
   ]
  },
  {
   "cell_type": "code",
   "execution_count": 10,
   "metadata": {},
   "outputs": [],
   "source": [
    "#export\n",
    "import numpy as np\n",
    "def mean_game_types_per_day(player_bets):\n",
    "    \"The mean number of unique game types played per active betting day. Note this does not account for the number of each game type played, only that they have been played at least once.\"\n",
    "    # this measure is also technically at the account level\n",
    "    \n",
    "    daily_bets = aggregate_bets(player_bets, aggregation='daily')\n",
    "    \n",
    "    daily_game_types = [len(bets['game_type'].unique()) for bets in daily_bets]\n",
    "    \n",
    "    return np.mean(daily_game_types)"
   ]
  },
  {
   "cell_type": "markdown",
   "metadata": {},
   "source": [
    "## Study Collections"
   ]
  },
  {
   "cell_type": "markdown",
   "metadata": {},
   "source": [
    "The measures module also contains some convenience methods which accept full existing data sets of players bets and compute the collection of behavioural measures used in a given study."
   ]
  },
  {
   "cell_type": "code",
   "execution_count": null,
   "metadata": {},
   "outputs": [],
   "source": [
    "#export\n",
    "from tqdm import tqdm\n",
    "import datetime, pandas as pd\n",
    "def calculate_labrie_measures(all_player_bets, savedir=\"\", filename=\"gamba_labrie_measures.csv\", loud=False, daily=True,):\n",
    "    \"Calculates the set of measures described in LaBrie et al's work in 2008 on casino gamblers. These measures include the durations, frequencies, number of bets, bets per day, value per bet (eth), total amount wagered, net loss, and percent loss for each player. As this method sits in the studies module, it accepts a list of dataframes representing each player's bets as input. By default, this method saves the resulting dataframe of each player's measures to 'gamba_labrie_measures.csv'. Be advised: this method can take some time for large numbers of players, the 'loud' parameter can be set to True to print out updates every 200 players.\"\n",
    "\n",
    "    pd.options.mode.chained_assignment = None # supress setwithcopy warnings\n",
    "    \n",
    "    player_id = []\n",
    "    all_duration = []\n",
    "    all_frequency = []\n",
    "    all_number_of_bets = []\n",
    "    all_mean_bets_per_day = []\n",
    "    all_mean_bet_size = []\n",
    "    all_total_wagered = []\n",
    "    all_net_loss = []\n",
    "    all_percent_loss = []\n",
    "\n",
    "    unique_players = list(set(all_player_bets[\"player_id\"]))\n",
    "\n",
    "    for i in tqdm(range(len(unique_players))):\n",
    "        player_bets = all_player_bets[all_player_bets[\"player_id\"] == unique_players[i]]\n",
    "        player_id.append(player_bets.iloc[0][\"player_id\"])\n",
    "        all_duration.append(duration(player_bets))\n",
    "        all_frequency.append(frequency(player_bets))\n",
    "        if daily:\n",
    "            all_number_of_bets.append(number_of_bets(player_bets, daily=True))\n",
    "            all_mean_bets_per_day.append(mean_bets_per_day(player_bets, daily=True))\n",
    "            all_mean_bet_size.append(mean_bet_size(player_bets, daily=True))\n",
    "        else:\n",
    "            all_number_of_bets.append(number_of_bets(player_bets))\n",
    "            all_mean_bets_per_day.append(mean_bets_per_day(player_bets))\n",
    "            all_mean_bet_size.append(mean_bet_size(player_bets))\n",
    "        all_total_wagered.append(total_wagered(player_bets))\n",
    "        all_net_loss.append(net_loss(player_bets))\n",
    "        all_percent_loss.append(percent_loss(player_bets))\n",
    "\n",
    "    labrie_dict = {\n",
    "        \"player_id\": player_id,\n",
    "        \"duration\": all_duration,\n",
    "        \"frequency\": all_frequency,\n",
    "        \"num_bets\": all_number_of_bets,\n",
    "        \"mean_bets_per_day\": all_mean_bets_per_day,\n",
    "        \"mean_bet_size\": all_mean_bet_size,\n",
    "        \"total_wagered\": all_total_wagered,\n",
    "        \"net_loss\": all_net_loss,\n",
    "        \"percent_loss\": all_percent_loss,\n",
    "    }\n",
    "\n",
    "    labrie_measures = pd.DataFrame.from_dict(labrie_dict)\n",
    "    labrie_measures.to_csv(savedir + filename, index=False)\n",
    "\n",
    "    if loud:\n",
    "        print(\"LaBrie measures saved\")\n",
    "\n",
    "    return labrie_measures"
   ]
  },
  {
   "cell_type": "code",
   "execution_count": null,
   "metadata": {},
   "outputs": [],
   "source": [
    "#export\n",
    "def calculate_braverman_measures(all_player_bets, savedir=\"\", loud=False):\n",
    "    \"Calculates the set of measures described in Braverman and Shaffer's work in 2010 on high risk internet gamblers. These measures include the frequency, intensity, variability, and trajectories of each player. As this method sits in the studies module, it accepts a list of dataframes representing each player's bets as input. By default, this method saves the resulting dataframe of each player's measures to 'gamba_braverman_measures.csv'.\"\n",
    "\n",
    "    pd.options.mode.chained_assignment = None # supress setwithcopy warnings\n",
    "    \n",
    "    player_id = []\n",
    "\n",
    "    intensities = []\n",
    "    variabilities = []\n",
    "    frequencies = []\n",
    "    trajectories = []\n",
    "\n",
    "    sum_of_stakes = []\n",
    "    total_num_bets = []\n",
    "    mean_bet_sizes = []\n",
    "    durations = []\n",
    "    net_losses = []\n",
    "\n",
    "    unique_players = list(set(all_player_bets[\"player_id\"]))\n",
    "\n",
    "    for i in tqdm(range(len(unique_players))):\n",
    "        player_bets = all_player_bets[all_player_bets[\"player_id\"] == unique_players[i]]\n",
    "\n",
    "        player_id.append(player_bets.iloc[0][\"player_id\"])\n",
    "        intensities.append(intensity(player_bets))\n",
    "        frequencies.append(frequency(player_bets))\n",
    "        variabilities.append(variability(player_bets, daily=True))\n",
    "        trajectories.append(trajectory(player_bets, daily=True))\n",
    "\n",
    "        sum_of_stakes.append(player_bets[\"bet_size\"].sum())\n",
    "        total_num_bets.append(player_bets[\"bet_count\"].sum())\n",
    "        mean_bet_sizes.append(\n",
    "            player_bets[\"bet_size\"].sum() / player_bets[\"bet_count\"].sum()\n",
    "        )\n",
    "        durations.append(duration(player_bets))\n",
    "        net_losses.append(net_loss(player_bets))\n",
    "\n",
    "    braverman_dict = {\n",
    "        \"player_id\": player_id,\n",
    "        \"intensity\": intensities,\n",
    "        \"frequency\": frequencies,\n",
    "        \"variability\": variabilities,\n",
    "        \"trajectory\": trajectories,\n",
    "        \"sum_of_stakes\": sum_of_stakes,\n",
    "        \"total_num_bets\": total_num_bets,\n",
    "        \"mean_bet_size\": mean_bet_sizes,\n",
    "        \"duration\": durations,\n",
    "        \"net_loss\": net_losses,\n",
    "    }\n",
    "\n",
    "    braverman_measures = pd.DataFrame.from_dict(braverman_dict)\n",
    "    braverman_measures.to_csv(savedir + \"gamba_braverman_measures.csv\", index=False)\n",
    "\n",
    "    return braverman_measures"
   ]
  },
  {
   "cell_type": "markdown",
   "metadata": {},
   "source": [
    "## Utility Functions"
   ]
  },
  {
   "cell_type": "markdown",
   "metadata": {},
   "source": [
    "This module also contains a utility function for standardising each of the measures in a measures table, aggregating bets, checking measure data, and other things. It's unlikely that you'll need to use these methods directly in your own work, but are used in some of the higher-level methods in the library."
   ]
  },
  {
   "cell_type": "code",
   "execution_count": 2,
   "metadata": {},
   "outputs": [],
   "source": [
    "#export\n",
    "def available_measures():\n",
    "    \"Returns a list of valid measures that the gamba library can compute. This list can be used in whole or in part by the `create_measures_table` method to compute these measures across one or more players bets.\"\n",
    "    return ['duration','total_wagered','net_loss','theoretical_loss','frequency','mean_bet_size','percent_loss','mean_odds_per_bet','frequency_percent','median_bet_size','payout_bet_count_ratio','median_odds_per_bet','number_of_bets','max_bet','payout_bet_size_ratio','num_providers_used','mean_bets_per_day','min_bet','mean_net_loss_per_session','mean_game_types_per_day','median_bets_per_day','bet_size_range','median_net_loss_per_session','num_sessions','bet_size_deviation','sum_of_payouts','total_play_time','trajectory','relative_big_win','mean_sessions_per_day','mean_amount_wagered_per_day','big_win','median_sessions_per_day','median_amount_wagered_per_day','mean_payout_size','mean_play_time','amount_wagered_per_day_variance','median_payout_size','median_play_time','mean_amount_wagered_per_session','overall_binary_loser','mean_bets_per_day','median_amount_wagered_per_session','clamped_net_win','median_bets_per_day','total_amount_wagered_across_duration','net_loss_on_last_day','num_bets_deviation_per_day','amount_wagered_per_session_variance','mean_loss_per_bet','inactive_day_streak_variance','bet_size_trajectory','median_loss_per_bet','persistence','bet_count_trajectory','mean_bets_per_session','median_bets_per_session','bets_per_session_variance','session_duration_variance','session_duration_trajectory','sawtooth_occurances']"
   ]
  },
  {
   "cell_type": "code",
   "execution_count": 1,
   "metadata": {},
   "outputs": [],
   "source": [
    "#export\n",
    "def check_measure_data(player_bets, required_columns):\n",
    "    \"Compares the columns found in a dataframe of player bets to a supplied list of column names. If any of the required_column names are not found, an exception is raised reporting the error.\"\n",
    "    \n",
    "    for column in required_columns:\n",
    "        if column not in player_bets.columns:\n",
    "            exception_string = (\n",
    "                \"Column '\" + column + \"' missing from provided dataframe.\"\n",
    "            )\n",
    "            raise Exception(exception_string)"
   ]
  },
  {
   "cell_type": "code",
   "execution_count": 1,
   "metadata": {},
   "outputs": [],
   "source": [
    "#export\n",
    "import datetime\n",
    "def get_sessions(player_bets, session_window=30):\n",
    "    \"Splits a single players bet dataframe into a collection of dataframes, each representing a single session. The session_window parameter determines the maximum number of minutes between bets for them to be considered part of the same session.\"\n",
    "    check_measure_data(player_bets, ['bet_time'])\n",
    "    \n",
    "    elapsed_times = player_bets['bet_time'].diff()\n",
    "    \n",
    "    session_starts = [True if x> datetime.timedelta(minutes=session_window) else False for x in elapsed_times]\n",
    "    \n",
    "    session_ids = []\n",
    "    current_session = 1\n",
    "    for x in session_starts:\n",
    "        if x:\n",
    "            current_session += 1\n",
    "        session_ids.append(current_session)\n",
    "    \n",
    "    player_bets['session_id'] = session_ids\n",
    "    \n",
    "    sessions = [x for _, x in player_bets.groupby(player_bets['session_id'])]\n",
    "    \n",
    "    return sessions"
   ]
  },
  {
   "cell_type": "code",
   "execution_count": null,
   "metadata": {},
   "outputs": [],
   "source": [
    "#export\n",
    "def get_daily_bets(player_bets):\n",
    "    # split player bets into multiple dataframes, each corresponding to bets placed on a single active betting date (UTC)\n",
    "    \n",
    "    check_measure_data(player_bets, [\"bet_time\"])\n",
    "    player_bets.sort_values(\"bet_time\", inplace=True)\n",
    "    player_bets.reset_index(drop=True, inplace=True)\n",
    "    age_in_days = duration(player_bets)\n",
    "\n",
    "    betting_days = player_bets[\"bet_time\"].dt.date\n",
    "    first_day = player_bets.iloc[0][\"bet_time\"]\n",
    "\n",
    "    daily_bets = []\n",
    "    for day in range(age_in_days):\n",
    "        current_date = (first_day + datetime.timedelta(days=day)).date()\n",
    "        bets_today = player_bets[betting_days == current_date]\n",
    "        if len(bets_today) != 0:\n",
    "            daily_bets.append(bets_today)\n",
    "            \n",
    "    return daily_bets"
   ]
  },
  {
   "cell_type": "code",
   "execution_count": null,
   "metadata": {},
   "outputs": [],
   "source": [
    "#export\n",
    "import scipy.stats\n",
    "def standardise_measures_table(measures_table):\n",
    "    \"Standardises all measures columns in a measures table by applying the scipy.stats.zscore function to each column. This is useful for column-wise comparisons and some clustering methods, but use with caution!\"\n",
    "\n",
    "    colnames = list(measures_table.columns)[1:]\n",
    "\n",
    "    standardised_table = pd.DataFrame()\n",
    "    standardised_table[\"player_id\"] = measures_table[\"player_id\"].values\n",
    "    for col in colnames:\n",
    "        standardised_table[col] = scipy.stats.zscore(measures_table[col].values)\n",
    "\n",
    "    return standardised_table"
   ]
  },
  {
   "cell_type": "code",
   "execution_count": null,
   "metadata": {},
   "outputs": [],
   "source": [
    "#export\n",
    "def split_measures_table(measures_table, frac=0.7, loud=False):\n",
    "    \"Splits a measures table into two randomly selected groups. This is useful for machine learning methods where a train-test split is needed, and uses the Pandas library's sample method.\"\n",
    "\n",
    "    measures_table.drop(['player_id'], axis=1)\n",
    "    train_table = measures_table.sample(frac=frac) \n",
    "    test_table = measures_table.drop(train_table.index)\n",
    "\n",
    "    if loud:\n",
    "        print('train:test\\n', len(train_table),':',len(test_table), 'ready')\n",
    "\n",
    "    return train_table, test_table"
   ]
  },
  {
   "cell_type": "code",
   "execution_count": null,
   "metadata": {},
   "outputs": [],
   "source": [
    "#export\n",
    "from sklearn.linear_model import LinearRegression\n",
    "import matplotlib.pyplot as plt, numpy as np\n",
    "def generic_trajectory(sequence, plot=False):\n",
    "    \n",
    "    \"Gradient of a linear regression fitted to a one dimensional sequence. Generic utility method to be used in more specific cases.\"\n",
    "    \n",
    "    x = np.array(range(len(sequence))).reshape((-1, 1)) + 1\n",
    "    y = sequence\n",
    "\n",
    "    model = LinearRegression().fit(x, y)\n",
    "\n",
    "    model_x = x\n",
    "    model_y = model.coef_ * x + model.intercept_\n",
    "\n",
    "    if plot:\n",
    "        plt.figure()\n",
    "        plt.scatter(x, y)\n",
    "        plt.plot(model_x, model_y, color=\"r\")\n",
    "        plt.show()\n",
    "\n",
    "    return model.coef_[0]"
   ]
  },
  {
   "cell_type": "markdown",
   "metadata": {},
   "source": [
    "## Visualisation"
   ]
  },
  {
   "cell_type": "markdown",
   "metadata": {},
   "source": [
    "The measures module also has a method for plotting the position of an individual in the context of the rest of the population. This is useful for exploratory work on outliers and similar things."
   ]
  },
  {
   "cell_type": "code",
   "execution_count": 1,
   "metadata": {},
   "outputs": [],
   "source": [
    "import matplotlib.pyplot as plt\n",
    "#export\n",
    "def plot_individual(measures_table, player_id):\n",
    "    \"Plots an individual's position in the population across each of the behavioural measures in the measures table. Note that this will output one bar chart for each behavioural measure.\"\n",
    "    \n",
    "    measure_cols = measures_table.columns[1:]\n",
    "    player = measures_table[measures_table['player_id'] == player_id]\n",
    "    \n",
    "    for measure in measure_cols:\n",
    "        plt.figure(figsize=[4,2])\n",
    "        hist = plt.hist(measures_table[measure].values, alpha=0.5)\n",
    "        plt.plot([player[measure].values[0], player[measure].values[0]], [0, hist[0].max()], label=measure, color='black')\n",
    "        plt.legend()\n",
    "        plt.show()"
   ]
  },
  {
   "cell_type": "code",
   "execution_count": 2,
   "metadata": {},
   "outputs": [
    {
     "data": {
      "image/png": "[encoded data removed]",
      "text/plain": [
       "<Figure size 432x288 with 1 Axes>"
      ]
     },
     "metadata": {
      "needs_background": "light"
     },
     "output_type": "display_data"
    },
    {
     "name": "stdout",
     "output_type": "stream",
     "text": [
      "<class 'matplotlib.axes._subplots.AxesSubplot'>\n"
     ]
    },
    {
     "data": {
      "image/png": "[encoded data removed]",
      "text/plain": [
       "<Figure size 432x288 with 1 Axes>"
      ]
     },
     "metadata": {
      "needs_background": "light"
     },
     "output_type": "display_data"
    },
    {
     "data": {
      "image/png": "[encoded data removed]",
      "text/plain": [
       "<Figure size 576x72 with 1 Axes>"
      ]
     },
     "metadata": {
      "needs_background": "light"
     },
     "output_type": "display_data"
    },
    {
     "data": {
      "image/png": "[encoded data removed]",
      "text/plain": [
       "<Figure size 576x72 with 1 Axes>"
      ]
     },
     "metadata": {
      "needs_background": "light"
     },
     "output_type": "display_data"
    },
    {
     "data": {
      "image/png": "[encoded data removed]",
      "text/plain": [
       "<Figure size 576x72 with 1 Axes>"
      ]
     },
     "metadata": {
      "needs_background": "light"
     },
     "output_type": "display_data"
    }
   ],
   "source": [
    "#export\n",
    "import matplotlib.pyplot as plt\n",
    "import math\n",
    "import pandas as pd\n",
    "import gamba as gb\n",
    "import datetime\n",
    "from datetime import timedelta\n",
    "\n",
    "def plot_continuous_time_domain(player_bets):\n",
    "    \n",
    "    plt.figure(figsize=[8,1])\n",
    "    plt.scatter(player_bets['bet_time'].values, [1 for x in player_bets['bet_time']], s=100)\n",
    "    \n",
    "    return plt\n",
    "    \n",
    "def discretise_player_bets(player_bets, days=7):\n",
    "    \n",
    "    days_betting = player_bets['bet_time'].max() - player_bets['bet_time'].min()\n",
    "    \n",
    "    window_starts = [player_bets['bet_time'].min() + timedelta(days=days * x) for x in range(math.ceil(days_betting.days / days + 1))]\n",
    "    \n",
    "    discrete_blocks = [player_bets[player_bets['bet_time'].between(start, start + timedelta(days=days))] for start in window_starts]\n",
    "    \n",
    "    return discrete_blocks\n",
    "\n",
    "def plot_discrete_time_domain(player_bets, days=7):\n",
    "    days_betting = player_bets['bet_time'].max() - player_bets['bet_time'].min()\n",
    "    \n",
    "    window_starts = [player_bets['bet_time'].min() + timedelta(days=days * x) for x in range(math.ceil(days_betting.days / days + 1))]\n",
    "    \n",
    "    discrete_blocks = discretise_player_bets(player_bets)\n",
    "    \n",
    "    plt.figure(figsize=[8,1])\n",
    "    for block in discrete_blocks:\n",
    "        plt.scatter(block['bet_time'].values, [1 for x in block['bet_time']], s=100)\n",
    "        \n",
    "    return plt\n",
    "    \n",
    "def plot_session_domain(player_bets, session_window=30):\n",
    "    \n",
    "    sessions = get_sessions(player_bets, session_window=session_window)\n",
    "    \n",
    "    plt.figure(figsize=[8,1])\n",
    "    for session in sessions:\n",
    "        plt.scatter(session['bet_time'].values, [1 for x in session['bet_time']], s=100)\n",
    "    \n",
    "    return plt\n",
    "    \n",
    "def plot_cost_domain(player_bets):\n",
    "    \n",
    "    bar_y = sorted(player_bets['bet_size'].unique())\n",
    "    bar_x = [len(player_bets[player_bets['bet_size'] == size]) for size in bar_y]\n",
    "    \n",
    "    plt.figure()\n",
    "    plt.barh(bar_y, bar_x)\n",
    "    plt.ylim(min(bar_y) - 1, max(bar_y) + 1)\n",
    "    \n",
    "    plt.show()\n",
    "    \n",
    "    plot = player_bets['bet_size'].plot.kde()\n",
    "    print(type(plot))\n",
    "    \n",
    "def show_domain_differences():\n",
    "    start = datetime.datetime.strptime('10/10/11', \"%m/%d/%y\")\n",
    "    player_bets = pd.DataFrame()\n",
    "    bet_times = [2,3,5,6,7, 13,14,15,16,17,18,20, 26,27,28,29,30,31,32, 39,40,41,43]\n",
    "    bet_days = [start + timedelta(days=x) for x in bet_times]\n",
    "    bet_sizes = [2,2,3,3,1,5,4,5,3,3,4,5,7,6,8,7,7,6,7,4,4,3,4]\n",
    "\n",
    "    player_bets['bet_time'] = bet_days\n",
    "    player_bets['bet_size'] = bet_sizes\n",
    "    \n",
    "    plot_cost_domain(player_bets)\n",
    "\n",
    "    plot_continuous_time_domain(player_bets)\n",
    "\n",
    "    plot_discrete_time_domain(player_bets)\n",
    "\n",
    "    plot_session_domain(player_bets, session_window=60*48)\n",
    "    \n",
    "#show_domain_differences()"
   ]
  },
  {
   "cell_type": "markdown",
   "metadata": {},
   "source": [
    "## References"
   ]
  },
  {
   "cell_type": "markdown",
   "metadata": {},
   "source": [
    "{% bibliography --cited %}"
   ]
  }
 ],
 "metadata": {
  "kernelspec": {
   "display_name": "Python 3 (ipykernel)",
   "language": "python",
   "name": "python3"
  },
  "language_info": {
   "codemirror_mode": {
    "name": "ipython",
    "version": 3
   },
   "file_extension": ".py",
   "mimetype": "text/x-python",
   "name": "python",
   "nbconvert_exporter": "python",
   "pygments_lexer": "ipython3",
   "version": "3.9.7"
  }
 },
 "nbformat": 4,
 "nbformat_minor": 4
}
