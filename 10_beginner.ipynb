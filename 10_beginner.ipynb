{
 "cells": [
  {
   "cell_type": "code",
   "execution_count": null,
   "metadata": {},
   "outputs": [],
   "source": [
    "# default_exp beginner"
   ]
  },
  {
   "cell_type": "markdown",
   "metadata": {},
   "source": [
    "# Beginner Tutorial\n",
    "\n",
    "> Learn the four-step structure to all gamba research"
   ]
  },
  {
   "cell_type": "code",
   "execution_count": null,
   "metadata": {},
   "outputs": [],
   "source": [
    "#hide\n",
    "from nbdev.showdoc import *"
   ]
  },
  {
   "cell_type": "markdown",
   "metadata": {},
   "source": [
    "Using the gamba library can be as simple or as complicated as you want it to be. This tutorial shows you the simplest possible analysis you can do, and shows the four-step process behind all studies."
   ]
  },
  {
   "cell_type": "markdown",
   "metadata": {},
   "source": [
    "## 1. Import the gamba library"
   ]
  },
  {
   "cell_type": "markdown",
   "metadata": {},
   "source": [
    "To use the gamba library's functions in your notebook or script, import it using the following line;"
   ]
  },
  {
   "cell_type": "code",
   "execution_count": 2,
   "metadata": {},
   "outputs": [],
   "source": [
    "import gamba as gb"
   ]
  },
  {
   "cell_type": "markdown",
   "metadata": {},
   "source": [
    "This imports the library and names it ***gb***, so you can access all the methods by using gb.some_method() instead of having to write gamba.some_method() every time."
   ]
  },
  {
   "cell_type": "markdown",
   "metadata": {},
   "source": [
    "## 2. Load in transaction data"
   ]
  },
  {
   "cell_type": "markdown",
   "metadata": {},
   "source": [
    "The next step is to load in some transaction data. This should be in the form of a CSV file with some specific headings (See the `gamba.data` module for details). In this tutorial we'll use a small example data set derived from cryptocurrency transactions since they're publicly available. The data set should be loaded using the `read_csv` method from the data module as follows, which takes both the directory of the file and the names of the datetime columns;"
   ]
  },
  {
   "cell_type": "code",
   "execution_count": 6,
   "metadata": {},
   "outputs": [],
   "source": [
    "player_bets = gb.data.read_csv('/home/ojs/Data/osf_data/raw_data_part_4.csv', ['bet_time','payout_time','duration'])"
   ]
  },
  {
   "cell_type": "markdown",
   "metadata": {},
   "source": [
    "Now we have the player bets loaded into memory they can be used to create a measures table, which is the most important part of the gamba library's design. \n",
    "\n",
    "> Creating a measures table is the most important part of the gamba library because it's the middle step between raw data and analysis - almost all of the analytical methods accept a measures table as input!"
   ]
  },
  {
   "cell_type": "markdown",
   "metadata": {},
   "source": [
    "## 3. Create a **measures table**"
   ]
  },
  {
   "cell_type": "markdown",
   "metadata": {},
   "source": [
    "To create a measures table like one used in a previous study, the library contains several custom methods. One of which is the `calculate_labrie_measures` in the measures module, which creates a behavioural fingerprint of each player using measures such as ***duration***, ***frequency***, ***number of bets***, and so on;"
   ]
  },
  {
   "cell_type": "code",
   "execution_count": 7,
   "metadata": {},
   "outputs": [
    {
     "name": "stderr",
     "output_type": "stream",
     "text": [
      "100%|██████████| 1694/1694 [01:05<00:00, 25.71it/s]\n"
     ]
    }
   ],
   "source": [
    "measures_table = gb.measures.calculate_labrie_measures(player_bets, daily=False)"
   ]
  },
  {
   "cell_type": "markdown",
   "metadata": {},
   "source": [
    "After the loading bar completes, the measures table is ready to use. Saving it to disk is a good idea (especially for large datasets), but we cover that in the next tutorial. With the measures table computed, the final step is analysis."
   ]
  },
  {
   "cell_type": "markdown",
   "metadata": {},
   "source": [
    "## 4. Run some analysis"
   ]
  },
  {
   "cell_type": "markdown",
   "metadata": {},
   "source": [
    "For this basic tutorial, we'll simply describe the measures table, which has been the core analysis in several older studies. To do this, the statistics module contains a `descriptive_table` method which does exactly that;"
   ]
  },
  {
   "cell_type": "code",
   "execution_count": 12,
   "metadata": {},
   "outputs": [
    {
     "data": {
      "text/html": [
       "<div>\n",
       "<style scoped>\n",
       "    .dataframe tbody tr th:only-of-type {\n",
       "        vertical-align: middle;\n",
       "    }\n",
       "\n",
       "    .dataframe tbody tr th {\n",
       "        vertical-align: top;\n",
       "    }\n",
       "\n",
       "    .dataframe thead th {\n",
       "        text-align: right;\n",
       "    }\n",
       "</style>\n",
       "<table border=\"1\" class=\"dataframe\">\n",
       "  <thead>\n",
       "    <tr style=\"text-align: right;\">\n",
       "      <th></th>\n",
       "      <th>mean</th>\n",
       "      <th>std</th>\n",
       "      <th>median</th>\n",
       "    </tr>\n",
       "  </thead>\n",
       "  <tbody>\n",
       "    <tr>\n",
       "      <th>duration</th>\n",
       "      <td>24.747934</td>\n",
       "      <td>67.273759</td>\n",
       "      <td>1.000000</td>\n",
       "    </tr>\n",
       "    <tr>\n",
       "      <th>frequency</th>\n",
       "      <td>77.163874</td>\n",
       "      <td>35.429478</td>\n",
       "      <td>100.000000</td>\n",
       "    </tr>\n",
       "    <tr>\n",
       "      <th>num_bets</th>\n",
       "      <td>188.289847</td>\n",
       "      <td>887.705178</td>\n",
       "      <td>13.000000</td>\n",
       "    </tr>\n",
       "    <tr>\n",
       "      <th>mean_bets_per_day</th>\n",
       "      <td>25.851029</td>\n",
       "      <td>48.710538</td>\n",
       "      <td>7.000000</td>\n",
       "    </tr>\n",
       "    <tr>\n",
       "      <th>mean_bet_size</th>\n",
       "      <td>0.504854</td>\n",
       "      <td>2.325948</td>\n",
       "      <td>0.092696</td>\n",
       "    </tr>\n",
       "    <tr>\n",
       "      <th>total_wagered</th>\n",
       "      <td>169.065085</td>\n",
       "      <td>2566.957588</td>\n",
       "      <td>1.285000</td>\n",
       "    </tr>\n",
       "    <tr>\n",
       "      <th>net_loss</th>\n",
       "      <td>2.722660</td>\n",
       "      <td>56.550746</td>\n",
       "      <td>0.030138</td>\n",
       "    </tr>\n",
       "    <tr>\n",
       "      <th>percent_loss</th>\n",
       "      <td>11.172689</td>\n",
       "      <td>55.112935</td>\n",
       "      <td>5.736237</td>\n",
       "    </tr>\n",
       "  </tbody>\n",
       "</table>\n",
       "</div>"
      ],
      "text/plain": [
       "                         mean          std      median\n",
       "duration            24.747934    67.273759    1.000000\n",
       "frequency           77.163874    35.429478  100.000000\n",
       "num_bets           188.289847   887.705178   13.000000\n",
       "mean_bets_per_day   25.851029    48.710538    7.000000\n",
       "mean_bet_size        0.504854     2.325948    0.092696\n",
       "total_wagered      169.065085  2566.957588    1.285000\n",
       "net_loss             2.722660    56.550746    0.030138\n",
       "percent_loss        11.172689    55.112935    5.736237"
      ]
     },
     "execution_count": 12,
     "metadata": {},
     "output_type": "execute_result"
    }
   ],
   "source": [
    "gb.statistics.descriptive_table(measures_table)"
   ]
  },
  {
   "cell_type": "markdown",
   "metadata": {},
   "source": [
    "That's all there is to it! This four step template is the foundation for almost every player behaviour tracking study that has been done since the start of the field, and invites customisation in steps 3 and 4 for more sophisticated analyses."
   ]
  },
  {
   "cell_type": "markdown",
   "metadata": {},
   "source": [
    "Important questions to think about are;\n",
    "1. which behavioural measures to use\n",
    "2. how to best describe these measures\n",
    "3. which intermediate features could be applied\n",
    "4. which statistical tests make sense for your experimental setting"
   ]
  },
  {
   "cell_type": "markdown",
   "metadata": {},
   "source": [
    "In the intermediate tutorial you'll learn some more advanced techniques, and cover some simple visualisation."
   ]
  }
 ],
 "metadata": {
  "kernelspec": {
   "display_name": "Python 3",
   "language": "python",
   "name": "python3"
  },
  "language_info": {
   "codemirror_mode": {
    "name": "ipython",
    "version": 3
   },
   "file_extension": ".py",
   "mimetype": "text/x-python",
   "name": "python",
   "nbconvert_exporter": "python",
   "pygments_lexer": "ipython3",
   "version": "3.8.5"
  }
 },
 "nbformat": 4,
 "nbformat_minor": 4
}
