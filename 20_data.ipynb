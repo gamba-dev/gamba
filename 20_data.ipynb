{
 "cells": [
  {
   "cell_type": "code",
   "execution_count": null,
   "metadata": {},
   "outputs": [],
   "source": [
    "# default_exp data"
   ]
  },
  {
   "cell_type": "markdown",
   "metadata": {},
   "source": [
    "# Data\n",
    "\n",
    "> Load transaction data into a usable format"
   ]
  },
  {
   "cell_type": "code",
   "execution_count": null,
   "metadata": {},
   "outputs": [],
   "source": [
    "#hide\n",
    "from nbdev.showdoc import *"
   ]
  },
  {
   "cell_type": "markdown",
   "metadata": {},
   "source": [
    "## Overview\n",
    "\n",
    "The data module can be used to load in transaction data sets from multiple sources into a format that the gamba library can use. This module contains a number of data loading functions for existing public data repositories so you can replicate or extend work right from the start."
   ]
  },
  {
   "cell_type": "markdown",
   "metadata": {},
   "source": [
    "## Reading CSV Files"
   ]
  },
  {
   "cell_type": "markdown",
   "metadata": {},
   "source": [
    "This can be done using the `read_csv` method, which is a wrapper around the [pandas library's method](https://pandas.pydata.org/pandas-docs/stable/reference/api/pandas.read_csv.html) of the same name."
   ]
  },
  {
   "cell_type": "code",
   "execution_count": null,
   "metadata": {},
   "outputs": [],
   "source": [
    "#export\n",
    "def read_csv(file, parse_dates=[], index_col=None, delimiter=\",\", dummy_data=False):\n",
    "\n",
    "    df = pd.read_csv(\n",
    "        file, parse_dates=parse_dates, index_col=index_col, delimiter=delimiter\n",
    "    )\n",
    "\n",
    "    return df"
   ]
  },
  {
   "cell_type": "markdown",
   "metadata": {},
   "source": [
    "This can be used to read a regular CSV file as you'd expect, but can also be used for tab-separated files - as some of [the transparency project](http://www.thetransparencyproject.org/download_index.php)'s data sets are."
   ]
  },
  {
   "cell_type": "markdown",
   "metadata": {},
   "source": [
    "## Setting Column Names"
   ]
  },
  {
   "cell_type": "markdown",
   "metadata": {},
   "source": [
    "The gamba library's methods expect a dataframe with certain column names. The most important task after loading data as a [pandas dataframe](https://pandas.pydata.org/pandas-docs/stable/reference/api/pandas.DataFrame.html) is to set these column names according to the type of data the column contains. These names should match the following table for basic data;"
   ]
  },
  {
   "cell_type": "markdown",
   "metadata": {},
   "source": [
    "| Column Name       | Description                                          |\n",
    "|-------------------|------------------------------------------------------|\n",
    "| ***player_id***   | a unique identifier for each player                  |\n",
    "| ***bet_size***    | the size of the bet (in raw currency form, e.g. USD) |\n",
    "| ***bet_time***    | the datetime the bet was placed                      |\n",
    "| ***payout_size*** | the size of the payout (also in raw currency)        |"
   ]
  },
  {
   "cell_type": "markdown",
   "metadata": {},
   "source": [
    "Advanced data sets may contain more information about each bet. These additional columns can be included using names from the table below. Note that methods in other parts of the library will reject dataframes which contain column names not in one these two tables."
   ]
  },
  {
   "cell_type": "markdown",
   "metadata": {},
   "source": [
    "| Column Name        | Description                                                                                                                              |\n",
    "|--------------------|------------------------------------------------------------------------------------------------------------------------------------------|\n",
    "| ***payout_time***  | the [timestamp]((https://www.unixtimestamp.com/) that the payout was paid                                                                |\n",
    "| ***decimal_odds*** | the [decimal odds](https://en.wikipedia.org/wiki/Odds#Decimal_odds) for the given bet                                                    |\n",
    "| ***house_edge***   | the percentage taken by the house (value of 3 for 3% house edge)                                                                         |\n",
    "| ***game_type***    | the game being played as a string e.g. 'coinflip', 'roulette' - doesn't have to be one of a fixed set but should be unique per game type |\n",
    "| ***provider***     | the operator's name - this is useful for mixed operator datasets                                                                         |"
   ]
  },
  {
   "cell_type": "markdown",
   "metadata": {},
   "source": [
    "## Loading Existing Datasets\n",
    "\n",
    "Several public repositories provide transaction data that can be loaded by the gamba library (see Public Repositories in the menu). The data module contains methods for loading some of these sets into the correct format, which are used in the respective replications. If you're loading in a similar data set, feel free to explore the source code of these methods to see how it's done, and modify them for your own needs!"
   ]
  },
  {
   "cell_type": "code",
   "execution_count": null,
   "metadata": {},
   "outputs": [],
   "source": [
    "#export\n",
    "def prepare_labrie_data(filename, savedir=\"labrie_individuals/\", loud=False, year=2008):\n",
    "    \"Splits the original labrie data into CSV files for each individual's transactions and renames the columns to be compatable with the rest of the gamba library.\"\n",
    "\n",
    "    labrie_data = None\n",
    "\n",
    "    if year == 2008:\n",
    "        labrie_data = pd.read_csv(filename, delimiter=\"\\t\", parse_dates=[\"Date\"])\n",
    "    elif year == 2007:\n",
    "        labrie_data = pd.read_csv(filename, parse_dates=[\"Date\"])\n",
    "\n",
    "    # rename columns to make them compatable with gamba.measures\n",
    "    if loud:\n",
    "        print(\"original columns:\", list(labrie_data.columns))\n",
    "\n",
    "    if year == 2008:\n",
    "        labrie_data.columns = [\n",
    "            \"player_id\",\n",
    "            \"bet_time\",\n",
    "            \"bet_size\",\n",
    "            \"payout_size\",\n",
    "            \"bet_count\",\n",
    "        ]\n",
    "        labrie_data.to_csv(\"gamba_ready_labrie_data_2008.csv\", index=False)\n",
    "    elif year == 2007:\n",
    "        labrie_data.columns = [\n",
    "            \"player_id\",\n",
    "            \"bet_time\",\n",
    "            \"product_id\",\n",
    "            \"bet_size\",\n",
    "            \"payout_size\",\n",
    "            \"bet_count\",\n",
    "        ]\n",
    "        labrie_data.to_csv(\"gamba_ready_labrie_data_2007.csv\", index=False)\n",
    "\n",
    "    if loud:\n",
    "        print(\"better columns:\", list(labrie_data.columns))\n",
    "\n",
    "    # split_individual_transactions(labrie_data, savedir)\n",
    "\n",
    "    if loud:\n",
    "        print(\"LaBrie data ready to use!\")\n",
    "\n",
    "    return labrie_data"
   ]
  },
  {
   "cell_type": "code",
   "execution_count": null,
   "metadata": {},
   "outputs": [],
   "source": [
    "#export\n",
    "def prepare_braverman_data(filename, loud=False):\n",
    "    \"Splits the original Braverman and Shaffer data into CSV files for each indivdiual's transactions, and renames the columns to be compatable with the rest of the gamba library.\"\n",
    "    \n",
    "    braverman_data = pd.read_csv(filename, parse_dates=[\"TimeDATE\"], delimiter=\"\\t\")\n",
    "\n",
    "    braverman_data.columns = [\n",
    "        \"player_id\",\n",
    "        \"bet_time\",\n",
    "        \"bet_size\",\n",
    "        \"payout_size\",\n",
    "        \"bet_count\",\n",
    "    ]\n",
    "\n",
    "    # split_individual_transactions(raw_data, 'braverman_individuals/')\n",
    "\n",
    "    if loud:\n",
    "        print(\"Braverman data ready to use!\")\n",
    "\n",
    "    braverman_data.to_csv(\"gamba_ready_braverman_data.csv\", index=False)\n",
    "    return braverman_data"
   ]
  },
  {
   "cell_type": "code",
   "execution_count": null,
   "metadata": {},
   "outputs": [],
   "source": [
    "#export\n",
    "def prepare_philander_data(filename, loud=False):\n",
    "    \"Loads in the analytic data set of high-risk internet gamblers and removes the UserID, Sereason, random, and clustering columns as described in Philander's 2014 study.\"\n",
    "    \n",
    "    analytic_data = read_csv(filename, delimiter='\\t')\n",
    "    philander_data = analytic_data.copy()\n",
    "    philander_data['self_exclude'] = np.where(philander_data['Sereason'] == 3, 1, 0) # apply the binary self-exclude technique (middle of page 5)\n",
    "    philander_data.drop(labels=['Sereason','random','p2clusteringactivity','p2clusterhalf1','p2clusterhalf2'], axis=1, inplace=True)\n",
    "    philander_data.columns = ['player_id', 'country', 'gender','age','total_wagered','num_bets','frequency','duration','bets_per_day','net_loss',\n",
    "                              'intensity','variability','frequency_1m','trajectory',\n",
    "                              'z_intensity','z_variability','z_frequency','z_trajectory','self_exclude']\n",
    "    if loud:\n",
    "        print(len(philander_data), 'players loaded')\n",
    "\n",
    "    return philander_data"
   ]
  },
  {
   "cell_type": "markdown",
   "metadata": {},
   "source": [
    "## Final Checks"
   ]
  },
  {
   "cell_type": "markdown",
   "metadata": {},
   "source": [
    "It's good practice to check that your column names match those used by the gamba library, and make sure that no extra columns exist. The `check_data` method below can be given the dataframe, and it will raise an error if anything isn't as it should be;"
   ]
  },
  {
   "cell_type": "code",
   "execution_count": null,
   "metadata": {},
   "outputs": [],
   "source": [
    "#export\n",
    "def check_data(dataframe):\n",
    "\n",
    "    acceptable_names = ['player_id','bet_size','bet_time','payout_size','payout_time','decimal_odds','house_edge','game_type','provider']\n",
    "    \n",
    "    for name in dataframe.columns:\n",
    "        if name not in acceptable_names:\n",
    "            raise Exception('invalid column name provided, expecting one of', acceptable_names)\n",
    "\n",
    "    print(column_names)"
   ]
  },
  {
   "cell_type": "code",
   "execution_count": null,
   "metadata": {},
   "outputs": [],
   "source": []
  },
  {
   "cell_type": "markdown",
   "metadata": {},
   "source": [
    "## Plotting\n",
    "\n",
    "The data module contains some basic visualisation methods which can be applied before any behavioural measures are calculated. This is useful for showing the distributions of player bet sizes, times, payouts, and so on."
   ]
  },
  {
   "cell_type": "code",
   "execution_count": null,
   "metadata": {},
   "outputs": [],
   "source": [
    "#export\n",
    "import matplotlib.pyplot as plt\n",
    "def plot_player_career(player_df, savename=None):\n",
    "    \"Creates a candlestick-style plot of a players betting activity over the course of their career. This works best on regularly-spaced sequential data but can also provide insight into intra-session win/loss patterns.\"\n",
    "    \n",
    "    plt.figure(figsize=[5, 3])\n",
    "    previous_y_end = 0\n",
    "    for i, bet in player_df.iterrows():\n",
    "        bet_size = bet[\"bet_size\"]\n",
    "        payout_size = bet[\"payout_size\"]\n",
    "        bet_time = bet[\"bet_time\"]\n",
    "        payout_time = bet[\"payout_time\"]\n",
    "\n",
    "        start_y = previous_y_end\n",
    "        end_y = 0\n",
    "\n",
    "        # if bet loses\n",
    "        if payout_size < bet_size:\n",
    "            end_y = start_y - bet_size\n",
    "            # plt.plot([2*i, 2*i + 1], [bet_size, payout_size], marker='o', color='red')\n",
    "            plt.plot(\n",
    "                [i, i], [start_y, end_y], marker=\"o\", color=\"#d30505\", markersize=12\n",
    "            )\n",
    "        else:\n",
    "            end_y = start_y + payout_size\n",
    "            # plt.plot([2*i, 2*i + 1], [bet_size, payout_size], marker='o', color='green')\n",
    "            plt.plot(\n",
    "                [i, i], [start_y, end_y], marker=\"o\", color=\"#00B007\", markersize=12\n",
    "            )\n",
    "\n",
    "        previous_y_end = end_y\n",
    "\n",
    "    plt.xlabel(None)\n",
    "    if savename != None:\n",
    "        plt.savefig(savename, dpi=200, transparent=True)\n",
    "\n",
    "    return plt"
   ]
  },
  {
   "cell_type": "code",
   "execution_count": null,
   "metadata": {},
   "outputs": [],
   "source": [
    "#export\n",
    "def plot_player_career_split(player_df):\n",
    "    \"Plot a player's betting and payout trajectory on a single plot, with green indicating payouts (top) and red indicating bets (bottom). A cumulative value line is also plotted between the two. Note that the player_df must include both \"\n",
    "    \n",
    "    plt.figure()\n",
    "\n",
    "    previous_y_end = 0\n",
    "    for i, bet in player_df.iterrows():\n",
    "        bet_size = bet[\"bet_size\"]\n",
    "        payout_size = bet[\"payout_size\"]\n",
    "        bet_time = bet[\"bet_time\"]\n",
    "        payout_time = bet[\"payout_time\"]\n",
    "\n",
    "        start_y = previous_y_end\n",
    "        end_y = 0\n",
    "\n",
    "        # if bet loses\n",
    "        if payout_size < bet_size:\n",
    "            end_y = start_y - bet_size\n",
    "            # plt.plot([2*i, 2*i + 1], [bet_size, payout_size], marker='o', color='red')\n",
    "            plt.plot([i, i], [start_y, end_y], marker=\"o\", color=\"red\")\n",
    "        else:\n",
    "            end_y = start_y + payout_size\n",
    "            # plt.plot([2*i, 2*i + 1], [bet_size, payout_size], marker='o', color='green')\n",
    "            plt.plot([i, i], [start_y, end_y], marker=\"o\", color=\"green\")\n",
    "\n",
    "        previous_y_end = end_y\n",
    "\n",
    "    bets = player_df[\"bet_size\"].values\n",
    "    payouts = player_df[\"payout_size\"].values\n",
    "    plt.plot(\n",
    "        range(len(bets)),\n",
    "        np.cumsum(-bets),\n",
    "        marker=\"o\",\n",
    "        color=\"red\",\n",
    "        label=\"Cumulative Bets\",\n",
    "    )\n",
    "    plt.plot(\n",
    "        range(len(payouts)),\n",
    "        np.cumsum(payouts),\n",
    "        marker=\"o\",\n",
    "        color=\"green\",\n",
    "        label=\"Cumulative Payouts\",\n",
    "    )\n",
    "    plt.legend()\n",
    "    plt.xlim(0, len(bets) * 1.02)\n",
    "    plt.ylim(-max([sum(bets), sum(payouts)]), max([sum(bets), sum(payouts)]))\n",
    "    return plt"
   ]
  },
  {
   "cell_type": "code",
   "execution_count": null,
   "metadata": {},
   "outputs": [],
   "source": [
    "#export\n",
    "def visualise_provider_dates(player_bets, providers, provider_labels=None):\n",
    "    \"\"\"\n",
    "    Visualises the start and end dates of bets from one or more providers on a stacked gantt style plot.\n",
    "\n",
    "    \"\"\"\n",
    "    fig = plt.figure(figsize=[8,1.5])\n",
    "    \n",
    "    for i, provider in enumerate(providers):\n",
    "        print(provider)\n",
    "        provider_bets = player_bets[(player_bets['provider'] == provider)]\n",
    "        start = provider_bets[\"bet_time\"].min()\n",
    "        end = provider_bets[\"bet_time\"].max()\n",
    "        \n",
    "        plt.plot([start, end], [i,i], label=provider)\n",
    "        plt.scatter([start, end], [i,i], s=100, marker='|')\n",
    "    \n",
    "    ax = fig.axes[0]\n",
    "    ax.xaxis.set_major_locator(mdates.MonthLocator([1,4,7,10])) # ticks on first day of each quarter\n",
    "    ax.xaxis.set_major_formatter(mdates.DateFormatter('%b %Y')) # format of only month (3 letter abbr)\n",
    "    if provider_labels == None:\n",
    "        plt.yticks([0,1,2], providers)\n",
    "    else:\n",
    "        plt.yticks(range(len(providers)), provider_labels)\n",
    "    plt.ylim(-0.5, len(providers)-0.5)\n",
    "    plt.grid(True)\n",
    "    return plt"
   ]
  }
 ],
 "metadata": {
  "kernelspec": {
   "display_name": "Python 3",
   "language": "python",
   "name": "python3"
  }
 },
 "nbformat": 4,
 "nbformat_minor": 4
}
