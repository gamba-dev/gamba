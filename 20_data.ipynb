{
 "cells": [
  {
   "cell_type": "code",
   "execution_count": null,
   "metadata": {},
   "outputs": [],
   "source": [
    "# default_exp data"
   ]
  },
  {
   "cell_type": "markdown",
   "metadata": {},
   "source": [
    "# Data\n",
    "\n",
    "> Load transaction data into a usable format"
   ]
  },
  {
   "cell_type": "code",
   "execution_count": null,
   "metadata": {},
   "outputs": [],
   "source": [
    "#hide\n",
    "from nbdev.showdoc import *"
   ]
  },
  {
   "cell_type": "markdown",
   "metadata": {},
   "source": [
    "The data module can be used to load in transaction data sets from multiple sources into a format that the gamba library can use."
   ]
  },
  {
   "cell_type": "markdown",
   "metadata": {},
   "source": [
    "## Reading CSV Files"
   ]
  },
  {
   "cell_type": "markdown",
   "metadata": {},
   "source": [
    "This can be done using the `read_csv` method, which is a wrapper around the [pandas library's method](https://pandas.pydata.org/pandas-docs/stable/reference/api/pandas.read_csv.html) of the same name."
   ]
  },
  {
   "cell_type": "code",
   "execution_count": null,
   "metadata": {},
   "outputs": [],
   "source": [
    "#export\n",
    "def read_csv(file, parse_dates=[], index_col=None, delimiter=\",\", dummy_data=False):\n",
    "\n",
    "    df = pd.read_csv(\n",
    "        file, parse_dates=parse_dates, index_col=index_col, delimiter=delimiter\n",
    "    )\n",
    "\n",
    "    return df"
   ]
  },
  {
   "cell_type": "markdown",
   "metadata": {},
   "source": [
    "This can be used to read a regular CSV file as you'd expect, but can also be used for tab-separated files - as some of [the transparency project](http://www.thetransparencyproject.org/download_index.php)'s data sets are."
   ]
  },
  {
   "cell_type": "markdown",
   "metadata": {},
   "source": [
    "## Setting Column Names"
   ]
  },
  {
   "cell_type": "markdown",
   "metadata": {},
   "source": [
    "The gamba library's methods expect a dataframe with certain column names. The most important task after loading data as a [pandas dataframe]() is to set these names according to the type of data the column contains. These names should match the following table;"
   ]
  },
  {
   "cell_type": "markdown",
   "metadata": {},
   "source": [
    "| name      | description                                          |\n",
    "|-----------|------------------------------------------------------|\n",
    "| player_id | a unique identifier for each player                  |\n",
    "| bet_size  | the size of the bet (in raw currency form, e.g. USD) |\n",
    "| bet_time  | the                                                  |"
   ]
  },
  {
   "cell_type": "markdown",
   "metadata": {},
   "source": [
    "## Final Checks"
   ]
  },
  {
   "cell_type": "markdown",
   "metadata": {},
   "source": [
    "It's good practice to check that your column names match those used by the gamba library, and make sure that no extra columns exist. The `check_data` method below can be given the dataframe, and it will raise an error if anything isn't as it should be;"
   ]
  },
  {
   "cell_type": "code",
   "execution_count": null,
   "metadata": {},
   "outputs": [],
   "source": [
    "#export\n",
    "def check_data(dataframe):\n",
    "    \n",
    "    column_names = dataframe.columns\n",
    "    \n",
    "    print(column_names)\n",
    "    \n",
    "\n",
    "    "
   ]
  }
 ],
 "metadata": {
  "kernelspec": {
   "display_name": "Python 3",
   "language": "python",
   "name": "python3"
  }
 },
 "nbformat": 4,
 "nbformat_minor": 4
}
