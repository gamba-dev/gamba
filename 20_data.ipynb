{
 "cells": [
  {
   "cell_type": "code",
   "execution_count": null,
   "metadata": {},
   "outputs": [],
   "source": [
    "# default_exp data"
   ]
  },
  {
   "cell_type": "markdown",
   "metadata": {},
   "source": [
    "# data\n",
    "\n",
    "> Load transaction data into a usable format"
   ]
  },
  {
   "cell_type": "code",
   "execution_count": null,
   "metadata": {},
   "outputs": [],
   "source": [
    "#hide\n",
    "from nbdev.showdoc import *"
   ]
  },
  {
   "cell_type": "markdown",
   "metadata": {},
   "source": [
    "The data module can be used to load in transaction data sets from multiple sources. The most important task after loading data as a [pandas datafram]() is to set column names. These names should correspond to specific values depending on what the column contains."
   ]
  },
  {
   "cell_type": "markdown",
   "metadata": {},
   "source": [
    "| name      | description                                          |\n",
    "|-----------|------------------------------------------------------|\n",
    "| player_id | a unique identifier for each player                  |\n",
    "| bet_size  | the size of the bet (in raw currency form, e.g. USD) |\n",
    "| bet_time  | the                                                  |"
   ]
  }
 ],
 "metadata": {
  "kernelspec": {
   "display_name": "Python 3",
   "language": "python",
   "name": "python3"
  },
  "language_info": {
   "codemirror_mode": {
    "name": "ipython",
    "version": 3
   },
   "file_extension": ".py",
   "mimetype": "text/x-python",
   "name": "python",
   "nbconvert_exporter": "python",
   "pygments_lexer": "ipython3",
   "version": "3.8.5"
  }
 },
 "nbformat": 4,
 "nbformat_minor": 4
}
