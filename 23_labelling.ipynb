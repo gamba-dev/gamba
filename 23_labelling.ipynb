{
 "cells": [
  {
   "cell_type": "code",
   "execution_count": null,
   "metadata": {},
   "outputs": [],
   "source": [
    "# default_exp labelling"
   ]
  },
  {
   "cell_type": "markdown",
   "metadata": {},
   "source": [
    "# Labelling\n",
    "\n",
    "> Apply labels to a measures table"
   ]
  },
  {
   "cell_type": "code",
   "execution_count": null,
   "metadata": {},
   "outputs": [],
   "source": [
    "#hide\n",
    "from nbdev.showdoc import *"
   ]
  },
  {
   "cell_type": "markdown",
   "metadata": {},
   "source": [
    "## Overview\n",
    "\n",
    "A measures table can be labelled so that more advanced analytical methods can be applied, which include between-group tests, classification methods in machine learning, and more. The most used historical labelling heuristic is to split players according to the total amount they wager. The labelling module provides a way to do this for any fractional split (e.g. 80:20, 95:5...) via the `label_split` method."
   ]
  },
  {
   "cell_type": "markdown",
   "metadata": {},
   "source": [
    "## Methods"
   ]
  },
  {
   "cell_type": "code",
   "execution_count": null,
   "metadata": {},
   "outputs": [],
   "source": [
    "#export\n",
    "import numpy as np\n",
    "def top_split(measures_table, split_by, percentile=95, loud=False):\n",
    "    \"Labels player's behavioural measures according to their presence in the top percentile of a given measure (split_by). Label column will be 1 if in the top percentile, 0 if not. E.g. if split_by is 'total_wagered' and percentile is 95, players in the top 5% by total wagered will be labelled 1, and all others 0.\"\n",
    "\n",
    "    cutoff = np.percentile(measures_table[split_by].values, percentile)\n",
    "\n",
    "    column_name = \"top_\" + split_by\n",
    "\n",
    "    labelled_measures_table = measures_table.copy()\n",
    "\n",
    "    labelled_measures_table[column_name] = 0\n",
    "    labelled_measures_table.loc[\n",
    "        labelled_measures_table[split_by] > cutoff, column_name\n",
    "    ] = 1\n",
    "\n",
    "    if loud:\n",
    "        print(\n",
    "            \"top count:\",\n",
    "            len(\n",
    "                labelled_measures_table[labelled_measures_table[\"top_\" + split_by] == 1]\n",
    "            ),\n",
    "        )\n",
    "        print(\n",
    "            \"other count:\",\n",
    "            len(\n",
    "                labelled_measures_table[labelled_measures_table[\"top_\" + split_by] == 0]\n",
    "            ),\n",
    "        )\n",
    "\n",
    "    return labelled_measures_table"
   ]
  },
  {
   "cell_type": "code",
   "execution_count": null,
   "metadata": {},
   "outputs": [],
   "source": [
    "#export\n",
    "def get_labelled_groups(labelled_measures_table, labelname):\n",
    "    \"Provides a simple way of splitting a labelled measures table into multiple tables each corresponding to a given label.\"\n",
    "\n",
    "    # get the labels IN ASCENDING ORDER (important)\n",
    "    labels = sorted(set(list(labelled_measures_table[labelname].values)))\n",
    "    player_groups = []\n",
    "    for label in labels:\n",
    "        this_group = labelled_measures_table[\n",
    "            labelled_measures_table[labelname] == label\n",
    "        ]\n",
    "        player_groups.append(this_group)\n",
    "\n",
    "    return player_groups"
   ]
  },
  {
   "cell_type": "markdown",
   "metadata": {},
   "source": [
    "## Descriptive Outputs"
   ]
  },
  {
   "cell_type": "markdown",
   "metadata": {},
   "source": [
    "Labeled measures tables are a powerful tool in themselves, and can be used in the `machine_learning` module or used to describe each labeled group."
   ]
  },
  {
   "cell_type": "code",
   "execution_count": null,
   "metadata": {},
   "outputs": [],
   "source": [
    "#export\n",
    "def spending_portions(measures_table):\n",
    "    \"Computes the percentages of total amount wagered of groups of players by presence in the top percentages of the total amount wagered. E.g. how much does the top 5% of players by total amount wagered account for out of the total amount wagered by everyone. It currently computes this statement for the percentages {1,5,10,25,50}, and prints the statements to the console.\"\n",
    "\n",
    "    percentages = [1, 5, 10, 25, 50]\n",
    "\n",
    "    for percentage in percentages:\n",
    "\n",
    "        labelled_measures_table = gb.top_split(\n",
    "            mt, \"total_wagered\", percentile=100 - percentage\n",
    "        )\n",
    "        groups = gb.get_labelled_groups(labelled_measures_table, \"top_total_wagered\")\n",
    "        label_members = groups[1]\n",
    "        non_members = groups[0]\n",
    "\n",
    "        total_amount = labelled_measures_table[\"total_wagered\"].sum()\n",
    "\n",
    "        top_one_amount = label_members[\"total_wagered\"].sum()\n",
    "\n",
    "        print(\n",
    "            \"top\",\n",
    "            percentage,\n",
    "            \"% of players account for\",\n",
    "            str(round(top_one_amount, 0)),\n",
    "            \"/\",\n",
    "            str(round(total_amount, 0)),\n",
    "            \"or\",\n",
    "            str(round(top_one_amount / total_amount * 100, 2)),\n",
    "            \"of the amount wagered.\",\n",
    "        )"
   ]
  },
  {
   "cell_type": "code",
   "execution_count": null,
   "metadata": {},
   "outputs": [],
   "source": []
  }
 ],
 "metadata": {
  "kernelspec": {
   "display_name": "Python 3",
   "language": "python",
   "name": "python3"
  }
 },
 "nbformat": 4,
 "nbformat_minor": 4
}
