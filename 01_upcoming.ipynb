{
 "cells": [
  {
   "cell_type": "markdown",
   "metadata": {},
   "source": [
    "# Upcoming Features\n",
    "> This page is updated in real time\n",
    "\n",
    "> I'm currently writing my thesis so updates may be sporadic"
   ]
  },
  {
   "cell_type": "markdown",
   "metadata": {},
   "source": [
    "This is a feature testing notebook which contains code before it is tested and added to the library's other notebooks. This is a real-time look at what's under development - this page changes with every commit to the github repo."
   ]
  },
  {
   "cell_type": "code",
   "execution_count": 1,
   "metadata": {},
   "outputs": [
    {
     "name": "stdout",
     "output_type": "stream",
     "text": [
      "INFO:tensorflow:Enabling eager execution\n",
      "INFO:tensorflow:Enabling v2 tensorshape\n",
      "INFO:tensorflow:Enabling resource variables\n",
      "INFO:tensorflow:Enabling tensor equality\n",
      "INFO:tensorflow:Enabling control flow v2\n"
     ]
    },
    {
     "data": {
      "text/html": [
       "<div>\n",
       "<style scoped>\n",
       "    .dataframe tbody tr th:only-of-type {\n",
       "        vertical-align: middle;\n",
       "    }\n",
       "\n",
       "    .dataframe tbody tr th {\n",
       "        vertical-align: top;\n",
       "    }\n",
       "\n",
       "    .dataframe thead th {\n",
       "        text-align: right;\n",
       "    }\n",
       "</style>\n",
       "<table border=\"1\" class=\"dataframe\">\n",
       "  <thead>\n",
       "    <tr style=\"text-align: right;\">\n",
       "      <th></th>\n",
       "      <th>player_id</th>\n",
       "      <th>bet_size</th>\n",
       "      <th>bet_time</th>\n",
       "      <th>payout_size</th>\n",
       "      <th>payout_time</th>\n",
       "      <th>decimal_odds</th>\n",
       "    </tr>\n",
       "  </thead>\n",
       "  <tbody>\n",
       "    <tr>\n",
       "      <th>0</th>\n",
       "      <td>1</td>\n",
       "      <td>19</td>\n",
       "      <td>2022-07-28 10:16:18.420458</td>\n",
       "      <td>38</td>\n",
       "      <td>2022-07-28 10:17:02.423591</td>\n",
       "      <td>2.0</td>\n",
       "    </tr>\n",
       "    <tr>\n",
       "      <th>1</th>\n",
       "      <td>1</td>\n",
       "      <td>4</td>\n",
       "      <td>2022-01-08 06:11:32.591243</td>\n",
       "      <td>0</td>\n",
       "      <td>2022-01-08 06:12:20.474972</td>\n",
       "      <td>2.0</td>\n",
       "    </tr>\n",
       "    <tr>\n",
       "      <th>2</th>\n",
       "      <td>1</td>\n",
       "      <td>9</td>\n",
       "      <td>2022-05-20 01:48:35.387337</td>\n",
       "      <td>18</td>\n",
       "      <td>2022-05-20 01:49:15.730706</td>\n",
       "      <td>2.0</td>\n",
       "    </tr>\n",
       "    <tr>\n",
       "      <th>3</th>\n",
       "      <td>1</td>\n",
       "      <td>17</td>\n",
       "      <td>2021-12-11 09:12:44.650649</td>\n",
       "      <td>34</td>\n",
       "      <td>2021-12-11 09:12:57.668124</td>\n",
       "      <td>2.0</td>\n",
       "    </tr>\n",
       "    <tr>\n",
       "      <th>4</th>\n",
       "      <td>1</td>\n",
       "      <td>8</td>\n",
       "      <td>2022-05-11 16:21:21.756946</td>\n",
       "      <td>16</td>\n",
       "      <td>2022-05-11 16:21:34.148072</td>\n",
       "      <td>2.0</td>\n",
       "    </tr>\n",
       "  </tbody>\n",
       "</table>\n",
       "</div>"
      ],
      "text/plain": [
       "   player_id  bet_size                   bet_time  payout_size  \\\n",
       "0          1        19 2022-07-28 10:16:18.420458           38   \n",
       "1          1         4 2022-01-08 06:11:32.591243            0   \n",
       "2          1         9 2022-05-20 01:48:35.387337           18   \n",
       "3          1        17 2021-12-11 09:12:44.650649           34   \n",
       "4          1         8 2022-05-11 16:21:21.756946           16   \n",
       "\n",
       "                 payout_time  decimal_odds  \n",
       "0 2022-07-28 10:17:02.423591           2.0  \n",
       "1 2022-01-08 06:12:20.474972           2.0  \n",
       "2 2022-05-20 01:49:15.730706           2.0  \n",
       "3 2021-12-11 09:12:57.668124           2.0  \n",
       "4 2022-05-11 16:21:34.148072           2.0  "
      ]
     },
     "metadata": {},
     "output_type": "display_data"
    },
    {
     "name": "stdout",
     "output_type": "stream",
     "text": [
      "[('aggregate_bets', <function aggregate_bets at 0x7fd3ddee30d0>), ('available_measures', <function available_measures at 0x7fd3ddee2dc0>), ('calculate_braverman_measures', <function calculate_braverman_measures at 0x7fd3ddee2d30>), ('calculate_labrie_measures', <function calculate_labrie_measures at 0x7fd3de5fbca0>), ('check_measure_data', <function check_measure_data at 0x7fd3ddee2e50>), ('create_measures_table', <function create_measures_table at 0x7fd3e404b820>), ('duration', <function duration at 0x7fd3e404b8b0>), ('frequency', <function frequency at 0x7fd3e404b940>), ('frequency_raw', <function frequency_raw at 0x7fd3e404baf0>), ('get_sessions', <function get_sessions at 0x7fd3ddee2ee0>), ('intensity', <function intensity at 0x7fd3e404ba60>), ('max_bet_size', <function max_bet_size at 0x7fd3de5fb820>), ('mean_bet_size', <function mean_bet_size at 0x7fd3e404a0d0>), ('mean_bets_per_day', <function mean_bets_per_day at 0x7fd3e404be50>), ('mean_game_types_per_day', <function mean_game_types_per_day at 0x7fd3de5fbc10>), ('mean_play_time_per_day', <function mean_play_time_per_day at 0x7fd3e404bdc0>), ('mean_session_length', <function mean_session_length at 0x7fd3e404bd30>), ('mean_sessions_per_day', <function mean_sessions_per_day at 0x7fd3e404bca0>), ('mean_wagered_per_session', <function mean_wagered_per_session at 0x7fd3de5fb430>), ('median_bet_size', <function median_bet_size at 0x7fd3de5fb700>), ('median_bets_per_day', <function median_bets_per_day at 0x7fd3e404bee0>), ('median_loss_per_bet', <function median_loss_per_bet at 0x7fd3de5fb9d0>), ('median_odds', <function median_odds at 0x7fd3de5fbaf0>), ('min_bet_size', <function min_bet_size at 0x7fd3de5fb790>), ('net_loss', <function net_loss at 0x7fd3de5fb8b0>), ('num_providers_used', <function num_providers_used at 0x7fd3de5fbb80>), ('num_sessions', <function num_sessions at 0x7fd3e404bb80>), ('number_of_bets', <function number_of_bets at 0x7fd3e404b9d0>), ('percent_loss', <function percent_loss at 0x7fd3de5fb940>), ('split_measures_table', <function split_measures_table at 0x7fd3ddee3040>), ('standardise_measures_table', <function standardise_measures_table at 0x7fd3ddee2f70>), ('std_bet_sizes', <function std_bet_sizes at 0x7fd3e404a280>), ('std_bets_per_day', <function std_bets_per_day at 0x7fd3e404bf70>), ('theoretical_loss', <function theoretical_loss at 0x7fd3de5fba60>), ('total_play_time', <function total_play_time at 0x7fd3e404bc10>), ('total_wagered', <function total_wagered at 0x7fd3e404a040>), ('trajectory', <function trajectory at 0x7fd3e404a1f0>), ('variability', <function variability at 0x7fd3e404a160>)]\n"
     ]
    }
   ],
   "source": [
    "# new measures\n",
    "\n",
    "from inspect import getmembers, isfunction\n",
    "import gamba as gb, pandas as pd, random\n",
    "import datetime\n",
    "\n",
    "# make porting over a little easier\n",
    "check_measure_data = gb.measures.check_measure_data\n",
    "get_sessions = gb.measures.get_sessions\n",
    "aggregate_bets = gb.measures.aggregate_bets\n",
    "\n",
    "\n",
    "def generate_bets(n=20):\n",
    "    df = pd.DataFrame()\n",
    "    \n",
    "    df['player_id'] = [1] * n\n",
    "    df['bet_size'] = [random.randint(0,20) for _ in range(n)]\n",
    "    df['bet_time'] = [datetime.datetime.now() + random.random() * datetime.timedelta(days=500) for _ in range(n)]\n",
    "    df['payout_size'] = [bet * 2 if (random.random() < 0.5) else 0 for bet in df['bet_size'] ]\n",
    "    \n",
    "    df['payout_time'] = [bet_time + random.random() * datetime.timedelta(minutes=1) for bet_time in df['bet_time']]\n",
    "    df['decimal_odds'] = [2.0] * n\n",
    "    \n",
    "    return df\n",
    "    \n",
    "\n",
    "player_bets = generate_bets()\n",
    "\n",
    "functions = getmembers(gb.measures, isfunction)\n",
    "\n",
    "display(player_bets.head())\n",
    "print(functions)"
   ]
  },
  {
   "cell_type": "markdown",
   "metadata": {},
   "source": [
    "## Systematic Review Measures"
   ]
  },
  {
   "cell_type": "code",
   "execution_count": 61,
   "metadata": {},
   "outputs": [
    {
     "name": "stdout",
     "output_type": "stream",
     "text": [
      "5\n"
     ]
    }
   ],
   "source": [
    "def active_day_trajectory(player_bets):\n",
    "    \n",
    "    pass"
   ]
  },
  {
   "cell_type": "code",
   "execution_count": 12,
   "metadata": {},
   "outputs": [
    {
     "name": "stdout",
     "output_type": "stream",
     "text": [
      "3\n"
     ]
    }
   ],
   "source": [
    "\n",
    "\n",
    "\n",
    "sawtooth_occurances(player_bets)"
   ]
  },
  {
   "cell_type": "markdown",
   "metadata": {},
   "source": [
    "## Generic Utility Methods"
   ]
  },
  {
   "cell_type": "code",
   "execution_count": 4,
   "metadata": {},
   "outputs": [
    {
     "data": {
      "image/png": "[encoded data removed]",
      "text/plain": [
       "<Figure size 432x288 with 1 Axes>"
      ]
     },
     "metadata": {
      "needs_background": "light"
     },
     "output_type": "display_data"
    },
    {
     "data": {
      "text/plain": [
       "0.11785714285714284"
      ]
     },
     "execution_count": 4,
     "metadata": {},
     "output_type": "execute_result"
    }
   ],
   "source": [
    "from sklearn.linear_model import LinearRegression\n",
    "import matplotlib.pyplot as plt, numpy as np\n",
    "def aggregate_trajectory(player_bets, aggregation='daily', plot=False, variable='bet_size'):\n",
    "    \n",
    "    \"Gradient of a linear regression fitted to the sequence of an aggregated behavioural measure. Aggregation level can be daily, weekly, or monthly.\"\n",
    "    \n",
    "    check_measures_data(player_bets, [variable])\n",
    "    \n",
    "    bets = aggregate_bets(player_bets, aggregation=aggregation)\n",
    "    aggregates = [df[variable].sum() for df in bets]\n",
    "    \n",
    "    x = np.array(range(len(aggregates))).reshape((-1, 1)) + 1\n",
    "    y = aggregates\n",
    "\n",
    "    model = LinearRegression().fit(x, y)\n",
    "\n",
    "    model_x = x\n",
    "    model_y = model.coef_ * x + model.intercept_\n",
    "\n",
    "    if plot:\n",
    "        plt.figure()\n",
    "        plt.scatter(x, y)\n",
    "        plt.plot(model_x, model_y, color=\"r\")\n",
    "        plt.ylabel(variable + ' sum')\n",
    "        plt.show()\n",
    "\n",
    "    return model.coef_[0]\n",
    "\n",
    "\n",
    "generic_trajectory([1,1,1,2,2,3,2,3,3,2,2,1,2,3,4], plot=True)"
   ]
  },
  {
   "cell_type": "code",
   "execution_count": 4,
   "metadata": {},
   "outputs": [
    {
     "name": "stdout",
     "output_type": "stream",
     "text": [
      "[[-0.75168546]\n",
      " [ 0.02466512]\n",
      " [ 1.65049313]\n",
      " [ 2.21787761]\n",
      " [-0.85616189]\n",
      " [-0.59038019]\n",
      " [ 4.21257287]\n",
      " [ 5.54031505]\n",
      " [ 4.84723228]\n",
      " [ 4.13853174]\n",
      " [ 6.70278679]\n",
      " [ 3.72489653]\n",
      " [ 4.33384287]\n",
      " [ 4.56100066]\n",
      " [ 3.88145772]\n",
      " [ 4.41494691]\n",
      " [ 6.29808589]\n",
      " [ 4.35027806]\n",
      " [ 4.58080839]\n",
      " [ 6.56074725]]\n"
     ]
    },
    {
     "data": {
      "image/png": "[encoded data removed]",
      "text/plain": [
       "<Figure size 432x288 with 1 Axes>"
      ]
     },
     "metadata": {
      "needs_background": "light"
     },
     "output_type": "display_data"
    }
   ],
   "source": [
    "# Author: Jake Vanderplas <jakevdp@cs.washington.edu>\n",
    "#\n",
    "import numpy as np\n",
    "import matplotlib\n",
    "import matplotlib.pyplot as plt\n",
    "from scipy.stats import norm\n",
    "from sklearn.neighbors import KernelDensity\n",
    "from sklearn.utils.fixes import parse_version\n",
    "\n",
    "N = 20\n",
    "X = np.concatenate((np.random.normal(0, 1, int(0.3 * N)),\n",
    "                    np.random.normal(5, 1, int(0.7 * N))))[:, np.newaxis]\n",
    "\n",
    "print(X)\n",
    "\n",
    "X_plot = np.linspace(-5, 10, 100)[:, np.newaxis]\n",
    "\n",
    "true_dens = (0.3 * norm(0, 1).pdf(X_plot[:, 0])\n",
    "             + 0.7 * norm(5, 1).pdf(X_plot[:, 0]))\n",
    "\n",
    "fig, ax = plt.subplots()\n",
    "ax.fill(X_plot[:, 0], true_dens, fc='black', alpha=0.2,\n",
    "        label='input distribution')\n",
    "lw = 2\n",
    "\n",
    "kde = KernelDensity(kernel='gaussian', bandwidth=0.75).fit(X)\n",
    "log_dens = kde.score_samples(X_plot)\n",
    "ax.plot(X_plot[:, 0], np.exp(log_dens), color='cornflowerblue', lw=lw,\n",
    "        linestyle='-', label=\"kernel = '{0}'\".format('gaussian'))\n",
    "\n",
    "ax.legend(loc='upper left')\n",
    "\n",
    "ax.set_xlim(-4, 9)\n",
    "ax.set_ylim(-0.02, 0.4)\n",
    "plt.show()\n"
   ]
  },
  {
   "cell_type": "code",
   "execution_count": null,
   "metadata": {},
   "outputs": [],
   "source": [
    "def total_wagered_trajectory(player_bets, aggregation='daily', plot=False):\n",
    "    \n",
    "    return aggregate_trajectory(player_bets, aggregation=aggregation, plot=plot, variable='bet_size')\n",
    "\n",
    "total_wagered_trajectory(player_bets, aggregation = 'monthly', plot=True)"
   ]
  },
  {
   "cell_type": "markdown",
   "metadata": {},
   "source": [
    "## General Improvements"
   ]
  },
  {
   "cell_type": "code",
   "execution_count": 7,
   "metadata": {},
   "outputs": [],
   "source": [
    "# new techniques\n",
    "\n",
    "# the neural networks used in the Philander 2014 replication need better documentation and parameterisation"
   ]
  }
 ],
 "metadata": {
  "kernelspec": {
   "display_name": "Python 3",
   "language": "python",
   "name": "python3"
  },
  "language_info": {
   "codemirror_mode": {
    "name": "ipython",
    "version": 3
   },
   "file_extension": ".py",
   "mimetype": "text/x-python",
   "name": "python",
   "nbconvert_exporter": "python",
   "pygments_lexer": "ipython3",
   "version": "3.9.6"
  }
 },
 "nbformat": 4,
 "nbformat_minor": 4
}
