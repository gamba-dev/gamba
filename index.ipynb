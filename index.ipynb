{
 "cells": [
  {
   "cell_type": "code",
   "execution_count": null,
   "metadata": {},
   "outputs": [],
   "source": [
    "# default_exp __init__"
   ]
  },
  {
   "cell_type": "code",
   "execution_count": 2,
   "metadata": {},
   "outputs": [],
   "source": [
    "#export\n",
    "from gamba.data import *\n",
    "from gamba.measures import *\n",
    "from gamba.statistics import *\n",
    "from gamba.labelling import *\n",
    "from gamba.machine_learning import *"
   ]
  },
  {
   "cell_type": "markdown",
   "metadata": {},
   "source": [
    "# Welcome to the gamba library!\n",
    "\n",
    "> A Python library for player behaviour tracking research"
   ]
  },
  {
   "cell_type": "markdown",
   "metadata": {},
   "source": [
    "[![GitHub Workflow Status](https://img.shields.io/github/workflow/status/gamba-dev/gamba/CI?logo=github&style=for-the-badge&)](https://github.com/gamba-dev/gamba/actions)\n",
    "[![PyPI](https://img.shields.io/pypi/v/gamba?style=for-the-badge&color=blue)](https://pypi.org/project/gamba/)\n",
    "[![Commit](https://img.shields.io/github/last-commit/gamba-dev/gamba?label=Last%20update&style=for-the-badge&)](https://github.com/gamba-dev/gamba/commit/main)"
   ]
  },
  {
   "cell_type": "markdown",
   "metadata": {},
   "source": [
    "The gamba transaction analysis library is a collection of methods for applying analytical methods found in peer-reviewed studies. The library is 100% free and open source, and aims to be used by researchers and analysts with access to transaction data sets."
   ]
  },
  {
   "cell_type": "markdown",
   "metadata": {},
   "source": [
    "## Getting Started"
   ]
  },
  {
   "cell_type": "markdown",
   "metadata": {},
   "source": [
    "Getting started using gamba in your research is super easy - the first step is to install the library using one of the commands below. From there, read through one or more of the tutorials, and once you're familiar with the typical structure of an analysis using the gamba library, look through the individual module documentation and extend one of the examples. If you get stuck, please [get in touch](https://twitter.com/ojscholten)!"
   ]
  },
  {
   "cell_type": "markdown",
   "metadata": {},
   "source": [
    "## Install"
   ]
  },
  {
   "cell_type": "markdown",
   "metadata": {},
   "source": [
    "To install gamba use the following pip command;\n",
    "\n",
    "`pip install gamba`"
   ]
  },
  {
   "cell_type": "markdown",
   "metadata": {},
   "source": [
    "Or if you'd like to use the development release, clone the github repository to your machine;\n",
    "\n",
    "`git clone https://github.com/gamba-dev/gamba.git`"
   ]
  },
  {
   "cell_type": "markdown",
   "metadata": {},
   "source": [
    "## Features"
   ]
  },
  {
   "cell_type": "markdown",
   "metadata": {},
   "source": [
    "- standardise your data across game types and activities\n",
    "- compute behavioural measures\n",
    "- apply descriptive and comparative statistics\n",
    "- run machine learning methods\n",
    "- replicate entire paper's analyses on your data"
   ]
  },
  {
   "cell_type": "code",
   "execution_count": 3,
   "metadata": {},
   "outputs": [
    {
     "name": "stdout",
     "output_type": "stream",
     "text": [
      "Converted 00_about.ipynb.\n",
      "Converted 01_upcoming.ipynb.\n",
      "Converted 10_beginner.ipynb.\n",
      "Converted 11_intermediate.ipynb.\n",
      "Converted 12_advanced.ipynb.\n",
      "Converted 20_data.ipynb.\n",
      "Converted 21_measures.ipynb.\n",
      "Converted 22_statistics.ipynb.\n",
      "Converted 23_labelling.ipynb.\n",
      "Converted 24_machine_learning.ipynb.\n",
      "Converted 30_replications.ipynb.\n",
      "Converted 31_labrie2007.ipynb.\n",
      "Converted 32_labrie2008.ipynb.\n",
      "Converted 33_laplante2009.ipynb.\n",
      "Converted 34_braverman2010.ipynb.\n",
      "Converted 35_philander2014.ipynb.\n",
      "Converted 36_scholten2020.ipynb.\n",
      "Converted index.ipynb.\n",
      "converting: /home/ojs/Desktop/gamba/index.ipynb\n",
      "converting: /home/ojs/Desktop/gamba/20_data.ipynb\n",
      "converting: /home/ojs/Desktop/gamba/21_measures.ipynb\n",
      "converting /home/ojs/Desktop/gamba/index.ipynb to README.md\n"
     ]
    }
   ],
   "source": [
    "#hide\n",
    "!nbdev_build_lib\n",
    "!nbdev_build_docs"
   ]
  },
  {
   "cell_type": "code",
   "execution_count": 4,
   "metadata": {},
   "outputs": [
    {
     "name": "stdout",
     "output_type": "stream",
     "text": [
      "['docs/philander2014.html', 'docs/measures.html', 'docs/laplante2009.html', 'docs/scholten2020.html', 'docs/index.html', 'docs/replications.html', 'docs/beginner.html', 'docs/labrie2008.html', 'docs/intermediate.html', 'docs/statistics.html', 'docs/data.html', 'docs/labelling.html', 'docs/machine_learning.html', 'docs/labrie2007.html', 'docs/upcoming.html', 'docs/braverman2010.html', 'docs/about.html', 'docs/advanced.html']\n",
      "contents replaced\n"
     ]
    }
   ],
   "source": [
    "#hide\n",
    "# fix the nbdev doc links\n",
    "# (undo the doc_baseurl linking in the doc_link function here: https://github.com/fastai/nbdev/blob/2ce2edaf1f39bf3ae0a35a265f86a8c7bc08e98a/nbs/02_showdoc.ipynb)\n",
    "import glob\n",
    "html_files = glob.glob('docs/*.html')\n",
    "print(html_files)\n",
    "for file in html_files:\n",
    "    f = open(file, 'rt')\n",
    "    contents = f.read()\n",
    "    contents = contents.replace('\"/gamba/', '\\\"')\n",
    "    f.close()\n",
    "    f = open(file, 'wt')\n",
    "    f.write(contents)\n",
    "    f.close()\n",
    "print('contents replaced')"
   ]
  },
  {
   "cell_type": "code",
   "execution_count": 5,
   "metadata": {},
   "outputs": [],
   "source": [
    "#hide\n",
    "import os\n",
    "# this directory change to build the docs means you need to restart and run all\n",
    "os.chdir('docs/')"
   ]
  },
  {
   "cell_type": "code",
   "execution_count": 6,
   "metadata": {},
   "outputs": [
    {
     "name": "stdout",
     "output_type": "stream",
     "text": [
      "Configuration file: /home/ojs/Desktop/gamba/docs/_config.yml\n",
      "            Source: /home/ojs/Desktop/gamba/docs\n",
      "       Destination: /home/ojs/Desktop/gamba/docs/_site\n",
      " Incremental build: disabled. Enable with --incremental\n",
      "      Generating... \n",
      "\u001b[33m   GitHub Metadata: No GitHub API authentication could be found. Some fields may be missing or have incorrect data.\u001b[0m\n",
      "                    done in 0.393 seconds.\n",
      " Auto-regeneration: disabled. Use --watch to enable.\n"
     ]
    }
   ],
   "source": [
    "#hide\n",
    "!jekyll build"
   ]
  }
 ],
 "metadata": {
  "kernelspec": {
   "display_name": "Python 3",
   "language": "python",
   "name": "python3"
  },
  "language_info": {
   "codemirror_mode": {
    "name": "ipython",
    "version": 3
   },
   "file_extension": ".py",
   "mimetype": "text/x-python",
   "name": "python",
   "nbconvert_exporter": "python",
   "pygments_lexer": "ipython3",
   "version": "3.8.5"
  }
 },
 "nbformat": 4,
 "nbformat_minor": 4
}
