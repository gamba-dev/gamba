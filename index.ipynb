{
 "cells": [
  {
   "cell_type": "code",
   "execution_count": 1,
   "metadata": {},
   "outputs": [],
   "source": [
    "# default_exp __init__"
   ]
  },
  {
   "cell_type": "code",
   "execution_count": 1,
   "metadata": {},
   "outputs": [
    {
     "name": "stderr",
     "output_type": "stream",
     "text": [
      "2021-11-16 09:12:42.358692: W tensorflow/stream_executor/platform/default/dso_loader.cc:64] Could not load dynamic library 'libcudart.so.11.0'; dlerror: libcudart.so.11.0: cannot open shared object file: No such file or directory\n",
      "2021-11-16 09:12:42.358752: I tensorflow/stream_executor/cuda/cudart_stub.cc:29] Ignore above cudart dlerror if you do not have a GPU set up on your machine.\n"
     ]
    }
   ],
   "source": [
    "#export\n",
    "from gamba.data import *\n",
    "from gamba.measures import *\n",
    "from gamba.statistics import *\n",
    "from gamba.labelling import *\n",
    "from gamba.machine_learning import *"
   ]
  },
  {
   "cell_type": "markdown",
   "metadata": {},
   "source": [
    "# Welcome to the gamba library!\n",
    "\n",
    "> A Python library for player behaviour tracking research\n",
    "\n",
    "> Warning! This library is currently in active development so parts may not work as expected!"
   ]
  },
  {
   "cell_type": "markdown",
   "metadata": {},
   "source": [
    "[![PyPI](https://img.shields.io/pypi/v/gamba?style=for-the-badge&color=blue)](https://pypi.org/project/gamba/)\n",
    "[![Commit](https://img.shields.io/github/last-commit/gamba-dev/gamba?label=Last%20update&style=for-the-badge&)](https://github.com/gamba-dev/gamba/commit/main)"
   ]
  },
  {
   "cell_type": "markdown",
   "metadata": {},
   "source": [
    "The gamba transaction analysis library is a collection of methods for applying analytical methods found in peer-reviewed studies. The library is 100% free and open source, and aims to be used by researchers and analysts with access to transaction data sets."
   ]
  },
  {
   "cell_type": "markdown",
   "metadata": {},
   "source": [
    "## Features"
   ]
  },
  {
   "cell_type": "markdown",
   "metadata": {},
   "source": [
    "- standardise your data across game types and activities\n",
    "- compute behavioural measures\n",
    "- apply descriptive and comparative statistics\n",
    "- run machine learning methods\n",
    "- replicate full academic studies on your data in minutes"
   ]
  },
  {
   "cell_type": "markdown",
   "metadata": {},
   "source": [
    "## Getting Started"
   ]
  },
  {
   "cell_type": "markdown",
   "metadata": {},
   "source": [
    "Getting started using gamba in your research is super easy - the first step is to install the library using one of the commands below. From there, read through one or more of the tutorials, and once you're familiar with the typical structure of an analysis using the gamba library, look through the individual module documentation and extend one of the examples. If you get stuck, please [get in touch](https://twitter.com/ojscholten)!"
   ]
  },
  {
   "cell_type": "markdown",
   "metadata": {},
   "source": [
    "## Install"
   ]
  },
  {
   "cell_type": "markdown",
   "metadata": {},
   "source": [
    "To install gamba use the following pip command;\n",
    "\n",
    "`pip install gamba`"
   ]
  },
  {
   "cell_type": "markdown",
   "metadata": {},
   "source": [
    "Or if you'd like to use the development release, clone the github repository to your machine;\n",
    "\n",
    "`git clone https://github.com/gamba-dev/gamba.git`"
   ]
  },
  {
   "cell_type": "code",
   "execution_count": 2,
   "metadata": {},
   "outputs": [
    {
     "name": "stdout",
     "output_type": "stream",
     "text": [
      "Converted 00_about.ipynb.\n",
      "Converted 01_upcoming.ipynb.\n",
      "Converted 10_beginner.ipynb.\n",
      "Converted 11_intermediate.ipynb.\n",
      "Converted 12_advanced.ipynb.\n",
      "Converted 20_data.ipynb.\n",
      "Converted 21_measures.ipynb.\n",
      "Converted 22_statistics.ipynb.\n",
      "Converted 23_labelling.ipynb.\n",
      "Converted 24_machine_learning.ipynb.\n",
      "Converted 30_replications.ipynb.\n",
      "Converted 31_labrie2007.ipynb.\n",
      "Converted 32_labrie2008.ipynb.\n",
      "Converted 33_laplante2009.ipynb.\n",
      "Converted 34_braverman2010.ipynb.\n",
      "Converted 35_philander2014.ipynb.\n",
      "Converted 36_scholten2020.ipynb.\n",
      "Converted 37_auer2021.ipynb.\n",
      "Converted index.ipynb.\n",
      "Defaulting to user installation because normal site-packages is not writeable\n",
      "Obtaining file:///home/ojs/Desktop/gamba\n",
      "Requirement already satisfied: matplotlib>=3.3.1 in /home/ojs/.local/lib/python3.9/site-packages (from gamba==0.1.3) (3.4.3)\n",
      "Requirement already satisfied: pandas>=1.0.5 in /home/ojs/.local/lib/python3.9/site-packages (from gamba==0.1.3) (1.3.4)\n",
      "Requirement already satisfied: scikit-learn>=0.23.2 in /home/ojs/.local/lib/python3.9/site-packages (from gamba==0.1.3) (1.0.1)\n",
      "Requirement already satisfied: pysan>=0.2.1 in /home/ojs/.local/lib/python3.9/site-packages (from gamba==0.1.3) (0.2.4)\n",
      "Requirement already satisfied: python-dateutil>=2.7 in /home/ojs/.local/lib/python3.9/site-packages (from matplotlib>=3.3.1->gamba==0.1.3) (2.8.2)\n",
      "Requirement already satisfied: pillow>=6.2.0 in /home/ojs/.local/lib/python3.9/site-packages (from matplotlib>=3.3.1->gamba==0.1.3) (8.4.0)\n",
      "Requirement already satisfied: pyparsing>=2.2.1 in /usr/lib/python3.9/site-packages (from matplotlib>=3.3.1->gamba==0.1.3) (2.4.7)\n",
      "Requirement already satisfied: cycler>=0.10 in /home/ojs/.local/lib/python3.9/site-packages (from matplotlib>=3.3.1->gamba==0.1.3) (0.11.0)\n",
      "Requirement already satisfied: kiwisolver>=1.0.1 in /home/ojs/.local/lib/python3.9/site-packages (from matplotlib>=3.3.1->gamba==0.1.3) (1.3.2)\n",
      "Requirement already satisfied: numpy>=1.16 in /home/ojs/.local/lib/python3.9/site-packages (from matplotlib>=3.3.1->gamba==0.1.3) (1.21.4)\n",
      "Requirement already satisfied: pytz>=2017.3 in /home/ojs/.local/lib/python3.9/site-packages (from pandas>=1.0.5->gamba==0.1.3) (2021.3)\n",
      "Requirement already satisfied: six>=1.5 in /usr/lib/python3.9/site-packages (from python-dateutil>=2.7->matplotlib>=3.3.1->gamba==0.1.3) (1.16.0)\n",
      "Requirement already satisfied: joblib>=0.11 in /home/ojs/.local/lib/python3.9/site-packages (from scikit-learn>=0.23.2->gamba==0.1.3) (1.1.0)\n",
      "Requirement already satisfied: threadpoolctl>=2.0.0 in /home/ojs/.local/lib/python3.9/site-packages (from scikit-learn>=0.23.2->gamba==0.1.3) (3.0.0)\n",
      "Requirement already satisfied: scipy>=1.1.0 in /home/ojs/.local/lib/python3.9/site-packages (from scikit-learn>=0.23.2->gamba==0.1.3) (1.7.2)\n",
      "Installing collected packages: gamba\n",
      "  Attempting uninstall: gamba\n",
      "    Found existing installation: gamba 0.1.3\n",
      "    Uninstalling gamba-0.1.3:\n",
      "      Successfully uninstalled gamba-0.1.3\n",
      "  Running setup.py develop for gamba\n",
      "Successfully installed gamba\n"
     ]
    }
   ],
   "source": [
    "#hide\n",
    "!nbdev_build_lib\n",
    "!pip install -e ."
   ]
  },
  {
   "cell_type": "code",
   "execution_count": 3,
   "metadata": {},
   "outputs": [
    {
     "name": "stdout",
     "output_type": "stream",
     "text": [
      "converting: /home/ojs/Desktop/gamba/23_labelling.ipynb\n",
      "converting: /home/ojs/Desktop/gamba/20_data.ipynb\n",
      "2021-11-16 09:12:50.876084: W tensorflow/stream_executor/platform/default/dso_loader.cc:64] Could not load dynamic library 'libcudart.so.11.0'; dlerror: libcudart.so.11.0: cannot open shared object file: No such file or directory\n",
      "2021-11-16 09:12:50.876157: I tensorflow/stream_executor/cuda/cudart_stub.cc:29] Ignore above cudart dlerror if you do not have a GPU set up on your machine.\n",
      "converting: /home/ojs/Desktop/gamba/index.ipynb\n",
      "2021-11-16 09:12:51.765120: W tensorflow/stream_executor/platform/default/dso_loader.cc:64] Could not load dynamic library 'libcudart.so.11.0'; dlerror: libcudart.so.11.0: cannot open shared object file: No such file or directory\n",
      "2021-11-16 09:12:51.765142: I tensorflow/stream_executor/cuda/cudart_stub.cc:29] Ignore above cudart dlerror if you do not have a GPU set up on your machine.\n",
      "2021-11-16 09:12:51.910957: W tensorflow/stream_executor/platform/default/dso_loader.cc:64] Could not load dynamic library 'libcudart.so.11.0'; dlerror: libcudart.so.11.0: cannot open shared object file: No such file or directory\n",
      "2021-11-16 09:12:51.910979: I tensorflow/stream_executor/cuda/cudart_stub.cc:29] Ignore above cudart dlerror if you do not have a GPU set up on your machine.\n",
      "converting: /home/ojs/Desktop/gamba/24_machine_learning.ipynb\n",
      "2021-11-16 09:12:53.302181: W tensorflow/stream_executor/platform/default/dso_loader.cc:64] Could not load dynamic library 'libcudart.so.11.0'; dlerror: libcudart.so.11.0: cannot open shared object file: No such file or directory\n",
      "2021-11-16 09:12:53.302635: I tensorflow/stream_executor/cuda/cudart_stub.cc:29] Ignore above cudart dlerror if you do not have a GPU set up on your machine.\n",
      "2021-11-16 09:12:54.047595: W tensorflow/stream_executor/platform/default/dso_loader.cc:64] Could not load dynamic library 'libcudart.so.11.0'; dlerror: libcudart.so.11.0: cannot open shared object file: No such file or directory\n",
      "2021-11-16 09:12:54.047620: I tensorflow/stream_executor/cuda/cudart_stub.cc:29] Ignore above cudart dlerror if you do not have a GPU set up on your machine.\n",
      "2021-11-16 09:12:54.773944: W tensorflow/stream_executor/platform/default/dso_loader.cc:64] Could not load dynamic library 'libcudart.so.11.0'; dlerror: libcudart.so.11.0: cannot open shared object file: No such file or directory\n",
      "2021-11-16 09:12:54.774004: I tensorflow/stream_executor/cuda/cudart_stub.cc:29] Ignore above cudart dlerror if you do not have a GPU set up on your machine.\n",
      "2021-11-16 09:12:55.445795: W tensorflow/stream_executor/platform/default/dso_loader.cc:64] Could not load dynamic library 'libcudart.so.11.0'; dlerror: libcudart.so.11.0: cannot open shared object file: No such file or directory\n",
      "2021-11-16 09:12:55.445814: I tensorflow/stream_executor/cuda/cudart_stub.cc:29] Ignore above cudart dlerror if you do not have a GPU set up on your machine.\n",
      "2021-11-16 09:12:56.544107: W tensorflow/stream_executor/platform/default/dso_loader.cc:64] Could not load dynamic library 'libcudart.so.11.0'; dlerror: libcudart.so.11.0: cannot open shared object file: No such file or directory\n",
      "2021-11-16 09:12:56.544125: I tensorflow/stream_executor/cuda/cudart_stub.cc:29] Ignore above cudart dlerror if you do not have a GPU set up on your machine.\n",
      "converting: /home/ojs/Desktop/gamba/21_measures.ipynb\n",
      "converting: /home/ojs/Desktop/gamba/22_statistics.ipynb\n",
      "2021-11-16 09:13:00.633252: W tensorflow/stream_executor/platform/default/dso_loader.cc:64] Could not load dynamic library 'libcudart.so.11.0'; dlerror: libcudart.so.11.0: cannot open shared object file: No such file or directory\n",
      "2021-11-16 09:13:00.633269: I tensorflow/stream_executor/cuda/cudart_stub.cc:29] Ignore above cudart dlerror if you do not have a GPU set up on your machine.\n",
      "2021-11-16 09:13:01.679043: W tensorflow/stream_executor/platform/default/dso_loader.cc:64] Could not load dynamic library 'libcudart.so.11.0'; dlerror: libcudart.so.11.0: cannot open shared object file: No such file or directory\n",
      "2021-11-16 09:13:01.679059: I tensorflow/stream_executor/cuda/cudart_stub.cc:29] Ignore above cudart dlerror if you do not have a GPU set up on your machine.\n",
      "converting /home/ojs/Desktop/gamba/index.ipynb to README.md\n"
     ]
    }
   ],
   "source": [
    "#hide\n",
    "!nbdev_build_docs"
   ]
  },
  {
   "cell_type": "code",
   "execution_count": null,
   "metadata": {},
   "outputs": [],
   "source": [
    "#hide\n",
    "# fix the nbdev doc links\n",
    "# (undo the doc_baseurl linking in the doc_link function here: https://github.com/fastai/nbdev/blob/2ce2edaf1f39bf3ae0a35a265f86a8c7bc08e98a/nbs/02_showdoc.ipynb)\n",
    "import glob\n",
    "html_files = glob.glob('docs/*.html')\n",
    "print(html_files)\n",
    "for file in html_files:\n",
    "    f = open(file, 'rt')\n",
    "    contents = f.read()\n",
    "    contents = contents.replace('\"/gamba/', '\\\"')\n",
    "    f.close()\n",
    "    f = open(file, 'wt')\n",
    "    f.write(contents)\n",
    "    f.close()\n",
    "print('contents replaced')"
   ]
  },
  {
   "cell_type": "code",
   "execution_count": null,
   "metadata": {},
   "outputs": [],
   "source": [
    "#hide\n",
    "import os\n",
    "# this directory change to build the docs means you need to restart and run all\n",
    "os.chdir('docs/')"
   ]
  },
  {
   "cell_type": "code",
   "execution_count": null,
   "metadata": {},
   "outputs": [],
   "source": [
    "#hide\n",
    "!jekyll build"
   ]
  }
 ],
 "metadata": {
  "kernelspec": {
   "display_name": "Python 3 (ipykernel)",
   "language": "python",
   "name": "python3"
  },
  "language_info": {
   "codemirror_mode": {
    "name": "ipython",
    "version": 3
   },
   "file_extension": ".py",
   "mimetype": "text/x-python",
   "name": "python",
   "nbconvert_exporter": "python",
   "pygments_lexer": "ipython3",
   "version": "3.9.7"
  }
 },
 "nbformat": 4,
 "nbformat_minor": 4
}
