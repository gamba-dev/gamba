{
 "cells": [
  {
   "cell_type": "code",
   "execution_count": null,
   "metadata": {},
   "outputs": [],
   "source": [
    "#hide\n",
    "from gamba import *"
   ]
  },
  {
   "cell_type": "markdown",
   "metadata": {},
   "source": [
    "# Welcome to the gamba library!\n",
    "\n",
    "> Gambling Transaction Analysis in Python"
   ]
  },
  {
   "cell_type": "markdown",
   "metadata": {},
   "source": [
    "[![GitHub Workflow Status](https://img.shields.io/github/workflow/status/gamba-dev/gamba/CI?logo=github&style=for-the-badge&)](https://github.com/gamba-dev/gamba/actions)\n",
    "[![PyPI](https://img.shields.io/pypi/v/gamba?style=for-the-badge&color=blue)](https://pypi.org/project/gamba/)\n",
    "[![Commit](https://img.shields.io/github/last-commit/gamba-dev/gamba?label=Last%20update&style=for-the-badge&)](https://github.com/gamba-dev/gamba/commit/main)"
   ]
  },
  {
   "cell_type": "markdown",
   "metadata": {},
   "source": [
    "The gamba transaction analysis library is a collection of methods for applying analytical methods found in peer-reviewed studies. The library is 100% free and open source, and aims to be useful to researchers and analysts with access to transaction data sets."
   ]
  },
  {
   "cell_type": "markdown",
   "metadata": {},
   "source": [
    "## Getting Started"
   ]
  },
  {
   "cell_type": "markdown",
   "metadata": {},
   "source": [
    "Getting started using gamba in your research is super easy - the first step is to install the library using one of the commands below. From there, read through one or more of the tutorials, and once you're familiar with the typical structure of an analysis using the gamba library, look through the individual module documentation and extend one of the examples. If you get stuck, please [get in touch](https://twitter.com/ojscholten)!"
   ]
  },
  {
   "cell_type": "markdown",
   "metadata": {},
   "source": [
    "## Install"
   ]
  },
  {
   "cell_type": "markdown",
   "metadata": {},
   "source": [
    "`pip install gamba`"
   ]
  },
  {
   "cell_type": "markdown",
   "metadata": {},
   "source": [
    "`git clone https://github.com/gamba-dev/gamba.git`"
   ]
  },
  {
   "cell_type": "code",
   "execution_count": 1,
   "metadata": {},
   "outputs": [
    {
     "name": "stdout",
     "output_type": "stream",
     "text": [
      "Converted 00_about.ipynb.\n",
      "Converted 10_beginner.ipynb.\n",
      "Converted 11_intermediate.ipynb.\n",
      "Converted 12_advanced.ipynb.\n",
      "Converted 20_data.ipynb.\n",
      "Converted 21_measures.ipynb.\n",
      "Converted 22_statistics.ipynb.\n",
      "Converted 23_labelling.ipynb.\n",
      "Converted 24_machine_learning.ipynb.\n",
      "Converted 30_replications.ipynb.\n",
      "Converted 31_labrie2007.ipynb.\n",
      "Converted 32_labrie2008.ipynb.\n",
      "Converted 33_laplante2009.ipynb.\n",
      "Converted 34_braverman2010.ipynb.\n",
      "Converted 35_philander2014.ipynb.\n",
      "Converted index.ipynb.\n",
      "converting: /home/ojs/Desktop/gamba/33_laplante2009.ipynb\n",
      "converting: /home/ojs/Desktop/gamba/20_data.ipynb\n",
      "converting: /home/ojs/Desktop/gamba/32_labrie2008.ipynb\n",
      "converting: /home/ojs/Desktop/gamba/31_labrie2007.ipynb\n",
      "gamba ready.\n",
      "converting: /home/ojs/Desktop/gamba/index.ipynb\n",
      "converting: /home/ojs/Desktop/gamba/34_braverman2010.ipynb\n",
      "gamba ready.\n",
      "converting: /home/ojs/Desktop/gamba/22_statistics.ipynb\n",
      "converting: /home/ojs/Desktop/gamba/21_measures.ipynb\n",
      "converting /home/ojs/Desktop/gamba/index.ipynb to README.md\n"
     ]
    }
   ],
   "source": [
    "#hide\n",
    "!nbdev_build_lib\n",
    "!nbdev_build_docs"
   ]
  }
 ],
 "metadata": {
  "kernelspec": {
   "display_name": "Python 3",
   "language": "python",
   "name": "python3"
  },
  "language_info": {
   "codemirror_mode": {
    "name": "ipython",
    "version": 3
   },
   "file_extension": ".py",
   "mimetype": "text/x-python",
   "name": "python",
   "nbconvert_exporter": "python",
   "pygments_lexer": "ipython3",
   "version": "3.8.5"
  }
 },
 "nbformat": 4,
 "nbformat_minor": 4
}
