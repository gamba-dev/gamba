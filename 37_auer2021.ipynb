{
 "cells": [
  {
   "cell_type": "markdown",
   "metadata": {},
   "source": [
    "# Auer 2021\n",
    "> Partial Replication on dummy data"
   ]
  },
  {
   "cell_type": "markdown",
   "metadata": {},
   "source": [
    "This notebook describes the analysis of behavioural player data performed in the 2021 study by Auer & Griffiths titled [Reasons for Gambling and Problem Gambling Among Norwegian Horse Bettors: A Real-World Study Utilizing Combining Survey Data and Behavioural Player Data](https://link.springer.com/article/10.1007/s11469-020-00442-6). Whilst the data for the study has not been made available, the analytical method used is well defined, so is implemented here using the gamba library on some alternative data.\n",
    "\n",
    "Note that this study looks at both transaction data and survey data. As the gamba library focusses on transaction analysis only this part of the paper will be replicated here, specifically [table 4 in the paper](https://link.springer.com/article/10.1007/s11469-020-00442-6/tables/4).\n",
    "\n",
    "As always, the first step is to import the gamba library;"
   ]
  },
  {
   "cell_type": "code",
   "execution_count": 1,
   "metadata": {},
   "outputs": [],
   "source": [
    "import gamba as gb"
   ]
  },
  {
   "cell_type": "markdown",
   "metadata": {},
   "source": [
    "Next, we load in the data set - as mentioned above this data is not the same as that used in the study. If it becomes available it will be substituted here, but for now, a chunk of the cryptocurrency transaction set [available here](https://osf.io/8bfyj/) can be used as a placeholder."
   ]
  },
  {
   "cell_type": "code",
   "execution_count": 2,
   "metadata": {},
   "outputs": [],
   "source": [
    "player_bets = gb.data.read_csv('/home/ojs/Data/osf_data/raw_data_part_4.csv', ['bet_time','payout_time','duration'])"
   ]
  },
  {
   "cell_type": "markdown",
   "metadata": {},
   "source": [
    "With the player bets loaded, the next step is to create a measures table, which can be done using the `create_measures_table` method from the measures module. As this paper uses horse race betting data, there are some variables which are context specific (online only and horseraces only). See the table below for the measures described in the paper, and the names of those computed in this notebook in their place."
   ]
  },
  {
   "cell_type": "markdown",
   "metadata": {},
   "source": [
    "| In-Paper Text Description                   | Measures Module Method                                     |\n",
    "|---------------------------------------------|------------------------------------------------------------|\n",
    "| amount of money bet                         | `total_wagered`                                            |\n",
    "| amount of money bet online                  | n/a (context specific derivative of `total_wagered`)       |\n",
    "| amount of money bet on Norwegian horseraces | n/a (context specific derivative of `total_wagered`)       |\n",
    "| amount of money won                         | `net_loss` (functionally identical)                        |\n",
    "| number of playing days                      | `frequency_raw`                                            |\n",
    "| number of games played                      | `number_of_bets` (table in paper uses 'number of tickets') |\n",
    "| bet conscious play                          | n/a (context specific derivative of `total_wagered`)       |"
   ]
  },
  {
   "cell_type": "markdown",
   "metadata": {},
   "source": [
    "To create the measures table, the measures used can be defined as a list of names of methods in the measures module. This is then passed to the `create_measures_table` method which computes them across the player bets."
   ]
  },
  {
   "cell_type": "code",
   "execution_count": 3,
   "metadata": {},
   "outputs": [],
   "source": [
    "measures_used = ['total_wagered','net_loss','frequency_raw','number_of_bets']\n",
    "measures_table = gb.measures.create_measures_table(player_bets, measures_used)"
   ]
  },
  {
   "cell_type": "markdown",
   "metadata": {},
   "source": [
    "The final step of this replication is to compute spearman correlations between each of the behavioural measures computed. As this replication only concerns the transaction data component of the study, it's much smaller than the original but can be expanded with the data by adding to the measures table."
   ]
  },
  {
   "cell_type": "code",
   "execution_count": 4,
   "metadata": {},
   "outputs": [
    {
     "data": {
      "text/html": [
       "<div>\n",
       "<style scoped>\n",
       "    .dataframe tbody tr th:only-of-type {\n",
       "        vertical-align: middle;\n",
       "    }\n",
       "\n",
       "    .dataframe tbody tr th {\n",
       "        vertical-align: top;\n",
       "    }\n",
       "\n",
       "    .dataframe thead th {\n",
       "        text-align: right;\n",
       "    }\n",
       "</style>\n",
       "<table border=\"1\" class=\"dataframe\">\n",
       "  <thead>\n",
       "    <tr style=\"text-align: right;\">\n",
       "      <th></th>\n",
       "      <th>total_wagered</th>\n",
       "      <th>net_loss</th>\n",
       "      <th>frequency_raw</th>\n",
       "      <th>number_of_bets</th>\n",
       "    </tr>\n",
       "  </thead>\n",
       "  <tbody>\n",
       "    <tr>\n",
       "      <th>total_wagered</th>\n",
       "      <td>-</td>\n",
       "      <td></td>\n",
       "      <td></td>\n",
       "      <td></td>\n",
       "    </tr>\n",
       "    <tr>\n",
       "      <th>net_loss</th>\n",
       "      <td>0.17**</td>\n",
       "      <td>-</td>\n",
       "      <td></td>\n",
       "      <td></td>\n",
       "    </tr>\n",
       "    <tr>\n",
       "      <th>frequency_raw</th>\n",
       "      <td>0.83**</td>\n",
       "      <td>0.13**</td>\n",
       "      <td>-</td>\n",
       "      <td></td>\n",
       "    </tr>\n",
       "    <tr>\n",
       "      <th>number_of_bets</th>\n",
       "      <td>0.86**</td>\n",
       "      <td>0.14**</td>\n",
       "      <td>0.97**</td>\n",
       "      <td>-</td>\n",
       "    </tr>\n",
       "  </tbody>\n",
       "</table>\n",
       "</div>"
      ],
      "text/plain": [
       "               total_wagered net_loss frequency_raw number_of_bets\n",
       "total_wagered              -                                      \n",
       "net_loss              0.17**        -                             \n",
       "frequency_raw         0.83**   0.13**             -               \n",
       "number_of_bets        0.86**   0.14**        0.97**              -"
      ]
     },
     "metadata": {},
     "output_type": "display_data"
    }
   ],
   "source": [
    "spearman_coefficient_table = gb.statistics.spearmans_r(measures_table)\n",
    "display(spearman_coefficient_table)"
   ]
  },
  {
   "cell_type": "markdown",
   "metadata": {},
   "source": [
    "That's it! It's not a huge output given only part of the study is in the realm of transaction analysis, but it's an extendable example of how to do this kind of analysis. To learn more about extending a measures table, follow the [Advanced Tutorial](https://gamba.dev/advanced.html)."
   ]
  }
 ],
 "metadata": {
  "kernelspec": {
   "display_name": "Python 3",
   "language": "python",
   "name": "python3"
  },
  "language_info": {
   "codemirror_mode": {
    "name": "ipython",
    "version": 3
   },
   "file_extension": ".py",
   "mimetype": "text/x-python",
   "name": "python",
   "nbconvert_exporter": "python",
   "pygments_lexer": "ipython3",
   "version": "3.8.5"
  }
 },
 "nbformat": 4,
 "nbformat_minor": 4
}
