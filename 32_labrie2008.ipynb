{
 "cells": [
  {
   "cell_type": "code",
   "execution_count": 1,
   "metadata": {},
   "outputs": [],
   "source": [
    "# default_exp labrie2008"
   ]
  },
  {
   "cell_type": "markdown",
   "metadata": {},
   "source": [
    "# LaBrie et al 2008\n",
    "\n",
    "> Full replication"
   ]
  },
  {
   "cell_type": "markdown",
   "metadata": {},
   "source": [
    "This notebook reproduces every table in LaBrie et al's 2008 paper on casino gambling behaviour. To get started, download the raw data from the link below from the transparency project's website. The data we need is **Raw Dataset 2** (**text version**) under the title '*Virtual Casino Gambling: February 2005 through February 2007*' towards the bottom of the page.\n",
    "\n",
    "Once you've downloaded and extracted it, you should see a file called **RawDataSet2_DailyAggregCasinoTXT.txt** - copy this into the same directory as this notebook to begin.\n",
    "- [Data Download (thetransparencyproject.org)](http://www.thetransparencyproject.org/download_index.php)\n",
    "- [Original data description](http://www.thetransparencyproject.org/codebooks/Codebook_for_Virtual_Casino_Gambling.pdf)\n",
    "- [Original paper link](https://academic.oup.com/eurpub/article/18/4/410/477060)\n",
    "\n",
    "The first step is to import the [*gamba*](https://github.com/gamba-dev/gamba) framework, run the cell below to do so. If this cell throws an error, [see the install documentation page](https://gamba.dev) to make sure you have [*gamba*](https://github.com/gamba-dev/gamba) installed."
   ]
  },
  {
   "cell_type": "code",
   "execution_count": 2,
   "metadata": {},
   "outputs": [],
   "source": [
    "import gamba as gb"
   ]
  },
  {
   "cell_type": "markdown",
   "metadata": {},
   "source": [
    "With [*gamba*](https://github.com/gamba-dev/gamba) loaded, the next step is to get the data into a usable format. To do this, we call the `prepare_labrie_data` method from the data module. This does two things, first it renames the columns to values compatable with the [*gamba*](https://github.com/gamba-dev/gamba) framework, then it saves this newly compatable dataframe as a new csv file (in case it's needed elsewhere)."
   ]
  },
  {
   "cell_type": "code",
   "execution_count": 3,
   "metadata": {},
   "outputs": [],
   "source": [
    "all_player_bets = gb.data.prepare_labrie_data('RawDataSet2_DailyAggregCasinoTXT.txt')"
   ]
  },
  {
   "cell_type": "markdown",
   "metadata": {},
   "source": [
    "In two lines of code we're ready to start the analysis, and have each player's transactions individually saved in-case anything goes wrong or we want to take a sample. The next step is to load in the data we just prepared, this uses some magic from the [glob](https://docs.python.org/3/library/glob.html#module-glob) library to load every CSV file in the `labrie_individuals/` folder into the variable `all_player_bets`."
   ]
  },
  {
   "cell_type": "markdown",
   "metadata": {},
   "source": [
    "If we want to do any other analysis on all of the players this is where we would add new methods, but let's crack on with calculating each of the measures described in the paper - which includes things like **frequency**, **duration**, **total amount wagered**, etc. Heads up: this calculation can take up to 10 minutes on a normal computer, so now is a great time to share this page with a colleague, or [tweet us your feedback](https://twitter.com/gamba_dev)!"
   ]
  },
  {
   "cell_type": "code",
   "execution_count": 4,
   "metadata": {},
   "outputs": [
    {
     "name": "stderr",
     "output_type": "stream",
     "text": [
      "100%|██████████| 4222/4222 [15:26<00:00,  4.56it/s]"
     ]
    },
    {
     "name": "stdout",
     "output_type": "stream",
     "text": [
      "LaBrie measures saved\n"
     ]
    },
    {
     "name": "stderr",
     "output_type": "stream",
     "text": [
      "\n"
     ]
    }
   ],
   "source": [
    "# calculate measures and save them\n",
    "measures_table = gb.measures.calculate_labrie_measures(all_player_bets, loud=True)"
   ]
  },
  {
   "cell_type": "markdown",
   "metadata": {},
   "source": [
    "The cell above took a while to finish, to make sure we don't have to do that computation again the output has been saved as `gamba_labrie_measures.csv` next to this notebook. We'll come back to this file later to make sure this recreation matches the original, but lets keep going! Time for the first meaningful output, the first table in the original paper - which describes the measures we just calculated using basic statistics;"
   ]
  },
  {
   "cell_type": "code",
   "execution_count": 5,
   "metadata": {},
   "outputs": [
    {
     "data": {
      "text/html": [
       "<div>\n",
       "<style scoped>\n",
       "    .dataframe tbody tr th:only-of-type {\n",
       "        vertical-align: middle;\n",
       "    }\n",
       "\n",
       "    .dataframe tbody tr th {\n",
       "        vertical-align: top;\n",
       "    }\n",
       "\n",
       "    .dataframe thead th {\n",
       "        text-align: right;\n",
       "    }\n",
       "</style>\n",
       "<table border=\"1\" class=\"dataframe\">\n",
       "  <thead>\n",
       "    <tr style=\"text-align: right;\">\n",
       "      <th></th>\n",
       "      <th>mean</th>\n",
       "      <th>std</th>\n",
       "      <th>median</th>\n",
       "    </tr>\n",
       "  </thead>\n",
       "  <tbody>\n",
       "    <tr>\n",
       "      <th>duration</th>\n",
       "      <td>299.206774</td>\n",
       "      <td>236.670214</td>\n",
       "      <td>261.000000</td>\n",
       "    </tr>\n",
       "    <tr>\n",
       "      <th>frequency</th>\n",
       "      <td>16.326440</td>\n",
       "      <td>21.017499</td>\n",
       "      <td>7.429744</td>\n",
       "    </tr>\n",
       "    <tr>\n",
       "      <th>num_bets</th>\n",
       "      <td>3515.047845</td>\n",
       "      <td>12210.792339</td>\n",
       "      <td>532.000000</td>\n",
       "    </tr>\n",
       "    <tr>\n",
       "      <th>mean_bets_per_day</th>\n",
       "      <td>115.950530</td>\n",
       "      <td>191.986075</td>\n",
       "      <td>48.911275</td>\n",
       "    </tr>\n",
       "    <tr>\n",
       "      <th>mean_bet_size</th>\n",
       "      <td>34.760626</td>\n",
       "      <td>184.090509</td>\n",
       "      <td>4.158098</td>\n",
       "    </tr>\n",
       "    <tr>\n",
       "      <th>total_wagered</th>\n",
       "      <td>27171.583452</td>\n",
       "      <td>109603.915777</td>\n",
       "      <td>2603.340000</td>\n",
       "    </tr>\n",
       "    <tr>\n",
       "      <th>net_loss</th>\n",
       "      <td>839.710129</td>\n",
       "      <td>3229.177371</td>\n",
       "      <td>117.250000</td>\n",
       "    </tr>\n",
       "    <tr>\n",
       "      <th>percent_loss</th>\n",
       "      <td>7.726259</td>\n",
       "      <td>11.579289</td>\n",
       "      <td>5.494480</td>\n",
       "    </tr>\n",
       "  </tbody>\n",
       "</table>\n",
       "</div>"
      ],
      "text/plain": [
       "                           mean            std       median\n",
       "duration             299.206774     236.670214   261.000000\n",
       "frequency             16.326440      21.017499     7.429744\n",
       "num_bets            3515.047845   12210.792339   532.000000\n",
       "mean_bets_per_day    115.950530     191.986075    48.911275\n",
       "mean_bet_size         34.760626     184.090509     4.158098\n",
       "total_wagered      27171.583452  109603.915777  2603.340000\n",
       "net_loss             839.710129    3229.177371   117.250000\n",
       "percent_loss           7.726259      11.579289     5.494480"
      ]
     },
     "metadata": {},
     "output_type": "display_data"
    }
   ],
   "source": [
    "# load measures back in and plot descriptive table\n",
    "measures_table = gb.read_csv('gamba_labrie_measures.csv')\n",
    "labrie_table = gb.statistics.descriptive_table(measures_table)\n",
    "display(labrie_table)"
   ]
  },
  {
   "cell_type": "markdown",
   "metadata": {},
   "source": [
    "Nice! Looks like the original! Next up is the Spearman's R coefficient matrix, which tells us how the measures relate to one-another. Run the next cell;"
   ]
  },
  {
   "cell_type": "code",
   "execution_count": 6,
   "metadata": {},
   "outputs": [
    {
     "data": {
      "text/html": [
       "<div>\n",
       "<style scoped>\n",
       "    .dataframe tbody tr th:only-of-type {\n",
       "        vertical-align: middle;\n",
       "    }\n",
       "\n",
       "    .dataframe tbody tr th {\n",
       "        vertical-align: top;\n",
       "    }\n",
       "\n",
       "    .dataframe thead th {\n",
       "        text-align: right;\n",
       "    }\n",
       "</style>\n",
       "<table border=\"1\" class=\"dataframe\">\n",
       "  <thead>\n",
       "    <tr style=\"text-align: right;\">\n",
       "      <th></th>\n",
       "      <th>duration</th>\n",
       "      <th>frequency</th>\n",
       "      <th>num_bets</th>\n",
       "      <th>mean_bets_per_day</th>\n",
       "      <th>mean_bet_size</th>\n",
       "      <th>total_wagered</th>\n",
       "      <th>net_loss</th>\n",
       "      <th>percent_loss</th>\n",
       "    </tr>\n",
       "  </thead>\n",
       "  <tbody>\n",
       "    <tr>\n",
       "      <th>duration</th>\n",
       "      <td>-</td>\n",
       "      <td></td>\n",
       "      <td></td>\n",
       "      <td></td>\n",
       "      <td></td>\n",
       "      <td></td>\n",
       "      <td></td>\n",
       "      <td></td>\n",
       "    </tr>\n",
       "    <tr>\n",
       "      <th>frequency</th>\n",
       "      <td>-0.63**</td>\n",
       "      <td>-</td>\n",
       "      <td></td>\n",
       "      <td></td>\n",
       "      <td></td>\n",
       "      <td></td>\n",
       "      <td></td>\n",
       "      <td></td>\n",
       "    </tr>\n",
       "    <tr>\n",
       "      <th>num_bets</th>\n",
       "      <td>0.26**</td>\n",
       "      <td>0.22**</td>\n",
       "      <td>-</td>\n",
       "      <td></td>\n",
       "      <td></td>\n",
       "      <td></td>\n",
       "      <td></td>\n",
       "      <td></td>\n",
       "    </tr>\n",
       "    <tr>\n",
       "      <th>mean_bets_per_day</th>\n",
       "      <td>0.01</td>\n",
       "      <td>0.13**</td>\n",
       "      <td>0.87**</td>\n",
       "      <td>-</td>\n",
       "      <td></td>\n",
       "      <td></td>\n",
       "      <td></td>\n",
       "      <td></td>\n",
       "    </tr>\n",
       "    <tr>\n",
       "      <th>mean_bet_size</th>\n",
       "      <td>0.05**</td>\n",
       "      <td>0.09**</td>\n",
       "      <td>-0.24**</td>\n",
       "      <td>-0.41**</td>\n",
       "      <td>-</td>\n",
       "      <td></td>\n",
       "      <td></td>\n",
       "      <td></td>\n",
       "    </tr>\n",
       "    <tr>\n",
       "      <th>total_wagered</th>\n",
       "      <td>0.27**</td>\n",
       "      <td>0.27**</td>\n",
       "      <td>0.66**</td>\n",
       "      <td>0.41**</td>\n",
       "      <td>0.52**</td>\n",
       "      <td>-</td>\n",
       "      <td></td>\n",
       "      <td></td>\n",
       "    </tr>\n",
       "    <tr>\n",
       "      <th>net_loss</th>\n",
       "      <td>0.23**</td>\n",
       "      <td>0.16**</td>\n",
       "      <td>0.49**</td>\n",
       "      <td>0.33**</td>\n",
       "      <td>0.32**</td>\n",
       "      <td>0.7**</td>\n",
       "      <td>-</td>\n",
       "      <td></td>\n",
       "    </tr>\n",
       "    <tr>\n",
       "      <th>percent_loss</th>\n",
       "      <td>-0.07**</td>\n",
       "      <td>-0.18**</td>\n",
       "      <td>-0.26**</td>\n",
       "      <td>-0.14**</td>\n",
       "      <td>-0.27**</td>\n",
       "      <td>-0.43**</td>\n",
       "      <td>0.2**</td>\n",
       "      <td>-</td>\n",
       "    </tr>\n",
       "  </tbody>\n",
       "</table>\n",
       "</div>"
      ],
      "text/plain": [
       "                  duration frequency num_bets mean_bets_per_day mean_bet_size  \\\n",
       "duration                 -                                                      \n",
       "frequency          -0.63**         -                                            \n",
       "num_bets            0.26**    0.22**        -                                   \n",
       "mean_bets_per_day     0.01    0.13**   0.87**                 -                 \n",
       "mean_bet_size       0.05**    0.09**  -0.24**           -0.41**             -   \n",
       "total_wagered       0.27**    0.27**   0.66**            0.41**        0.52**   \n",
       "net_loss            0.23**    0.16**   0.49**            0.33**        0.32**   \n",
       "percent_loss       -0.07**   -0.18**  -0.26**           -0.14**       -0.27**   \n",
       "\n",
       "                  total_wagered net_loss percent_loss  \n",
       "duration                                               \n",
       "frequency                                              \n",
       "num_bets                                               \n",
       "mean_bets_per_day                                      \n",
       "mean_bet_size                                          \n",
       "total_wagered                 -                        \n",
       "net_loss                  0.7**        -               \n",
       "percent_loss            -0.43**    0.2**            -  "
      ]
     },
     "metadata": {},
     "output_type": "display_data"
    }
   ],
   "source": [
    "spearman_coefficient_table = gb.statistics.spearmans_r(measures_table)\n",
    "display(spearman_coefficient_table)"
   ]
  },
  {
   "cell_type": "markdown",
   "metadata": {},
   "source": [
    "Nice x2! Now that the first two tables from the paper have been reproduced, the measures need splitting into the top 5% and remaining 95% of players by their total amount wagered. The `split_labrie_measures` method from the `gamba.studies` module does this, returning the two splits as dataframes."
   ]
  },
  {
   "cell_type": "code",
   "execution_count": 7,
   "metadata": {},
   "outputs": [
    {
     "name": "stdout",
     "output_type": "stream",
     "text": [
      "top count: 212\n",
      "other count: 4010\n"
     ]
    }
   ],
   "source": [
    "labelled_measures = gb.labelling.top_split(measures_table, 'total_wagered', loud=True)"
   ]
  },
  {
   "cell_type": "markdown",
   "metadata": {},
   "source": [
    "With the two cohorts seperated, the last part of the paper uses the same descriptive table to present their differences. To reproduce that using [*gamba*](https://github.com/gamba-dev/gamba), we simply call the same method as the first table on each of the cohorts;"
   ]
  },
  {
   "cell_type": "code",
   "execution_count": 8,
   "metadata": {},
   "outputs": [
    {
     "data": {
      "text/html": [
       "<div>\n",
       "<style scoped>\n",
       "    .dataframe tbody tr th:only-of-type {\n",
       "        vertical-align: middle;\n",
       "    }\n",
       "\n",
       "    .dataframe tbody tr th {\n",
       "        vertical-align: top;\n",
       "    }\n",
       "\n",
       "    .dataframe thead th {\n",
       "        text-align: right;\n",
       "    }\n",
       "</style>\n",
       "<table border=\"1\" class=\"dataframe\">\n",
       "  <thead>\n",
       "    <tr style=\"text-align: right;\">\n",
       "      <th></th>\n",
       "      <th>mean</th>\n",
       "      <th>std</th>\n",
       "      <th>median</th>\n",
       "    </tr>\n",
       "  </thead>\n",
       "  <tbody>\n",
       "    <tr>\n",
       "      <th>duration</th>\n",
       "      <td>476.023585</td>\n",
       "      <td>232.523748</td>\n",
       "      <td>529.000000</td>\n",
       "    </tr>\n",
       "    <tr>\n",
       "      <th>frequency</th>\n",
       "      <td>24.299398</td>\n",
       "      <td>16.768756</td>\n",
       "      <td>20.148853</td>\n",
       "    </tr>\n",
       "    <tr>\n",
       "      <th>num_bets</th>\n",
       "      <td>24558.452830</td>\n",
       "      <td>36778.787680</td>\n",
       "      <td>10464.500000</td>\n",
       "    </tr>\n",
       "    <tr>\n",
       "      <th>mean_bets_per_day</th>\n",
       "      <td>284.988926</td>\n",
       "      <td>343.720575</td>\n",
       "      <td>188.175380</td>\n",
       "    </tr>\n",
       "    <tr>\n",
       "      <th>mean_bet_size</th>\n",
       "      <td>213.216382</td>\n",
       "      <td>682.412984</td>\n",
       "      <td>24.965530</td>\n",
       "    </tr>\n",
       "    <tr>\n",
       "      <th>total_wagered</th>\n",
       "      <td>345579.044151</td>\n",
       "      <td>354890.079012</td>\n",
       "      <td>233915.905000</td>\n",
       "    </tr>\n",
       "    <tr>\n",
       "      <th>net_loss</th>\n",
       "      <td>8746.290143</td>\n",
       "      <td>11212.842660</td>\n",
       "      <td>6698.250000</td>\n",
       "    </tr>\n",
       "    <tr>\n",
       "      <th>percent_loss</th>\n",
       "      <td>2.574661</td>\n",
       "      <td>2.593843</td>\n",
       "      <td>2.521351</td>\n",
       "    </tr>\n",
       "    <tr>\n",
       "      <th>top_total_wagered</th>\n",
       "      <td>1.000000</td>\n",
       "      <td>0.000000</td>\n",
       "      <td>1.000000</td>\n",
       "    </tr>\n",
       "  </tbody>\n",
       "</table>\n",
       "</div>"
      ],
      "text/plain": [
       "                            mean            std         median\n",
       "duration              476.023585     232.523748     529.000000\n",
       "frequency              24.299398      16.768756      20.148853\n",
       "num_bets            24558.452830   36778.787680   10464.500000\n",
       "mean_bets_per_day     284.988926     343.720575     188.175380\n",
       "mean_bet_size         213.216382     682.412984      24.965530\n",
       "total_wagered      345579.044151  354890.079012  233915.905000\n",
       "net_loss             8746.290143   11212.842660    6698.250000\n",
       "percent_loss            2.574661       2.593843       2.521351\n",
       "top_total_wagered       1.000000       0.000000       1.000000"
      ]
     },
     "metadata": {},
     "output_type": "display_data"
    },
    {
     "data": {
      "text/html": [
       "<div>\n",
       "<style scoped>\n",
       "    .dataframe tbody tr th:only-of-type {\n",
       "        vertical-align: middle;\n",
       "    }\n",
       "\n",
       "    .dataframe tbody tr th {\n",
       "        vertical-align: top;\n",
       "    }\n",
       "\n",
       "    .dataframe thead th {\n",
       "        text-align: right;\n",
       "    }\n",
       "</style>\n",
       "<table border=\"1\" class=\"dataframe\">\n",
       "  <thead>\n",
       "    <tr style=\"text-align: right;\">\n",
       "      <th></th>\n",
       "      <th>mean</th>\n",
       "      <th>std</th>\n",
       "      <th>median</th>\n",
       "    </tr>\n",
       "  </thead>\n",
       "  <tbody>\n",
       "    <tr>\n",
       "      <th>duration</th>\n",
       "      <td>289.858853</td>\n",
       "      <td>233.213355</td>\n",
       "      <td>246.000000</td>\n",
       "    </tr>\n",
       "    <tr>\n",
       "      <th>frequency</th>\n",
       "      <td>15.904928</td>\n",
       "      <td>21.136601</td>\n",
       "      <td>6.861726</td>\n",
       "    </tr>\n",
       "    <tr>\n",
       "      <th>num_bets</th>\n",
       "      <td>2402.528678</td>\n",
       "      <td>7819.175770</td>\n",
       "      <td>485.500000</td>\n",
       "    </tr>\n",
       "    <tr>\n",
       "      <th>mean_bets_per_day</th>\n",
       "      <td>107.013836</td>\n",
       "      <td>176.064687</td>\n",
       "      <td>45.897791</td>\n",
       "    </tr>\n",
       "    <tr>\n",
       "      <th>mean_bet_size</th>\n",
       "      <td>25.326057</td>\n",
       "      <td>96.945569</td>\n",
       "      <td>3.826164</td>\n",
       "    </tr>\n",
       "    <tr>\n",
       "      <th>total_wagered</th>\n",
       "      <td>10338.071814</td>\n",
       "      <td>19359.770871</td>\n",
       "      <td>2284.452150</td>\n",
       "    </tr>\n",
       "    <tr>\n",
       "      <th>net_loss</th>\n",
       "      <td>421.706398</td>\n",
       "      <td>938.710858</td>\n",
       "      <td>107.000000</td>\n",
       "    </tr>\n",
       "    <tr>\n",
       "      <th>percent_loss</th>\n",
       "      <td>7.998612</td>\n",
       "      <td>11.804173</td>\n",
       "      <td>5.849977</td>\n",
       "    </tr>\n",
       "    <tr>\n",
       "      <th>top_total_wagered</th>\n",
       "      <td>0.000000</td>\n",
       "      <td>0.000000</td>\n",
       "      <td>0.000000</td>\n",
       "    </tr>\n",
       "  </tbody>\n",
       "</table>\n",
       "</div>"
      ],
      "text/plain": [
       "                           mean           std       median\n",
       "duration             289.858853    233.213355   246.000000\n",
       "frequency             15.904928     21.136601     6.861726\n",
       "num_bets            2402.528678   7819.175770   485.500000\n",
       "mean_bets_per_day    107.013836    176.064687    45.897791\n",
       "mean_bet_size         25.326057     96.945569     3.826164\n",
       "total_wagered      10338.071814  19359.770871  2284.452150\n",
       "net_loss             421.706398    938.710858   107.000000\n",
       "percent_loss           7.998612     11.804173     5.849977\n",
       "top_total_wagered      0.000000      0.000000     0.000000"
      ]
     },
     "metadata": {},
     "output_type": "display_data"
    }
   ],
   "source": [
    "# plot descriptive table(s) on the 95-5 split\n",
    "labelled_groups = gb.labelling.get_labelled_groups(labelled_measures, 'top_total_wagered')\n",
    "top5_table = gb.statistics.descriptive_table(labelled_groups[1])\n",
    "other95_table = gb.statistics.descriptive_table(labelled_groups[0])\n",
    "display(top5_table, other95_table)"
   ]
  },
  {
   "cell_type": "markdown",
   "metadata": {},
   "source": [
    "That's it! In around 10 lines of code the [*gamba*](https://github.com/gamba-dev/gamba) framework can fully replicate the findings of LaBrie et al's 2008 paper. The most interesting question now is how to expand this analysis to uncover more details from the data, or to calculate new behavioural measures and see if they are useful in any way. "
   ]
  }
 ],
 "metadata": {
  "kernelspec": {
   "display_name": "Python 3",
   "language": "python",
   "name": "python3"
  },
  "language_info": {
   "codemirror_mode": {
    "name": "ipython",
    "version": 3
   },
   "file_extension": ".py",
   "mimetype": "text/x-python",
   "name": "python",
   "nbconvert_exporter": "python",
   "pygments_lexer": "ipython3",
   "version": "3.8.5"
  }
 },
 "nbformat": 4,
 "nbformat_minor": 4
}
