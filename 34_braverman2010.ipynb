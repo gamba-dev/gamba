{
 "cells": [
  {
   "cell_type": "code",
   "execution_count": null,
   "metadata": {},
   "outputs": [],
   "source": [
    "# default_exp bravenman2010"
   ]
  },
  {
   "cell_type": "markdown",
   "metadata": {},
   "source": [
    "# Braverman and Shaffer 2010\n",
    "\n",
    "> Full replication"
   ]
  },
  {
   "cell_type": "markdown",
   "metadata": {},
   "source": [
    "This notebook attempts to reproduce the two tables found in Braverman and Shaffer's 2010 paper on behavioural markers for high-risk internet gambling. To get started, download the data titled '*How Do Gamblers Start Gambling: Identifying Behavioural Markers for High-risk Internet Gambling*' through the link below - you'll need the text files under 'Raw Dataset 2' and 'Analytic Dataset';\n",
    "\n",
    "- [Data Download (thetransparencyproject.org)](http://www.thetransparencyproject.org/download_index.php)\n",
    "- [Original data description](http://www.thetransparencyproject.org/codebooks/Codebook_forHighRisk1.pdf)\n",
    "- [Original paper link](https://academic.oup.com/eurpub/article/22/2/273/508362)\n",
    "\n",
    "File names: **RawDataSet2_DailyAggregation.txt** and **AnalyticDataSet_HighRisk.txt**\n",
    "\n",
    "[![Flag](https://img.shields.io/badge/-FLAG-red?style=flat-square)](https://img.shields.io/badge/-FLAG-red?style=flat-square)  Data description above implies RawDataSet2 contains actual betting data for players for the duration of the study, when it appears to only include a maximum of 31 days of betting data. This means the AnalyticDataSet cannot be faithfully reproduced using the raw data alone as the analytic data incudes full-duration behavioural measures (see final cell).\n",
    "\n",
    "[![Flag](https://img.shields.io/badge/-FLAG-red?style=flat-square)](https://img.shields.io/badge/-FLAG-red?style=flat-square)  The `trajectory` measure calculated here disagrees with the analytic data set, it specifically shows more extreme values for the gradient of the stakes. The reason for this issue is described below.\n",
    "\n",
    "With the data downloaded, the first step is to import [*gamba*](https://github.com/gamba-dev/gamba), run the cell below to get started;"
   ]
  },
  {
   "cell_type": "code",
   "execution_count": null,
   "metadata": {},
   "outputs": [],
   "source": [
    "import gamba as gb"
   ]
  },
  {
   "cell_type": "markdown",
   "metadata": {},
   "source": [
    "With [*gamba*](https://github.com/gamba-dev/gamba) ready, we need to load in both the analytic and raw data sets from the link above - we need to recreate the analytical data set from the raw data;"
   ]
  },
  {
   "cell_type": "code",
   "execution_count": null,
   "metadata": {},
   "outputs": [
    {
     "name": "stdout",
     "output_type": "stream",
     "text": [
      "raw data loaded: 5161\n",
      "analytic data loaded: 530\n"
     ]
    }
   ],
   "source": [
    "raw_data = gb.data.read_csv('RawDataSet2_DailyAggregation.txt', delimiter='\\t', parse_dates=['TimeDATE'])\n",
    "analytic_data = gb.data.read_csv('AnalyticDataSet_HighRisk.txt', delimiter='\\t')\n",
    "print('raw data loaded:', len(raw_data))\n",
    "print('analytic data loaded:', len(analytic_data))"
   ]
  },
  {
   "cell_type": "markdown",
   "metadata": {},
   "source": [
    "At this point, the data can be prepared for use in the gamba library. This can be done with the purpose-built `prepare_braverman_data` method in the `gamba.data` module;"
   ]
  },
  {
   "cell_type": "code",
   "execution_count": null,
   "metadata": {},
   "outputs": [],
   "source": [
    "all_player_bets = gb.data.prepare_braverman_data('RawDataSet2_DailyAggregation.txt')"
   ]
  },
  {
   "cell_type": "markdown",
   "metadata": {},
   "source": [
    "Now for the start of the study's replication - we begin by calculating the measures reported in the paper which include **intensity**, **frequency**, **variability**, **trajectory**, **sum of stakes**, **total number of bets**, **average bet size**, **duration of account betting**, and the **net loss incurred** for each player. These are all included in the `calculate_braverman_measures` method in the `gamba.measures` module;"
   ]
  },
  {
   "cell_type": "code",
   "execution_count": null,
   "metadata": {},
   "outputs": [
    {
     "name": "stderr",
     "output_type": "stream",
     "text": [
      "100%|██████████| 530/530 [00:07<00:00, 74.01it/s]\n"
     ]
    },
    {
     "data": {
      "text/html": [
       "<div>\n",
       "<style scoped>\n",
       "    .dataframe tbody tr th:only-of-type {\n",
       "        vertical-align: middle;\n",
       "    }\n",
       "\n",
       "    .dataframe tbody tr th {\n",
       "        vertical-align: top;\n",
       "    }\n",
       "\n",
       "    .dataframe thead th {\n",
       "        text-align: right;\n",
       "    }\n",
       "</style>\n",
       "<table border=\"1\" class=\"dataframe\">\n",
       "  <thead>\n",
       "    <tr style=\"text-align: right;\">\n",
       "      <th></th>\n",
       "      <th>player_id</th>\n",
       "      <th>intensity</th>\n",
       "      <th>frequency</th>\n",
       "      <th>variability</th>\n",
       "      <th>trajectory</th>\n",
       "      <th>sum_of_stakes</th>\n",
       "      <th>total_num_bets</th>\n",
       "      <th>average_bet_size</th>\n",
       "      <th>duration</th>\n",
       "      <th>net_loss</th>\n",
       "    </tr>\n",
       "  </thead>\n",
       "  <tbody>\n",
       "    <tr>\n",
       "      <th>364</th>\n",
       "      <td>1324368</td>\n",
       "      <td>6.160000</td>\n",
       "      <td>80.645161</td>\n",
       "      <td>104.616151</td>\n",
       "      <td>4.715685</td>\n",
       "      <td>2256.9700</td>\n",
       "      <td>154</td>\n",
       "      <td>14.655649</td>\n",
       "      <td>31</td>\n",
       "      <td>-354.4800</td>\n",
       "    </tr>\n",
       "    <tr>\n",
       "      <th>481</th>\n",
       "      <td>1324786</td>\n",
       "      <td>3.000000</td>\n",
       "      <td>43.333333</td>\n",
       "      <td>30.580785</td>\n",
       "      <td>3.617582</td>\n",
       "      <td>409.8700</td>\n",
       "      <td>39</td>\n",
       "      <td>10.509487</td>\n",
       "      <td>30</td>\n",
       "      <td>86.0700</td>\n",
       "    </tr>\n",
       "    <tr>\n",
       "      <th>484</th>\n",
       "      <td>1324808</td>\n",
       "      <td>4.285714</td>\n",
       "      <td>25.000000</td>\n",
       "      <td>5.516551</td>\n",
       "      <td>-0.917025</td>\n",
       "      <td>41.4455</td>\n",
       "      <td>30</td>\n",
       "      <td>1.381517</td>\n",
       "      <td>28</td>\n",
       "      <td>-4.9835</td>\n",
       "    </tr>\n",
       "  </tbody>\n",
       "</table>\n",
       "</div>"
      ],
      "text/plain": [
       "     player_id  intensity  frequency  variability  trajectory  sum_of_stakes  \\\n",
       "364    1324368   6.160000  80.645161   104.616151    4.715685      2256.9700   \n",
       "481    1324786   3.000000  43.333333    30.580785    3.617582       409.8700   \n",
       "484    1324808   4.285714  25.000000     5.516551   -0.917025        41.4455   \n",
       "\n",
       "     total_num_bets  average_bet_size  duration  net_loss  \n",
       "364             154         14.655649        31 -354.4800  \n",
       "481              39         10.509487        30   86.0700  \n",
       "484              30          1.381517        28   -4.9835  "
      ]
     },
     "metadata": {},
     "output_type": "display_data"
    }
   ],
   "source": [
    "measures = gb.measures.calculate_braverman_measures(all_player_bets) # this method saves them to a file called 'gamba_braverman_measures.csv'\n",
    "measures.sort_values('player_id', inplace=True) # lets sort them by ID and display the first 3;\n",
    "display(measures.head(3))"
   ]
  },
  {
   "cell_type": "markdown",
   "metadata": {},
   "source": [
    "As a sanity check, we can display the original measures calculated for the three players above (after renaming the columns to more intuitive ones);"
   ]
  },
  {
   "cell_type": "code",
   "execution_count": null,
   "metadata": {},
   "outputs": [
    {
     "data": {
      "text/plain": [
       "Index(['UserID', 'CountryID', 'Gender', 'ageRDATE', 'Sereason', 'p2sumstake',\n",
       "       'p2sumbet', 'p2sumday', 'p2intvday', 'p2bpd', 'p2net', 'p2bpd1m',\n",
       "       'p2stakeSD1m', 'p2totalactivedays1m', 'p2stakeSlope1m', 'Zp2bpd1m',\n",
       "       'Zp2stakeSD1m', 'Zp2totalactivedays1m', 'Zp2stakeslope1m', 'random',\n",
       "       'p2clusteringactivity', 'p2clusterhalf1', 'p2clusterhalf2'],\n",
       "      dtype='object')"
      ]
     },
     "metadata": {},
     "output_type": "display_data"
    },
    {
     "data": {
      "text/html": [
       "<div>\n",
       "<style scoped>\n",
       "    .dataframe tbody tr th:only-of-type {\n",
       "        vertical-align: middle;\n",
       "    }\n",
       "\n",
       "    .dataframe tbody tr th {\n",
       "        vertical-align: top;\n",
       "    }\n",
       "\n",
       "    .dataframe thead th {\n",
       "        text-align: right;\n",
       "    }\n",
       "</style>\n",
       "<table border=\"1\" class=\"dataframe\">\n",
       "  <thead>\n",
       "    <tr style=\"text-align: right;\">\n",
       "      <th></th>\n",
       "      <th>UserID</th>\n",
       "      <th>CountryID</th>\n",
       "      <th>Gender</th>\n",
       "      <th>ageRDATE</th>\n",
       "      <th>Sereason</th>\n",
       "      <th>p2sumstake</th>\n",
       "      <th>p2sumbet</th>\n",
       "      <th>p2sumday</th>\n",
       "      <th>p2intvday</th>\n",
       "      <th>p2bpd</th>\n",
       "      <th>...</th>\n",
       "      <th>p2totalactivedays1m</th>\n",
       "      <th>p2stakeSlope1m</th>\n",
       "      <th>Zp2bpd1m</th>\n",
       "      <th>Zp2stakeSD1m</th>\n",
       "      <th>Zp2totalactivedays1m</th>\n",
       "      <th>Zp2stakeslope1m</th>\n",
       "      <th>random</th>\n",
       "      <th>p2clusteringactivity</th>\n",
       "      <th>p2clusterhalf1</th>\n",
       "      <th>p2clusterhalf2</th>\n",
       "    </tr>\n",
       "  </thead>\n",
       "  <tbody>\n",
       "    <tr>\n",
       "      <th>0</th>\n",
       "      <td>1324368</td>\n",
       "      <td>620</td>\n",
       "      <td>1</td>\n",
       "      <td>21</td>\n",
       "      <td>3</td>\n",
       "      <td>6202.5700</td>\n",
       "      <td>347</td>\n",
       "      <td>68</td>\n",
       "      <td>308</td>\n",
       "      <td>5.102941</td>\n",
       "      <td>...</td>\n",
       "      <td>25</td>\n",
       "      <td>0.038441</td>\n",
       "      <td>0.367245</td>\n",
       "      <td>0.410294</td>\n",
       "      <td>3.456178</td>\n",
       "      <td>0.155683</td>\n",
       "      <td>0.512291</td>\n",
       "      <td>3</td>\n",
       "      <td></td>\n",
       "      <td>3</td>\n",
       "    </tr>\n",
       "    <tr>\n",
       "      <th>1</th>\n",
       "      <td>1324786</td>\n",
       "      <td>40</td>\n",
       "      <td>1</td>\n",
       "      <td>19</td>\n",
       "      <td>1</td>\n",
       "      <td>665.8765</td>\n",
       "      <td>57</td>\n",
       "      <td>26</td>\n",
       "      <td>540</td>\n",
       "      <td>2.192308</td>\n",
       "      <td>...</td>\n",
       "      <td>13</td>\n",
       "      <td>0.122799</td>\n",
       "      <td>-0.239092</td>\n",
       "      <td>-0.069475</td>\n",
       "      <td>1.344293</td>\n",
       "      <td>0.273148</td>\n",
       "      <td>0.410518</td>\n",
       "      <td>4</td>\n",
       "      <td>4</td>\n",
       "      <td></td>\n",
       "    </tr>\n",
       "    <tr>\n",
       "      <th>2</th>\n",
       "      <td>1324808</td>\n",
       "      <td>616</td>\n",
       "      <td>1</td>\n",
       "      <td>20</td>\n",
       "      <td>2</td>\n",
       "      <td>843.2210</td>\n",
       "      <td>306</td>\n",
       "      <td>105</td>\n",
       "      <td>679</td>\n",
       "      <td>2.914286</td>\n",
       "      <td>...</td>\n",
       "      <td>7</td>\n",
       "      <td>-0.108439</td>\n",
       "      <td>0.007609</td>\n",
       "      <td>-0.231898</td>\n",
       "      <td>0.288350</td>\n",
       "      <td>-0.048842</td>\n",
       "      <td>0.384736</td>\n",
       "      <td>4</td>\n",
       "      <td>4</td>\n",
       "      <td></td>\n",
       "    </tr>\n",
       "  </tbody>\n",
       "</table>\n",
       "<p>3 rows × 23 columns</p>\n",
       "</div>"
      ],
      "text/plain": [
       "    UserID  CountryID  Gender  ageRDATE  Sereason  p2sumstake  p2sumbet  \\\n",
       "0  1324368        620       1        21         3   6202.5700       347   \n",
       "1  1324786         40       1        19         1    665.8765        57   \n",
       "2  1324808        616       1        20         2    843.2210       306   \n",
       "\n",
       "   p2sumday  p2intvday     p2bpd  ...  p2totalactivedays1m  p2stakeSlope1m  \\\n",
       "0        68        308  5.102941  ...                   25        0.038441   \n",
       "1        26        540  2.192308  ...                   13        0.122799   \n",
       "2       105        679  2.914286  ...                    7       -0.108439   \n",
       "\n",
       "   Zp2bpd1m  Zp2stakeSD1m  Zp2totalactivedays1m  Zp2stakeslope1m    random  \\\n",
       "0  0.367245      0.410294              3.456178         0.155683  0.512291   \n",
       "1 -0.239092     -0.069475              1.344293         0.273148  0.410518   \n",
       "2  0.007609     -0.231898              0.288350        -0.048842  0.384736   \n",
       "\n",
       "   p2clusteringactivity  p2clusterhalf1  p2clusterhalf2  \n",
       "0                     3                               3  \n",
       "1                     4               4                  \n",
       "2                     4               4                  \n",
       "\n",
       "[3 rows x 23 columns]"
      ]
     },
     "metadata": {},
     "output_type": "display_data"
    },
    {
     "data": {
      "text/html": [
       "<div>\n",
       "<style scoped>\n",
       "    .dataframe tbody tr th:only-of-type {\n",
       "        vertical-align: middle;\n",
       "    }\n",
       "\n",
       "    .dataframe tbody tr th {\n",
       "        vertical-align: top;\n",
       "    }\n",
       "\n",
       "    .dataframe thead th {\n",
       "        text-align: right;\n",
       "    }\n",
       "</style>\n",
       "<table border=\"1\" class=\"dataframe\">\n",
       "  <thead>\n",
       "    <tr style=\"text-align: right;\">\n",
       "      <th></th>\n",
       "      <th>player_id</th>\n",
       "      <th>intensity</th>\n",
       "      <th>frequency</th>\n",
       "      <th>variability</th>\n",
       "      <th>trajectory</th>\n",
       "      <th>sum_of_stakes</th>\n",
       "      <th>total_num_bets</th>\n",
       "      <th>average_bet_size</th>\n",
       "      <th>duration</th>\n",
       "      <th>net_loss</th>\n",
       "    </tr>\n",
       "  </thead>\n",
       "  <tbody>\n",
       "    <tr>\n",
       "      <th>0</th>\n",
       "      <td>1324368</td>\n",
       "      <td>6.160000</td>\n",
       "      <td>25</td>\n",
       "      <td>104.616151</td>\n",
       "      <td>0.038441</td>\n",
       "      <td>6202.5700</td>\n",
       "      <td>347</td>\n",
       "      <td>17.874841</td>\n",
       "      <td>308</td>\n",
       "      <td>57.9500</td>\n",
       "    </tr>\n",
       "    <tr>\n",
       "      <th>1</th>\n",
       "      <td>1324786</td>\n",
       "      <td>3.000000</td>\n",
       "      <td>13</td>\n",
       "      <td>30.580785</td>\n",
       "      <td>0.122799</td>\n",
       "      <td>665.8765</td>\n",
       "      <td>57</td>\n",
       "      <td>11.682044</td>\n",
       "      <td>540</td>\n",
       "      <td>116.0765</td>\n",
       "    </tr>\n",
       "    <tr>\n",
       "      <th>2</th>\n",
       "      <td>1324808</td>\n",
       "      <td>4.285714</td>\n",
       "      <td>7</td>\n",
       "      <td>5.516551</td>\n",
       "      <td>-0.108439</td>\n",
       "      <td>843.2210</td>\n",
       "      <td>306</td>\n",
       "      <td>2.755624</td>\n",
       "      <td>679</td>\n",
       "      <td>-27.4005</td>\n",
       "    </tr>\n",
       "  </tbody>\n",
       "</table>\n",
       "</div>"
      ],
      "text/plain": [
       "   player_id  intensity  frequency  variability  trajectory  sum_of_stakes  \\\n",
       "0    1324368   6.160000         25   104.616151    0.038441      6202.5700   \n",
       "1    1324786   3.000000         13    30.580785    0.122799       665.8765   \n",
       "2    1324808   4.285714          7     5.516551   -0.108439       843.2210   \n",
       "\n",
       "   total_num_bets  average_bet_size  duration  net_loss  \n",
       "0             347         17.874841       308   57.9500  \n",
       "1              57         11.682044       540  116.0765  \n",
       "2             306          2.755624       679  -27.4005  "
      ]
     },
     "metadata": {},
     "output_type": "display_data"
    }
   ],
   "source": [
    "players = measures['player_id'].values[:3] # get only the first 3 values (those above)\n",
    "display(analytic_data.columns)\n",
    "display(analytic_data.head(3))\n",
    "analytic_data['average_bet_size'] = analytic_data['p2sumstake'] / analytic_data['p2sumbet']\n",
    "original_analysis = analytic_data[['UserID','p2bpd1m','p2totalactivedays1m','p2stakeSD1m','p2stakeSlope1m','p2sumstake','p2sumbet','average_bet_size','p2intvday','p2net']]\n",
    "original_analysis.columns = ['player_id','intensity','frequency','variability','trajectory','sum_of_stakes','total_num_bets','average_bet_size','duration','net_loss']\n",
    "original_analysis.sort_values('player_id', inplace=True) # after changing the column names, sort them by player ID (as above)\n",
    "display(original_analysis.head(3))"
   ]
  },
  {
   "cell_type": "markdown",
   "metadata": {},
   "source": [
    "This is a little puzzling as some of the measures align, yet others such as `total_num_bets` and `duration` appear to be underestimates compared to the original analysis, the `trajectory` measure also appears more extreme. To find out what's causing this difference, we can explore the duration of the data in the raw data set;"
   ]
  },
  {
   "cell_type": "code",
   "execution_count": null,
   "metadata": {},
   "outputs": [
    {
     "name": "stdout",
     "output_type": "stream",
     "text": [
      "unique players found: 530\n",
      "maximum duration found: 31\n"
     ]
    }
   ],
   "source": [
    "raw_data = gb.data.read_csv('RawDataSet2_DailyAggregation.txt', delimiter='\\t', parse_dates=['TimeDATE'])\n",
    "\n",
    "all_player_ids = set(list(raw_data['UserID']))\n",
    "max_duration = 0\n",
    "for player_id in all_player_ids:\n",
    "    \n",
    "    player_bets = raw_data[raw_data['UserID'] == player_id].copy()\n",
    "    \n",
    "    player_bets.rename(columns={'TimeDATE':'bet_time'}, inplace=True)\n",
    "    duration = gb.measures.duration(player_bets)\n",
    "    \n",
    "    if duration > max_duration:\n",
    "        max_duration = duration\n",
    "\n",
    "print('unique players found:', len(all_player_ids))\n",
    "print('maximum duration found:', max_duration)"
   ]
  },
  {
   "cell_type": "markdown",
   "metadata": {},
   "source": [
    "The raw data contains a maximum of 31 days of betting data per player, therefore the analytic data set cannot be *completely* reproduced using the raw data alone, hence the original analytic data will be taken forward as opposed to an exactly replicated data set.\n",
    "\n",
    "This means that as we cannot compute the measures exactly, the next best thing is to verify the accuracy of the clustering described in the paper, we can do this using the `k_means` functions from gamba's clustering module;"
   ]
  },
  {
   "cell_type": "markdown",
   "metadata": {},
   "source": [
    "This next cell aims to recreate the k-means method described on page 3 of the paper, under the heading *Statistical analysis*;"
   ]
  },
  {
   "cell_type": "code",
   "execution_count": null,
   "metadata": {},
   "outputs": [
    {
     "data": {
      "text/html": [
       "<div>\n",
       "<style scoped>\n",
       "    .dataframe tbody tr th:only-of-type {\n",
       "        vertical-align: middle;\n",
       "    }\n",
       "\n",
       "    .dataframe tbody tr th {\n",
       "        vertical-align: top;\n",
       "    }\n",
       "\n",
       "    .dataframe thead th {\n",
       "        text-align: right;\n",
       "    }\n",
       "</style>\n",
       "<table border=\"1\" class=\"dataframe\">\n",
       "  <thead>\n",
       "    <tr style=\"text-align: right;\">\n",
       "      <th></th>\n",
       "      <th>n=374</th>\n",
       "      <th>n=36</th>\n",
       "      <th>n=8</th>\n",
       "      <th>n=112</th>\n",
       "    </tr>\n",
       "    <tr>\n",
       "      <th>cluster_centroid</th>\n",
       "      <th></th>\n",
       "      <th></th>\n",
       "      <th></th>\n",
       "      <th></th>\n",
       "    </tr>\n",
       "  </thead>\n",
       "  <tbody>\n",
       "    <tr>\n",
       "      <th>intensity</th>\n",
       "      <td>-0.388466</td>\n",
       "      <td>0.829799</td>\n",
       "      <td>-0.184170</td>\n",
       "      <td>1.043632</td>\n",
       "    </tr>\n",
       "    <tr>\n",
       "      <th>frequency</th>\n",
       "      <td>-0.402049</td>\n",
       "      <td>1.139525</td>\n",
       "      <td>1.084161</td>\n",
       "      <td>0.898839</td>\n",
       "    </tr>\n",
       "    <tr>\n",
       "      <th>variability</th>\n",
       "      <td>-0.290654</td>\n",
       "      <td>0.269144</td>\n",
       "      <td>2.915477</td>\n",
       "      <td>0.675816</td>\n",
       "    </tr>\n",
       "    <tr>\n",
       "      <th>trajectory</th>\n",
       "      <td>-0.052216</td>\n",
       "      <td>0.116352</td>\n",
       "      <td>-1.481324</td>\n",
       "      <td>0.242775</td>\n",
       "    </tr>\n",
       "    <tr>\n",
       "      <th>sum_of_stakes</th>\n",
       "      <td>-0.303392</td>\n",
       "      <td>1.981813</td>\n",
       "      <td>4.008502</td>\n",
       "      <td>0.089778</td>\n",
       "    </tr>\n",
       "    <tr>\n",
       "      <th>total_num_bets</th>\n",
       "      <td>-0.313098</td>\n",
       "      <td>2.557085</td>\n",
       "      <td>0.323450</td>\n",
       "      <td>0.200500</td>\n",
       "    </tr>\n",
       "    <tr>\n",
       "      <th>average_bet_size</th>\n",
       "      <td>-0.174562</td>\n",
       "      <td>0.282823</td>\n",
       "      <td>5.647233</td>\n",
       "      <td>0.088630</td>\n",
       "    </tr>\n",
       "    <tr>\n",
       "      <th>duration</th>\n",
       "      <td>-0.189037</td>\n",
       "      <td>1.055021</td>\n",
       "      <td>-0.237592</td>\n",
       "      <td>0.309104</td>\n",
       "    </tr>\n",
       "    <tr>\n",
       "      <th>net_loss</th>\n",
       "      <td>-0.272929</td>\n",
       "      <td>1.818758</td>\n",
       "      <td>4.456281</td>\n",
       "      <td>0.008482</td>\n",
       "    </tr>\n",
       "    <tr>\n",
       "      <th>cluster</th>\n",
       "      <td>0.000000</td>\n",
       "      <td>1.000000</td>\n",
       "      <td>2.000000</td>\n",
       "      <td>3.000000</td>\n",
       "    </tr>\n",
       "  </tbody>\n",
       "</table>\n",
       "</div>"
      ],
      "text/plain": [
       "                     n=374      n=36       n=8     n=112\n",
       "cluster_centroid                                        \n",
       "intensity        -0.388466  0.829799 -0.184170  1.043632\n",
       "frequency        -0.402049  1.139525  1.084161  0.898839\n",
       "variability      -0.290654  0.269144  2.915477  0.675816\n",
       "trajectory       -0.052216  0.116352 -1.481324  0.242775\n",
       "sum_of_stakes    -0.303392  1.981813  4.008502  0.089778\n",
       "total_num_bets   -0.313098  2.557085  0.323450  0.200500\n",
       "average_bet_size -0.174562  0.282823  5.647233  0.088630\n",
       "duration         -0.189037  1.055021 -0.237592  0.309104\n",
       "net_loss         -0.272929  1.818758  4.456281  0.008482\n",
       "cluster           0.000000  1.000000  2.000000  3.000000"
      ]
     },
     "execution_count": null,
     "metadata": {},
     "output_type": "execute_result"
    }
   ],
   "source": [
    "standardised_measures_table = gb.measures.standardise_measures_table(original_analysis)\n",
    "\n",
    "clustered_data = gb.machine_learning.k_means(standardised_measures_table, clusters=4, data_only=True)\n",
    "\n",
    "gb.machine_learning.describe_clusters(clustered_data)"
   ]
  },
  {
   "cell_type": "markdown",
   "metadata": {},
   "source": [
    "The random initialisation of the k-means algorithm means that it is unlikely to exactly reproduce any previous k-means clusters on the data. This is a problem for *exact* replication, but, we can be sure that the algorithm is being applied and that clusters are being identified based on the descriptions above.\n",
    "\n",
    "Note: this can be fixed by seeding probabilistic studies in the future!\n",
    "\n",
    "What to do with this information is the next question, and as the raw data to analytic data attempt above showed some discrepancies, it's impossible to exactly replicate this particular study (as with other types of probabilistic analyses)."
   ]
  }
 ],
 "metadata": {
  "kernelspec": {
   "display_name": "Python 3",
   "language": "python",
   "name": "python3"
  }
 },
 "nbformat": 4,
 "nbformat_minor": 4
}
